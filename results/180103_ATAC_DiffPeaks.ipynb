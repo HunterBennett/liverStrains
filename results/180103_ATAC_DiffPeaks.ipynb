{
 "cells": [
  {
   "cell_type": "markdown",
   "metadata": {},
   "source": [
    "Hunter Bennett  \n",
    "Christopher K Glass Laboratory  \n",
    "Created 20180103 | Last updated 20180103\n",
    "_____\n",
    "\n",
    "Here we want to use a more complex differential calling software (DESeq2, edgeR) to analyze the differential peaks in our ATAC Seq Data"
   ]
  },
  {
   "cell_type": "code",
   "execution_count": 1,
   "metadata": {},
   "outputs": [],
   "source": [
    "import numpy as np\n",
    "import pandas as pd\n",
    "import seaborn as sns\n",
    "import matplotlib.pyplot as plt\n",
    "from IPython.display import Image\n",
    "import subprocess\n",
    "import os\n",
    "import sys\n",
    "import glob\n",
    "import re\n",
    "\n",
    "# import user defined packages\n",
    "sys.path.insert(0, '/home/h1bennet/scripts')\n",
    "import hbUtils\n",
    "\n",
    "# plot matplotlib plots in notebook\n",
    "%matplotlib inline"
   ]
  },
  {
   "cell_type": "code",
   "execution_count": 2,
   "metadata": {},
   "outputs": [],
   "source": [
    "# define path to data\n",
    "datapath = {'kupffer':'/data/mm10/Kupffer/ATAC/'}\n",
    "\n",
    "# define output directory\n",
    "outdir = '/home/h1bennet/liverStrains/results/180103_ATAC/'\n",
    "\n",
    "if not os.path.isdir(outdir):\n",
    "    subprocess.call(['mkdir', outdir])\n",
    "\n",
    "# define samples for both whole liver and kupffer\n",
    "samples = {'kupffer':[\"aj_Kupffer_ATAC_AMLNDiet_30week_AJ3A_JSS_TDT_16_09_26\",\n",
    "\"aj_Kupffer_ATAC_AMLNDiet_30week_AJ3B_JSS_TDT_16_09_26\",\n",
    "\"aj_Kupffer_ATAC_ControlDiet_30week_AJ1B_JSS_TDT_16_09_26\",\n",
    "\"aj_Kupffer_ATAC_ControlDiet_30week_AJ1C_JSS_TDT_16_09_28\",\n",
    "\"balbc_Kupffer_ATAC_AMLNDiet_30week_Balb3C_JSS_TDT_16_09_26\",\n",
    "\"balbc_Kupffer_ATAC_AMLNDiet_30week_Balb3D_JSS_TDT_16_09_28\",\n",
    "\"balbc_Kupffer_ATAC_ControlDiet_30week_Balb1A_JSS_TDT_16_09_26\",\n",
    "\"balbc_Kupffer_ATAC_ControlDiet_30week_Balb1B_JSS_TDT_16_09_26\",\n",
    "\"NCoRWT_KupfferTotal_ATAC_AMLNDiet_30week_LN136C_JSS_TDT_16_09_19\",\n",
    "\"NCoRWT_KupfferTotal_ATAC_AMLNDiet_30week_LN141A_JSS_TDT_16_09_21\",\n",
    "\"NCoRWT_KupfferTotal_ATAC_ControlDiet_30week_LN134B_JSS_TDT_16_09_21\",\n",
    "\"NCoRWT_KupfferTotal_ATAC_ControlDiet_30week_LN134D_JSS_TDT_16_09_21\"]}\n",
    "\n",
    "bad_samples = {'LN140D': 'cancer', 'LN136B': 'cancer', 'LN148B': 'cancer',\n",
    "              'LN144A': 'cancer', 'LN144C': 'cancer', 'LN182B': 'cancer',\n",
    "              'LN182B': 'cancer', 'LN203B': 'cancer', 'BALB3A': 'splenomegaly',\n",
    "              'BALB4D': 'hyper-fibrosis', 'LN148B': 'cancer', 'LN166A': 'cancer'}"
   ]
  },
  {
   "cell_type": "code",
   "execution_count": 3,
   "metadata": {},
   "outputs": [],
   "source": [
    "# user defined functions\n",
    "def merge_peaks(peak1, peak2, outfile, dist='given', print_err=False):\n",
    "    import subprocess\n",
    "    import os\n",
    "    # construct function call\n",
    "    mP_call = [\"mergePeaks\"]\n",
    "    mP_call.extend(['-d', dist])\n",
    "    mP_call.extend([peak1,\n",
    "                    peak2])\n",
    "    # call merge peaks\n",
    "    if not os.path.isfile(outfile):\n",
    "        print('calling mergePeaks...')\n",
    "        p = subprocess.Popen(mP_call,\n",
    "                            stdout = subprocess.PIPE,\n",
    "                            stderr = subprocess.PIPE)\n",
    "        output, err = p.communicate() #in bytes\n",
    "        if print_err: print(err.decode('utf-8'))\n",
    "        f = open(outdir + '/' + name + '_merge.txt', 'w')\n",
    "        f.write(output.decode(\"utf-8\"))\n",
    "        f.close()\n",
    "    else: print('merge peaks file ' + outdir + '/optimal_peakfile_merge.txt already exists!')\n",
    "    return outdir + '/' + name + '_merge.txt'\n",
    "\n",
    "def anno_peaks(dir1, dir2, outdir, dist='given', noann=False, nogene=False, print_err=False):\n",
    "    import subprocess\n",
    "    import os\n",
    "    # call merge peaks\n",
    "    mPPath = merge_peaks(dir1, dir2, outdir, dist, print_err=print_err)\n",
    "    # construct function call\n",
    "    aPCallList = ['annotatePeaks.pl', mPPath, 'mm10']\n",
    "    if noann: aPCallList.extend(['-noann'])\n",
    "    if nogene: aPCallList.extend(['-nogene'])\n",
    "    aPCallList.extend(['-d', dir1 + '/pooled_tag_dirs', dir2 + '/pooled_tag_dirs'])\n",
    "    # call annotate peaks\n",
    "    aPPath = mPPath.replace('.txt', '_anno.txt')\n",
    "    if not os.path.isfile(aPPath):\n",
    "        print('calling annotatePeaks...')\n",
    "        p = subprocess.Popen(aPCallList,\n",
    "                         stdout=subprocess.PIPE,\n",
    "                         stderr=subprocess.PIPE)\n",
    "        output, err = p.communicate()\n",
    "        if print_err: print(err.decode('utf-8'))\n",
    "        #write output\n",
    "        f = open(aPPath, 'w')\n",
    "        f.write(output.decode(\"utf-8\"))\n",
    "        f.close()\n",
    "    else: print('annotate peaks file: ' + aPPath + ' already exists!')\n",
    "    return aPPath\n",
    "\n",
    "def diff_peaks(dir1, dir2, outdir, dist='given', name='', rev=False, print_err=False):\n",
    "    import subprocess\n",
    "    import os\n",
    "    # make output directory if necessary\n",
    "    if not os.path.isdir(outdir): subprocess.call([\"mkdir\", outdir])\n",
    "    # call merge peaks\n",
    "    mPPath = merge_peaks(dir1, dir2, outdir, dist, name=name)\n",
    "    # create differential peaks all\n",
    "    gDPCall = [\"getDifferentialPeaks\", mPPath,\n",
    "                        dir1 + \"/pooled_tag_dirs\",\n",
    "                        dir2 + \"/pooled_tag_dirs\"]\n",
    "    # adjust if it will call reverse peaks against background\n",
    "    if rev:\n",
    "        gDPCall.append(\"-rev\")\n",
    "        dPPath = outdir + '/' +  name + 'diffpeaks_rev.txt'\n",
    "    else:\n",
    "        dPPath = outdir + '/' +  name + 'diffpeaks.txt'\n",
    "    # call differential peaks\n",
    "    if not os.path.isfile(dPPath):\n",
    "        print('calling getDifferentialPeaks...')\n",
    "        p = subprocess.Popen(gDPCall,\n",
    "                        stdout = subprocess.PIPE,\n",
    "                        stderr = subprocess.PIPE)\n",
    "        output, err = p.communicate() #in bytes\n",
    "        if print_err: print(err.decode('utf-8'))\n",
    "        # print output\n",
    "        f = open(dPPath, 'w')\n",
    "        f.write(output.decode(\"utf-8\"))\n",
    "        f.close()\n",
    "    else: print('diff peaks file: ' + dPPath + ' already exists!')\n",
    "    return dPPath\n",
    "\n",
    "def find_motifs_genome(peakfile, genome, outdir, size = 200, force=False):\n",
    "    import subprocess\n",
    "    import os\n",
    "\n",
    "    if not os.path.isdir(outdir):\n",
    "        subprocess.call([\"mkdir\", outdir])\n",
    "    \n",
    "    homerCall = [\"findMotifsGenome.pl\", peakfile, genome, outdir, \"-size\", \"200\"]\n",
    "    if ((not os.path.isdir(outdir + 'homerResults')) & (not force)):\n",
    "        print('calling homer...')\n",
    "        p = subprocess.call(homerCall)\n",
    "    else: print('homer file already detected, use force=True to overwrite')\n",
    "    \n",
    "def clean_sample_IDs(idList):\n",
    "    import re\n",
    "    p = re.compile('C57[\\w]{0,3}_', re.IGNORECASE)\n",
    "    tmp = [i.replace(\"-\", \"_\").strip(\"mouse_\") for i in idList]\n",
    "    tmp = [p.sub(i, \"C57BL6_\", re.I) for i in tmp]\n",
    "    cleanIdList = []\n",
    "    for i in tmp:\n",
    "        idParts = i.split(\"_\")\n",
    "        idParts[0] = idParts[0].upper()\n",
    "        cleanIdList.append(\"_\".join(idParts))\n",
    "    return cleanIdList\n",
    "\n",
    "def run_atac_diff_peaks(dir1, dir2, outdir, dist='given', print_err=False):\n",
    "    '''Compare the peaks from dir1 and dir1, output basic graphs and a\n",
    "    pandas data frame with annotations and differential peaks marked.\n",
    "    \n",
    "    takes the full path to the directories and output directory\n",
    "    '''\n",
    "    import subprocess\n",
    "    import os\n",
    "    import pandas\n",
    "    \n",
    "    if not os.path.isdir(outdir):\n",
    "        subprocess.call([\"mkdir\", outdir])\n",
    "    samples= [dir1.split('/')[-1], dir2.split('/')[-1]]\n",
    "    ## Call anno peaks ##\n",
    "    aPPath = anno_peaks(dir1, dir2, outdir, dist=dist, print_err=print_err)\n",
    "    ## Get diff peaks ##\n",
    "    dPPath = diff_peaks(dir1, dir2, outdir, dist=dist, print_err=print_err)\n",
    "    dP = read_diff_peak_file(dPPath)\n",
    "    dPPathRev = diff_peaks(dir1, dir2, outdir, dist=dist, print_err=print_err, rev=True)\n",
    "    dPRev = read_diff_peak_file(dPPathRev)\n",
    "    # we will plot with out main peak file\n",
    "    peaks = pd.read_csv(aPPath, sep='\\t', comment=None)\n",
    "    sample_cols = list(peaks.columns.values[-2:])\n",
    "    peaks.columns.values[0] = 'PeakID'\n",
    "    peaks = peaks.set_index('PeakID')\n",
    "    # Annotate main peaks file with whether peaks are differential\n",
    "    peaks.loc[:,'diffPeak'] = ['nonsig'] * peaks.shape[0]\n",
    "    peaks.loc[peaks.index.str.contains('|'.join(dP.iloc[:, 0])), 'diffPeak'] = 'up'\n",
    "    peaks.loc[peaks.index.str.contains('|'.join(dPRev.iloc[:, 0])), 'diffPeak'] = 'dn'\n",
    "\n",
    "    # add log2 scale for counts for plotting\n",
    "    peaks.loc[:, 'log2'+samples[0]] = np.log2(peaks.loc[:, sample_cols[0]] + 1)\n",
    "    peaks.loc[:, 'log2'+samples[1]] = np.log2(peaks.loc[:, sample_cols[1]] + 1)\n",
    "    f = sns.lmplot(x='log2'+samples[1],\n",
    "            y='log2'+samples[0],\n",
    "            data=peaks,\n",
    "            fit_reg=False,\n",
    "            hue='diffPeak',\n",
    "            hue_order=['nonsig', 'up', 'dn'],\n",
    "            size=8)\n",
    "    plt.title('Shared ATAC Peaks')\n",
    "    \n",
    "    return (peaks, dP, dPRev)\n",
    "\n",
    "def read_diff_peak_file(dppath, nSkip=18):\n",
    "    import pandas as pd\n",
    "    from pandas.parser import CParserError\n",
    "    \n",
    "    try:\n",
    "        dP = pd.read_csv(dppath, sep = '\\t', skiprows = nSkip, comment=None)\n",
    "        return dP\n",
    "    except CParserError:\n",
    "        print('skipped incorrect number of lines, check input file')\n",
    "        return None\n",
    "    return None"
   ]
  },
  {
   "cell_type": "code",
   "execution_count": 4,
   "metadata": {},
   "outputs": [],
   "source": [
    "# define sample data frame\n",
    "samplesDF = pd.DataFrame([s for groups in samples.values() for s in groups], columns = ['subject'])\n",
    "samplesDF['sample_type'] = ['liver' if 'WholeLiver' in name else 'kupffer' for name in samplesDF.subject]\n",
    "samplesDF['path'] = [datapath[key] + s for key in datapath.keys() for s in samples[key]]\n",
    "samplesDF['batch'] = pd.factorize(samplesDF.subject\\\n",
    "             .str.replace('-','_')\\\n",
    "             .str.findall(r'(\\d+_\\d+_\\d+)').str[0])[0]\n",
    "samplesDF['strain'] = [j.replace('-', '_').split('_')[0].lower() for j in samplesDF.subject]\n",
    "samplesDF['diet'] = ['amln' if 'AMLN' in name else 'control' for name in samplesDF.subject]\n",
    "samplesDF['group'] = samplesDF.strain + '_' + samplesDF.diet\n",
    "samplesDF['group_tissue'] = samplesDF.strain + '_' + samplesDF.diet + '_' + samplesDF.sample_type\n",
    "samplesDF['exclusion'] = samplesDF.subject.str.contains('|'.join(bad_samples.keys()),\n",
    "                                                       flags=re.IGNORECASE)"
   ]
  },
  {
   "cell_type": "code",
   "execution_count": 5,
   "metadata": {},
   "outputs": [],
   "source": [
    "# set colors for the samples\n",
    "color_dict = {'aj_control':'#fb9a99', 'aj_amln':'#e31a1c',\n",
    "              'balbc_control':'#a6cee3', 'balbc_amln':'#1f78b4',\n",
    "              'ncorwt_control':'#b2df8a', 'ncorwt_amln':'#33a02c'}\n",
    "color_dict_tissue = {'aj_control_kupffer':'#fb9a99', 'aj_amln_kupffer':'#e31a1c',\n",
    "            'balbc_control_kupffer':'#a6cee3', 'balbc_amln_kupffer':'#1f78b4',\n",
    "            'ncorwt_control_kupffer':'#b2df8a', 'ncorwt_amln_kupffer':'#33a02c',\n",
    "            'aj_control_liver':'#fdae6b', 'aj_amln_liver':'#e6550d',\n",
    "            'balbc_control_liver':'#bcbddc', 'balbc_amln_liver':'#756bb1',\n",
    "            'ncorwt_control_liver':'#bdbdbd', 'ncorwt_amln_liver':'#737373'}\n",
    "samplesDF['color'] = [color_dict[group] for group in samplesDF.group]\n",
    "\n",
    "# write out samplesDF\n",
    "samplesDF.to_csv(outdir + 'amln_samples.txt', sep='\\t')"
   ]
  },
  {
   "cell_type": "code",
   "execution_count": 6,
   "metadata": {},
   "outputs": [
    {
     "name": "stdout",
     "output_type": "stream",
     "text": [
      "analyzing aj_amln\n",
      "analyzing aj_control\n",
      "analyzing balbc_amln\n",
      "analyzing balbc_control\n",
      "analyzing ncorwt_amln\n",
      "analyzing ncorwt_control\n"
     ]
    }
   ],
   "source": [
    "for i in samplesDF.group.unique():\n",
    "    analysis = i.replace('-', '_')\n",
    "    print('analyzing ' + analysis)\n",
    "    tmp = samplesDF[samplesDF.group == i]\n",
    "    \n",
    "    if not (os.path.isdir(outdir + analysis) & os.path.isfile(outdir + analysis + '/optimal_peakfile.txt')):\n",
    "        #Run IDR with wrapper from Verena\n",
    "        perlCallList = ['perl', '/home/h1bennet/liverStrains/bin/run_IDR.pl', '-tag_dirs']\n",
    "        perlCallList.extend(tmp.path)\n",
    "        perlCallList.extend(['-output_dir', outdir + analysis, '-method', 'atac'])\n",
    "        subprocess.call(perlCallList)\n",
    "    \n",
    "    if not os.path.isfile(outdir + analysis + '/ann_optimal_peakfile.txt'):\n",
    "        #Run Annotate peaks\n",
    "        aPCallList = ['annotatePeaks.pl', outdir + analysis + '/optimal_peakfile.txt', 'mm10', '-d']\n",
    "        aPCallList.extend(tmp.path)\n",
    "        p = subprocess.Popen(aPCallList, stdout = subprocess.PIPE)\n",
    "        output = p.stdout.read()\n",
    "        f = open(outdir + analysis + '/ann_optimal_peakfile.txt', 'w')\n",
    "        f.write(output.decode(\"utf-8\"))\n",
    "        f.close()"
   ]
  },
  {
   "cell_type": "code",
   "execution_count": 17,
   "metadata": {
    "scrolled": true
   },
   "outputs": [
    {
     "name": "stdout",
     "output_type": "stream",
     "text": [
      "mergePeaks -d 200 aj_amln/optimal_peakfile.txt aj_control/optimal_peakfile.txt balbc_amln/optimal_peakfile.txt balbc_control/optimal_peakfile.txt ncorwt_amln/optimal_peakfile.txt ncorwt_control/optimal_peakfile.txt > atac_union.txt\n"
     ]
    }
   ],
   "source": [
    "mp = [\"mergePeaks\", \"-d\", \"200\", \n",
    "      \"aj_amln/optimal_peakfile.txt\", \"aj_control/optimal_peakfile.txt\",\n",
    "      \"balbc_amln/optimal_peakfile.txt\", \"balbc_control/optimal_peakfile.txt\",\n",
    "      \"ncorwt_amln/optimal_peakfile.txt\", \"ncorwt_control/optimal_peakfile.txt\",\n",
    "      \">\", \"atac_union.txt\"]\n",
    "print(' '.join(mp))"
   ]
  },
  {
   "cell_type": "markdown",
   "metadata": {},
   "source": [
    "From mergePeaks we get a count of how many peaks are in each file:\n",
    "* aj_amln/optimal_peakfile.txt (33118 total)\n",
    "* aj_control/optimal_peakfile.txt (55387 total)\n",
    "* balbc_amln/optimal_peakfile.txt (39842 total)\n",
    "* balbc_control/optimal_peakfile.txt (33156 total)\n",
    "* ncorwt_amln/optimal_peakfile.txt (45727 total)\n",
    "* ncorwt_control/optimal_peakfile.txt (51213 total)"
   ]
  },
  {
   "cell_type": "code",
   "execution_count": 27,
   "metadata": {},
   "outputs": [
    {
     "name": "stdout",
     "output_type": "stream",
     "text": [
      "annotatePeaks.pl atac_union.txt mm10 -noann -nogene -noadj -d /data/mm10/Kupffer/ATAC/aj_Kupffer_ATAC_AMLNDiet_30week_AJ3A_JSS_TDT_16_09_26 /data/mm10/Kupffer/ATAC/aj_Kupffer_ATAC_AMLNDiet_30week_AJ3B_JSS_TDT_16_09_26 /data/mm10/Kupffer/ATAC/aj_Kupffer_ATAC_ControlDiet_30week_AJ1B_JSS_TDT_16_09_26 /data/mm10/Kupffer/ATAC/aj_Kupffer_ATAC_ControlDiet_30week_AJ1C_JSS_TDT_16_09_28 /data/mm10/Kupffer/ATAC/balbc_Kupffer_ATAC_AMLNDiet_30week_Balb3C_JSS_TDT_16_09_26 /data/mm10/Kupffer/ATAC/balbc_Kupffer_ATAC_AMLNDiet_30week_Balb3D_JSS_TDT_16_09_28 /data/mm10/Kupffer/ATAC/balbc_Kupffer_ATAC_ControlDiet_30week_Balb1A_JSS_TDT_16_09_26 /data/mm10/Kupffer/ATAC/balbc_Kupffer_ATAC_ControlDiet_30week_Balb1B_JSS_TDT_16_09_26 /data/mm10/Kupffer/ATAC/NCoRWT_KupfferTotal_ATAC_AMLNDiet_30week_LN136C_JSS_TDT_16_09_19 /data/mm10/Kupffer/ATAC/NCoRWT_KupfferTotal_ATAC_AMLNDiet_30week_LN141A_JSS_TDT_16_09_21 /data/mm10/Kupffer/ATAC/NCoRWT_KupfferTotal_ATAC_ControlDiet_30week_LN134B_JSS_TDT_16_09_21 /data/mm10/Kupffer/ATAC/NCoRWT_KupfferTotal_ATAC_ControlDiet_30week_LN134D_JSS_TDT_16_09_21 > ann_atac_union.txt\n"
     ]
    }
   ],
   "source": [
    "ap = [\"annotatePeaks.pl\", \"atac_union.txt\", \"mm10\", \"-noann\", \"-nogene\", '-noadj', \"-d\"]\n",
    "ap.extend(samplesDF.path)\n",
    "ap.extend(['>', 'ann_atac_union.txt'])\n",
    "print(' '.join(ap))"
   ]
  },
  {
   "cell_type": "markdown",
   "metadata": {},
   "source": [
    "Total peaks across all samples (from annotatePeaks.pl Total Peaks: 69430)"
   ]
  },
  {
   "cell_type": "code",
   "execution_count": 19,
   "metadata": {},
   "outputs": [],
   "source": [
    "# read in the ATAC counts data\n",
    "atac = pd.read_csv(outdir + 'ann_atac_union.txt', sep='\\t')\n",
    "atac.columns.values[0] = 'PeakID'\n",
    "atac = atac.set_index('PeakID')\n",
    "counts_mat_k = atac.iloc[:, 6:]\n",
    "# Column Data Information for DESeq, make sure to drop the samples we are excluding\n",
    "col_data_k = samplesDF.loc[(samplesDF.sample_type=='kupffer') & ~samplesDF.exclusion,\n",
    "                           ['subject', 'strain', 'diet', 'sample_type']]\n",
    "col_data_k = col_data_k.set_index('subject')"
   ]
  },
  {
   "cell_type": "code",
   "execution_count": 20,
   "metadata": {},
   "outputs": [],
   "source": [
    "# write out data so we can use in R for exploration...\n",
    "col_data_k.to_csv(outdir + 'deseq_col_data.txt', sep='\\t')\n",
    "counts_mat_k.to_csv(outdir + 'deseq_atac_counts.txt', sep='\\t')"
   ]
  },
  {
   "cell_type": "markdown",
   "metadata": {},
   "source": [
    "### Use HOMER to get diff peaks "
   ]
  },
  {
   "cell_type": "code",
   "execution_count": 42,
   "metadata": {},
   "outputs": [],
   "source": [
    "outdir = '/home/h1bennet/liverStrains/results/180103_ATAC/homer/'"
   ]
  },
  {
   "cell_type": "code",
   "execution_count": 43,
   "metadata": {},
   "outputs": [
    {
     "name": "stdout",
     "output_type": "stream",
     "text": [
      "calling mergePeaks...\n",
      "calling getDifferentialPeaks...\n",
      "merge peaks file /home/h1bennet/liverStrains/results/180103_ATAC/homer//optimal_peakfile_merge.txt already exists!\n",
      "calling getDifferentialPeaks...\n",
      "merge peaks file /home/h1bennet/liverStrains/results/180103_ATAC/homer//optimal_peakfile_merge.txt already exists!\n",
      "calling getDifferentialPeaks...\n",
      "merge peaks file /home/h1bennet/liverStrains/results/180103_ATAC/homer//optimal_peakfile_merge.txt already exists!\n",
      "calling getDifferentialPeaks...\n",
      "merge peaks file /home/h1bennet/liverStrains/results/180103_ATAC/homer//optimal_peakfile_merge.txt already exists!\n",
      "calling getDifferentialPeaks...\n",
      "merge peaks file /home/h1bennet/liverStrains/results/180103_ATAC/homer//optimal_peakfile_merge.txt already exists!\n",
      "calling getDifferentialPeaks...\n"
     ]
    },
    {
     "data": {
      "text/plain": [
       "'/home/h1bennet/liverStrains/results/180103_ATAC/homer//ncorwt_amln_revdiffpeaks_rev.txt'"
      ]
     },
     "execution_count": 43,
     "metadata": {},
     "output_type": "execute_result"
    }
   ],
   "source": [
    "diff_peaks(outdir + 'aj_amln', outdir + 'aj_control', outdir, name='aj_amln')\n",
    "diff_peaks(outdir + 'aj_amln', outdir + 'aj_control', outdir, name='aj_amln_rev', rev=True)\n",
    "diff_peaks(outdir + 'balbc_amln', outdir + 'balbc_control', outdir, name='balbc_amln')\n",
    "diff_peaks(outdir + 'balbc_amln', outdir + 'balbc_control', outdir, name='balbc_amln_rev', rev=True)\n",
    "diff_peaks(outdir + 'ncorwt_amln', outdir + 'ncorwt_control', outdir, name='ncorwt_amln')\n",
    "diff_peaks(outdir + 'ncorwt_amln', outdir + 'ncorwt_control', outdir, name='ncorwt_amln_rev', rev=True)"
   ]
  },
  {
   "cell_type": "code",
   "execution_count": 40,
   "metadata": {},
   "outputs": [
    {
     "name": "stdout",
     "output_type": "stream",
     "text": [
      "merge peaks file /home/h1bennet/liverStrains/results/180103_ATAC//optimal_peakfile_merge.txt already exists!\n",
      "calling getDifferentialPeaks...\n",
      "merge peaks file /home/h1bennet/liverStrains/results/180103_ATAC//optimal_peakfile_merge.txt already exists!\n",
      "calling getDifferentialPeaks...\n",
      "merge peaks file /home/h1bennet/liverStrains/results/180103_ATAC//optimal_peakfile_merge.txt already exists!\n",
      "calling getDifferentialPeaks...\n",
      "merge peaks file /home/h1bennet/liverStrains/results/180103_ATAC//optimal_peakfile_merge.txt already exists!\n",
      "calling getDifferentialPeaks...\n",
      "merge peaks file /home/h1bennet/liverStrains/results/180103_ATAC//optimal_peakfile_merge.txt already exists!\n",
      "calling getDifferentialPeaks...\n",
      "merge peaks file /home/h1bennet/liverStrains/results/180103_ATAC//optimal_peakfile_merge.txt already exists!\n",
      "calling getDifferentialPeaks...\n"
     ]
    },
    {
     "data": {
      "text/plain": [
       "'/home/h1bennet/liverStrains/results/180103_ATAC//balbc_ncorwt_amln_diff_peaks_revdiffpeaks_rev.txt'"
      ]
     },
     "execution_count": 40,
     "metadata": {},
     "output_type": "execute_result"
    }
   ],
   "source": [
    "diff_peaks(outdir + 'aj_amln', outdir + 'balbc_amln', outdir, name='aj_balbc_amln_diff_peaks')\n",
    "diff_peaks(outdir + 'aj_amln', outdir + 'balbc_amln', outdir, name='aj_balbc_amln_diff_peaks_rev', rev=True)\n",
    "diff_peaks(outdir + 'aj_amln', outdir + 'ncorwt_amln', outdir, name='aj_ncorwt_amln_diff_peaks')\n",
    "diff_peaks(outdir + 'aj_amln', outdir + 'ncorwt_amln', outdir, name='aj_ncorwt_amln_diff_peaks_rev', rev=True)\n",
    "diff_peaks(outdir + 'balbc_amln', outdir + 'ncorwt_amln', outdir, name='balbc_ncorwt_amln_diff_peaks')\n",
    "diff_peaks(outdir + 'balbc_amln', outdir + 'ncorwt_amln', outdir, name='balbc_ncorwt_amln_diff_peaks_rev', rev=True)"
   ]
  },
  {
   "cell_type": "code",
   "execution_count": 41,
   "metadata": {},
   "outputs": [
    {
     "name": "stdout",
     "output_type": "stream",
     "text": [
      "merge peaks file /home/h1bennet/liverStrains/results/180103_ATAC//optimal_peakfile_merge.txt already exists!\n",
      "calling getDifferentialPeaks...\n",
      "merge peaks file /home/h1bennet/liverStrains/results/180103_ATAC//optimal_peakfile_merge.txt already exists!\n",
      "calling getDifferentialPeaks...\n",
      "merge peaks file /home/h1bennet/liverStrains/results/180103_ATAC//optimal_peakfile_merge.txt already exists!\n",
      "calling getDifferentialPeaks...\n"
     ]
    },
    {
     "ename": "KeyboardInterrupt",
     "evalue": "",
     "output_type": "error",
     "traceback": [
      "\u001b[0;31m---------------------------------------------------------------------------\u001b[0m",
      "\u001b[0;31mKeyboardInterrupt\u001b[0m                         Traceback (most recent call last)",
      "\u001b[0;32m<ipython-input-41-813d0218071c>\u001b[0m in \u001b[0;36m<module>\u001b[0;34m()\u001b[0m\n\u001b[1;32m      1\u001b[0m \u001b[0mdiff_peaks\u001b[0m\u001b[0;34m(\u001b[0m\u001b[0moutdir\u001b[0m \u001b[0;34m+\u001b[0m \u001b[0;34m'aj_control'\u001b[0m\u001b[0;34m,\u001b[0m \u001b[0moutdir\u001b[0m \u001b[0;34m+\u001b[0m \u001b[0;34m'balbc_control'\u001b[0m\u001b[0;34m,\u001b[0m \u001b[0moutdir\u001b[0m\u001b[0;34m,\u001b[0m \u001b[0mname\u001b[0m\u001b[0;34m=\u001b[0m\u001b[0;34m'aj_balbc_control_diff_peaks'\u001b[0m\u001b[0;34m)\u001b[0m\u001b[0;34m\u001b[0m\u001b[0m\n\u001b[1;32m      2\u001b[0m \u001b[0mdiff_peaks\u001b[0m\u001b[0;34m(\u001b[0m\u001b[0moutdir\u001b[0m \u001b[0;34m+\u001b[0m \u001b[0;34m'aj_control'\u001b[0m\u001b[0;34m,\u001b[0m \u001b[0moutdir\u001b[0m \u001b[0;34m+\u001b[0m \u001b[0;34m'balbc_control'\u001b[0m\u001b[0;34m,\u001b[0m \u001b[0moutdir\u001b[0m\u001b[0;34m,\u001b[0m \u001b[0mname\u001b[0m\u001b[0;34m=\u001b[0m\u001b[0;34m'aj_balbc_control_diff_peaks_rev'\u001b[0m\u001b[0;34m,\u001b[0m \u001b[0mrev\u001b[0m\u001b[0;34m=\u001b[0m\u001b[0;32mTrue\u001b[0m\u001b[0;34m)\u001b[0m\u001b[0;34m\u001b[0m\u001b[0m\n\u001b[0;32m----> 3\u001b[0;31m \u001b[0mdiff_peaks\u001b[0m\u001b[0;34m(\u001b[0m\u001b[0moutdir\u001b[0m \u001b[0;34m+\u001b[0m \u001b[0;34m'aj_control'\u001b[0m\u001b[0;34m,\u001b[0m \u001b[0moutdir\u001b[0m \u001b[0;34m+\u001b[0m \u001b[0;34m'ncorwt_control'\u001b[0m\u001b[0;34m,\u001b[0m \u001b[0moutdir\u001b[0m\u001b[0;34m,\u001b[0m \u001b[0mname\u001b[0m\u001b[0;34m=\u001b[0m\u001b[0;34m'aj_ncorwt_control_diff_peaks'\u001b[0m\u001b[0;34m)\u001b[0m\u001b[0;34m\u001b[0m\u001b[0m\n\u001b[0m\u001b[1;32m      4\u001b[0m \u001b[0mdiff_peaks\u001b[0m\u001b[0;34m(\u001b[0m\u001b[0moutdir\u001b[0m \u001b[0;34m+\u001b[0m \u001b[0;34m'aj_control'\u001b[0m\u001b[0;34m,\u001b[0m \u001b[0moutdir\u001b[0m \u001b[0;34m+\u001b[0m \u001b[0;34m'ncorwt_control'\u001b[0m\u001b[0;34m,\u001b[0m \u001b[0moutdir\u001b[0m\u001b[0;34m,\u001b[0m \u001b[0mname\u001b[0m\u001b[0;34m=\u001b[0m\u001b[0;34m'aj_ncorwt_control_diff_peaks_rev'\u001b[0m\u001b[0;34m,\u001b[0m \u001b[0mrev\u001b[0m\u001b[0;34m=\u001b[0m\u001b[0;32mTrue\u001b[0m\u001b[0;34m)\u001b[0m\u001b[0;34m\u001b[0m\u001b[0m\n\u001b[1;32m      5\u001b[0m \u001b[0mdiff_peaks\u001b[0m\u001b[0;34m(\u001b[0m\u001b[0moutdir\u001b[0m \u001b[0;34m+\u001b[0m \u001b[0;34m'balbc_control'\u001b[0m\u001b[0;34m,\u001b[0m \u001b[0moutdir\u001b[0m \u001b[0;34m+\u001b[0m \u001b[0;34m'ncorwt_control'\u001b[0m\u001b[0;34m,\u001b[0m \u001b[0moutdir\u001b[0m\u001b[0;34m,\u001b[0m \u001b[0mname\u001b[0m\u001b[0;34m=\u001b[0m\u001b[0;34m'balbc_ncorwt_control_diff_peaks'\u001b[0m\u001b[0;34m)\u001b[0m\u001b[0;34m\u001b[0m\u001b[0m\n",
      "\u001b[0;32m<ipython-input-37-21dd317489ab>\u001b[0m in \u001b[0;36mdiff_peaks\u001b[0;34m(dir1, dir2, outdir, dist, name, rev, print_err)\u001b[0m\n\u001b[1;32m     73\u001b[0m                         \u001b[0mstdout\u001b[0m \u001b[0;34m=\u001b[0m \u001b[0msubprocess\u001b[0m\u001b[0;34m.\u001b[0m\u001b[0mPIPE\u001b[0m\u001b[0;34m,\u001b[0m\u001b[0;34m\u001b[0m\u001b[0m\n\u001b[1;32m     74\u001b[0m                         stderr = subprocess.PIPE)\n\u001b[0;32m---> 75\u001b[0;31m         \u001b[0moutput\u001b[0m\u001b[0;34m,\u001b[0m \u001b[0merr\u001b[0m \u001b[0;34m=\u001b[0m \u001b[0mp\u001b[0m\u001b[0;34m.\u001b[0m\u001b[0mcommunicate\u001b[0m\u001b[0;34m(\u001b[0m\u001b[0;34m)\u001b[0m \u001b[0;31m#in bytes\u001b[0m\u001b[0;34m\u001b[0m\u001b[0m\n\u001b[0m\u001b[1;32m     76\u001b[0m         \u001b[0;32mif\u001b[0m \u001b[0mprint_err\u001b[0m\u001b[0;34m:\u001b[0m \u001b[0mprint\u001b[0m\u001b[0;34m(\u001b[0m\u001b[0merr\u001b[0m\u001b[0;34m.\u001b[0m\u001b[0mdecode\u001b[0m\u001b[0;34m(\u001b[0m\u001b[0;34m'utf-8'\u001b[0m\u001b[0;34m)\u001b[0m\u001b[0;34m)\u001b[0m\u001b[0;34m\u001b[0m\u001b[0m\n\u001b[1;32m     77\u001b[0m         \u001b[0;31m# print output\u001b[0m\u001b[0;34m\u001b[0m\u001b[0;34m\u001b[0m\u001b[0m\n",
      "\u001b[0;32m~/anaconda3/envs/deseq/lib/python3.6/subprocess.py\u001b[0m in \u001b[0;36mcommunicate\u001b[0;34m(self, input, timeout)\u001b[0m\n\u001b[1;32m    841\u001b[0m \u001b[0;34m\u001b[0m\u001b[0m\n\u001b[1;32m    842\u001b[0m             \u001b[0;32mtry\u001b[0m\u001b[0;34m:\u001b[0m\u001b[0;34m\u001b[0m\u001b[0m\n\u001b[0;32m--> 843\u001b[0;31m                 \u001b[0mstdout\u001b[0m\u001b[0;34m,\u001b[0m \u001b[0mstderr\u001b[0m \u001b[0;34m=\u001b[0m \u001b[0mself\u001b[0m\u001b[0;34m.\u001b[0m\u001b[0m_communicate\u001b[0m\u001b[0;34m(\u001b[0m\u001b[0minput\u001b[0m\u001b[0;34m,\u001b[0m \u001b[0mendtime\u001b[0m\u001b[0;34m,\u001b[0m \u001b[0mtimeout\u001b[0m\u001b[0;34m)\u001b[0m\u001b[0;34m\u001b[0m\u001b[0m\n\u001b[0m\u001b[1;32m    844\u001b[0m             \u001b[0;32mfinally\u001b[0m\u001b[0;34m:\u001b[0m\u001b[0;34m\u001b[0m\u001b[0m\n\u001b[1;32m    845\u001b[0m                 \u001b[0mself\u001b[0m\u001b[0;34m.\u001b[0m\u001b[0m_communication_started\u001b[0m \u001b[0;34m=\u001b[0m \u001b[0;32mTrue\u001b[0m\u001b[0;34m\u001b[0m\u001b[0m\n",
      "\u001b[0;32m~/anaconda3/envs/deseq/lib/python3.6/subprocess.py\u001b[0m in \u001b[0;36m_communicate\u001b[0;34m(self, input, endtime, orig_timeout)\u001b[0m\n\u001b[1;32m   1512\u001b[0m                         \u001b[0;32mraise\u001b[0m \u001b[0mTimeoutExpired\u001b[0m\u001b[0;34m(\u001b[0m\u001b[0mself\u001b[0m\u001b[0;34m.\u001b[0m\u001b[0margs\u001b[0m\u001b[0;34m,\u001b[0m \u001b[0morig_timeout\u001b[0m\u001b[0;34m)\u001b[0m\u001b[0;34m\u001b[0m\u001b[0m\n\u001b[1;32m   1513\u001b[0m \u001b[0;34m\u001b[0m\u001b[0m\n\u001b[0;32m-> 1514\u001b[0;31m                     \u001b[0mready\u001b[0m \u001b[0;34m=\u001b[0m \u001b[0mselector\u001b[0m\u001b[0;34m.\u001b[0m\u001b[0mselect\u001b[0m\u001b[0;34m(\u001b[0m\u001b[0mtimeout\u001b[0m\u001b[0;34m)\u001b[0m\u001b[0;34m\u001b[0m\u001b[0m\n\u001b[0m\u001b[1;32m   1515\u001b[0m                     \u001b[0mself\u001b[0m\u001b[0;34m.\u001b[0m\u001b[0m_check_timeout\u001b[0m\u001b[0;34m(\u001b[0m\u001b[0mendtime\u001b[0m\u001b[0;34m,\u001b[0m \u001b[0morig_timeout\u001b[0m\u001b[0;34m)\u001b[0m\u001b[0;34m\u001b[0m\u001b[0m\n\u001b[1;32m   1516\u001b[0m \u001b[0;34m\u001b[0m\u001b[0m\n",
      "\u001b[0;32m~/anaconda3/envs/deseq/lib/python3.6/selectors.py\u001b[0m in \u001b[0;36mselect\u001b[0;34m(self, timeout)\u001b[0m\n\u001b[1;32m    374\u001b[0m             \u001b[0mready\u001b[0m \u001b[0;34m=\u001b[0m \u001b[0;34m[\u001b[0m\u001b[0;34m]\u001b[0m\u001b[0;34m\u001b[0m\u001b[0m\n\u001b[1;32m    375\u001b[0m             \u001b[0;32mtry\u001b[0m\u001b[0;34m:\u001b[0m\u001b[0;34m\u001b[0m\u001b[0m\n\u001b[0;32m--> 376\u001b[0;31m                 \u001b[0mfd_event_list\u001b[0m \u001b[0;34m=\u001b[0m \u001b[0mself\u001b[0m\u001b[0;34m.\u001b[0m\u001b[0m_poll\u001b[0m\u001b[0;34m.\u001b[0m\u001b[0mpoll\u001b[0m\u001b[0;34m(\u001b[0m\u001b[0mtimeout\u001b[0m\u001b[0;34m)\u001b[0m\u001b[0;34m\u001b[0m\u001b[0m\n\u001b[0m\u001b[1;32m    377\u001b[0m             \u001b[0;32mexcept\u001b[0m \u001b[0mInterruptedError\u001b[0m\u001b[0;34m:\u001b[0m\u001b[0;34m\u001b[0m\u001b[0m\n\u001b[1;32m    378\u001b[0m                 \u001b[0;32mreturn\u001b[0m \u001b[0mready\u001b[0m\u001b[0;34m\u001b[0m\u001b[0m\n",
      "\u001b[0;31mKeyboardInterrupt\u001b[0m: "
     ]
    }
   ],
   "source": [
    "diff_peaks(outdir + 'aj_control', outdir + 'balbc_control', outdir, name='aj_balbc_control_diff_peaks')\n",
    "diff_peaks(outdir + 'aj_control', outdir + 'balbc_control', outdir, name='aj_balbc_control_diff_peaks_rev', rev=True)\n",
    "diff_peaks(outdir + 'aj_control', outdir + 'ncorwt_control', outdir, name='aj_ncorwt_control_diff_peaks')\n",
    "diff_peaks(outdir + 'aj_control', outdir + 'ncorwt_control', outdir, name='aj_ncorwt_control_diff_peaks_rev', rev=True)\n",
    "diff_peaks(outdir + 'balbc_control', outdir + 'ncorwt_control', outdir, name='balbc_ncorwt_control_diff_peaks')\n",
    "diff_peaks(outdir + 'balbc_control', outdir + 'ncorwt_control', outdir, name='balbc_ncorwt_control_diff_peaks_rev', rev=True)"
   ]
  },
  {
   "cell_type": "markdown",
   "metadata": {},
   "source": [
    "### RUN DESeq2 analysis of ATAC peaks "
   ]
  },
  {
   "cell_type": "code",
   "execution_count": 21,
   "metadata": {
    "scrolled": false
   },
   "outputs": [
    {
     "name": "stderr",
     "output_type": "stream",
     "text": [
      "/home/h1bennet/anaconda3/envs/deseq/lib/python3.6/site-packages/rpy2/rinterface/__init__.py:186: RRuntimeWarning: During startup - \n",
      "  warnings.warn(x, RRuntimeWarning)\n",
      "/home/h1bennet/anaconda3/envs/deseq/lib/python3.6/site-packages/rpy2/rinterface/__init__.py:186: RRuntimeWarning: Warning messages:\n",
      "\n",
      "  warnings.warn(x, RRuntimeWarning)\n",
      "/home/h1bennet/anaconda3/envs/deseq/lib/python3.6/site-packages/rpy2/rinterface/__init__.py:186: RRuntimeWarning: 1: package ‘methods’ was built under R version 3.3.3 \n",
      "\n",
      "  warnings.warn(x, RRuntimeWarning)\n",
      "/home/h1bennet/anaconda3/envs/deseq/lib/python3.6/site-packages/rpy2/rinterface/__init__.py:186: RRuntimeWarning: 2: package ‘datasets’ was built under R version 3.3.3 \n",
      "\n",
      "  warnings.warn(x, RRuntimeWarning)\n",
      "/home/h1bennet/anaconda3/envs/deseq/lib/python3.6/site-packages/rpy2/rinterface/__init__.py:186: RRuntimeWarning: 3: package ‘utils’ was built under R version 3.3.3 \n",
      "\n",
      "  warnings.warn(x, RRuntimeWarning)\n",
      "/home/h1bennet/anaconda3/envs/deseq/lib/python3.6/site-packages/rpy2/rinterface/__init__.py:186: RRuntimeWarning: 4: package ‘grDevices’ was built under R version 3.3.3 \n",
      "\n",
      "  warnings.warn(x, RRuntimeWarning)\n",
      "/home/h1bennet/anaconda3/envs/deseq/lib/python3.6/site-packages/rpy2/rinterface/__init__.py:186: RRuntimeWarning: 5: package ‘graphics’ was built under R version 3.3.3 \n",
      "\n",
      "  warnings.warn(x, RRuntimeWarning)\n",
      "/home/h1bennet/anaconda3/envs/deseq/lib/python3.6/site-packages/rpy2/rinterface/__init__.py:186: RRuntimeWarning: 6: package ‘stats’ was built under R version 3.3.3 \n",
      "\n",
      "  warnings.warn(x, RRuntimeWarning)\n"
     ]
    }
   ],
   "source": [
    "# load extension for running R from python\n",
    "%load_ext rpy2.ipython"
   ]
  },
  {
   "cell_type": "markdown",
   "metadata": {},
   "source": [
    "#### Run full interaction model "
   ]
  },
  {
   "cell_type": "code",
   "execution_count": 22,
   "metadata": {},
   "outputs": [
    {
     "name": "stderr",
     "output_type": "stream",
     "text": [
      "/home/h1bennet/anaconda3/envs/deseq/lib/python3.6/site-packages/rpy2/rinterface/__init__.py:186: RRuntimeWarning: Loading required package: S4Vectors\n",
      "\n",
      "  warnings.warn(x, RRuntimeWarning)\n",
      "/home/h1bennet/anaconda3/envs/deseq/lib/python3.6/site-packages/rpy2/rinterface/__init__.py:186: RRuntimeWarning: Loading required package: stats4\n",
      "\n",
      "  warnings.warn(x, RRuntimeWarning)\n",
      "/home/h1bennet/anaconda3/envs/deseq/lib/python3.6/site-packages/rpy2/rinterface/__init__.py:186: RRuntimeWarning: Loading required package: BiocGenerics\n",
      "\n",
      "  warnings.warn(x, RRuntimeWarning)\n",
      "/home/h1bennet/anaconda3/envs/deseq/lib/python3.6/site-packages/rpy2/rinterface/__init__.py:186: RRuntimeWarning: Loading required package: parallel\n",
      "\n",
      "  warnings.warn(x, RRuntimeWarning)\n",
      "/home/h1bennet/anaconda3/envs/deseq/lib/python3.6/site-packages/rpy2/rinterface/__init__.py:186: RRuntimeWarning: \n",
      "Attaching package: ‘BiocGenerics’\n",
      "\n",
      "\n",
      "  warnings.warn(x, RRuntimeWarning)\n",
      "/home/h1bennet/anaconda3/envs/deseq/lib/python3.6/site-packages/rpy2/rinterface/__init__.py:186: RRuntimeWarning: The following objects are masked from ‘package:parallel’:\n",
      "\n",
      "    clusterApply, clusterApplyLB, clusterCall, clusterEvalQ,\n",
      "    clusterExport, clusterMap, parApply, parCapply, parLapply,\n",
      "    parLapplyLB, parRapply, parSapply, parSapplyLB\n",
      "\n",
      "\n",
      "  warnings.warn(x, RRuntimeWarning)\n",
      "/home/h1bennet/anaconda3/envs/deseq/lib/python3.6/site-packages/rpy2/rinterface/__init__.py:186: RRuntimeWarning: The following objects are masked from ‘package:stats’:\n",
      "\n",
      "    IQR, mad, xtabs\n",
      "\n",
      "\n",
      "  warnings.warn(x, RRuntimeWarning)\n",
      "/home/h1bennet/anaconda3/envs/deseq/lib/python3.6/site-packages/rpy2/rinterface/__init__.py:186: RRuntimeWarning: The following objects are masked from ‘package:base’:\n",
      "\n",
      "    anyDuplicated, append, as.data.frame, cbind, colnames, do.call,\n",
      "    duplicated, eval, evalq, Filter, Find, get, grep, grepl, intersect,\n",
      "    is.unsorted, lapply, lengths, Map, mapply, match, mget, order,\n",
      "    paste, pmax, pmax.int, pmin, pmin.int, Position, rank, rbind,\n",
      "    Reduce, rownames, sapply, setdiff, sort, table, tapply, union,\n",
      "    unique, unsplit\n",
      "\n",
      "\n",
      "  warnings.warn(x, RRuntimeWarning)\n",
      "/home/h1bennet/anaconda3/envs/deseq/lib/python3.6/site-packages/rpy2/rinterface/__init__.py:186: RRuntimeWarning: \n",
      "Attaching package: ‘S4Vectors’\n",
      "\n",
      "\n",
      "  warnings.warn(x, RRuntimeWarning)\n",
      "/home/h1bennet/anaconda3/envs/deseq/lib/python3.6/site-packages/rpy2/rinterface/__init__.py:186: RRuntimeWarning: The following objects are masked from ‘package:base’:\n",
      "\n",
      "    colMeans, colSums, expand.grid, rowMeans, rowSums\n",
      "\n",
      "\n",
      "  warnings.warn(x, RRuntimeWarning)\n",
      "/home/h1bennet/anaconda3/envs/deseq/lib/python3.6/site-packages/rpy2/rinterface/__init__.py:186: RRuntimeWarning: Loading required package: IRanges\n",
      "\n",
      "  warnings.warn(x, RRuntimeWarning)\n",
      "/home/h1bennet/anaconda3/envs/deseq/lib/python3.6/site-packages/rpy2/rinterface/__init__.py:186: RRuntimeWarning: Loading required package: GenomicRanges\n",
      "\n",
      "  warnings.warn(x, RRuntimeWarning)\n",
      "/home/h1bennet/anaconda3/envs/deseq/lib/python3.6/site-packages/rpy2/rinterface/__init__.py:186: RRuntimeWarning: Loading required package: GenomeInfoDb\n",
      "\n",
      "  warnings.warn(x, RRuntimeWarning)\n",
      "/home/h1bennet/anaconda3/envs/deseq/lib/python3.6/site-packages/rpy2/rinterface/__init__.py:186: RRuntimeWarning: Loading required package: SummarizedExperiment\n",
      "\n",
      "  warnings.warn(x, RRuntimeWarning)\n",
      "/home/h1bennet/anaconda3/envs/deseq/lib/python3.6/site-packages/rpy2/rinterface/__init__.py:186: RRuntimeWarning: Loading required package: Biobase\n",
      "\n",
      "  warnings.warn(x, RRuntimeWarning)\n",
      "/home/h1bennet/anaconda3/envs/deseq/lib/python3.6/site-packages/rpy2/rinterface/__init__.py:186: RRuntimeWarning: Welcome to Bioconductor\n",
      "\n",
      "    Vignettes contain introductory material; view with\n",
      "    'browseVignettes()'. To cite Bioconductor, see\n",
      "    'citation(\"Biobase\")', and for packages 'citation(\"pkgname\")'.\n",
      "\n",
      "\n",
      "  warnings.warn(x, RRuntimeWarning)\n",
      "/home/h1bennet/anaconda3/envs/deseq/lib/python3.6/site-packages/rpy2/rinterface/__init__.py:186: RRuntimeWarning: data.table 1.10.4\n",
      "\n",
      "  warnings.warn(x, RRuntimeWarning)\n",
      "/home/h1bennet/anaconda3/envs/deseq/lib/python3.6/site-packages/rpy2/rinterface/__init__.py:186: RRuntimeWarning:   The fastest way to learn (by data.table authors): https://www.datacamp.com/courses/data-analysis-the-data-table-way\n",
      "\n",
      "  warnings.warn(x, RRuntimeWarning)\n",
      "/home/h1bennet/anaconda3/envs/deseq/lib/python3.6/site-packages/rpy2/rinterface/__init__.py:186: RRuntimeWarning:   Documentation: ?data.table, example(data.table) and browseVignettes(\"data.table\")\n",
      "\n",
      "  warnings.warn(x, RRuntimeWarning)\n",
      "/home/h1bennet/anaconda3/envs/deseq/lib/python3.6/site-packages/rpy2/rinterface/__init__.py:186: RRuntimeWarning:   Release notes, videos and slides: http://r-datatable.com\n",
      "\n",
      "  warnings.warn(x, RRuntimeWarning)\n",
      "/home/h1bennet/anaconda3/envs/deseq/lib/python3.6/site-packages/rpy2/rinterface/__init__.py:186: RRuntimeWarning: \n",
      "Attaching package: ‘data.table’\n",
      "\n",
      "\n",
      "  warnings.warn(x, RRuntimeWarning)\n",
      "/home/h1bennet/anaconda3/envs/deseq/lib/python3.6/site-packages/rpy2/rinterface/__init__.py:186: RRuntimeWarning: The following object is masked from ‘package:SummarizedExperiment’:\n",
      "\n",
      "    shift\n",
      "\n",
      "\n",
      "  warnings.warn(x, RRuntimeWarning)\n",
      "/home/h1bennet/anaconda3/envs/deseq/lib/python3.6/site-packages/rpy2/rinterface/__init__.py:186: RRuntimeWarning: The following object is masked from ‘package:GenomicRanges’:\n",
      "\n",
      "    shift\n",
      "\n",
      "\n",
      "  warnings.warn(x, RRuntimeWarning)\n",
      "/home/h1bennet/anaconda3/envs/deseq/lib/python3.6/site-packages/rpy2/rinterface/__init__.py:186: RRuntimeWarning: The following object is masked from ‘package:IRanges’:\n",
      "\n",
      "    shift\n",
      "\n",
      "\n",
      "  warnings.warn(x, RRuntimeWarning)\n",
      "/home/h1bennet/anaconda3/envs/deseq/lib/python3.6/site-packages/rpy2/rinterface/__init__.py:186: RRuntimeWarning: The following objects are masked from ‘package:S4Vectors’:\n",
      "\n",
      "    first, second\n",
      "\n",
      "\n",
      "  warnings.warn(x, RRuntimeWarning)\n",
      "/home/h1bennet/anaconda3/envs/deseq/lib/python3.6/site-packages/rpy2/rinterface/__init__.py:186: RRuntimeWarning: converting counts to integer mode\n",
      "\n",
      "  warnings.warn(x, RRuntimeWarning)\n",
      "/home/h1bennet/anaconda3/envs/deseq/lib/python3.6/site-packages/rpy2/rinterface/__init__.py:186: RRuntimeWarning: estimating size factors\n",
      "\n",
      "  warnings.warn(x, RRuntimeWarning)\n",
      "/home/h1bennet/anaconda3/envs/deseq/lib/python3.6/site-packages/rpy2/rinterface/__init__.py:186: RRuntimeWarning: estimating dispersions\n",
      "\n",
      "  warnings.warn(x, RRuntimeWarning)\n",
      "/home/h1bennet/anaconda3/envs/deseq/lib/python3.6/site-packages/rpy2/rinterface/__init__.py:186: RRuntimeWarning: gene-wise dispersion estimates\n",
      "\n",
      "  warnings.warn(x, RRuntimeWarning)\n",
      "/home/h1bennet/anaconda3/envs/deseq/lib/python3.6/site-packages/rpy2/rinterface/__init__.py:186: RRuntimeWarning: mean-dispersion relationship\n",
      "\n",
      "  warnings.warn(x, RRuntimeWarning)\n",
      "/home/h1bennet/anaconda3/envs/deseq/lib/python3.6/site-packages/rpy2/rinterface/__init__.py:186: RRuntimeWarning: final dispersion estimates\n",
      "\n",
      "  warnings.warn(x, RRuntimeWarning)\n",
      "/home/h1bennet/anaconda3/envs/deseq/lib/python3.6/site-packages/rpy2/rinterface/__init__.py:186: RRuntimeWarning: fitting model and testing\n",
      "\n",
      "  warnings.warn(x, RRuntimeWarning)\n"
     ]
    }
   ],
   "source": [
    "%%R -i counts_mat_k,col_data_k,outdir\n",
    "# load DESeq\n",
    "library(\"DESeq2\")\n",
    "library(\"data.table\")\n",
    "\n",
    "# remove chrM from analysis (no NCorWT peaks map to it - problematic)\n",
    "counts_mat_k <- counts_mat_k[!(rownames(counts_mat_k) %like% 'chrM'), ]\n",
    "colnames(counts_mat_k) <- lapply(strsplit(colnames(counts_mat_k), '\\\\.'), `[[`, 6)\n",
    "\n",
    "col_data_k$diet <- relevel(col_data_k$diet, ref='control')\n",
    "col_data_k$strain <- relevel(col_data_k$strain, ref='ncorwt')\n",
    "\n",
    "# names(counts_mat_k) <- NULL\n",
    "\n",
    "#create DESeq2 object\n",
    "dds <- DESeqDataSetFromMatrix(countData = counts_mat_k,\n",
    "                             colData = col_data_k,\n",
    "                             design = ~ strain + diet + strain:diet)\n",
    "\n",
    "# run DESeq with full model\n",
    "dds <- DESeq(dds)\n",
    "\n",
    "# diet effect for ncorwt\n",
    "res <- results(dds, contrast=c('diet', 'amln', 'control'), alpha = 0.05)\n",
    "res_ordered <- res[order(res$padj), ]\n",
    "write.csv(as.data.frame(res_ordered), \n",
    "          file=paste0(outdir, \"/ncorwt_amln_atac_deseq_results.txt\"))\n",
    "\n",
    "# diet effect for balbc\n",
    "res <- results(dds, contrast=list( c('diet_amln_vs_control','strainbalbc.dietamln') ), alpha = 0.05)\n",
    "res_ordered <- res[order(res$padj), ]\n",
    "write.csv(as.data.frame(res_ordered), \n",
    "          file=paste0(outdir, \"/balbc_amln_atac_deseq_results.txt\"))\n",
    "\n",
    "# diet effect for aj\n",
    "res <- results(dds, contrast=list( c('diet_amln_vs_control','strainaj.dietamln') ), alpha = 0.05)\n",
    "res_ordered <- res[order(res$padj), ]\n",
    "write.csv(as.data.frame(res_ordered), \n",
    "          file=paste0(outdir, \"/aj_amln_atac_deseq_results.txt\"))\n",
    "\n",
    "# interaction term for condition effect between balbc and ncorwt\n",
    "res <- results(dds, name='strainbalbc.dietamln', alpha = 0.05)\n",
    "res_ordered <- res[order(res$padj), ]\n",
    "write.csv(as.data.frame(res_ordered), \n",
    "          file=paste0(outdir, \"/balbc_ncorwt_amln_interaction_atac_deseq_results.txt\"))\n",
    "\n",
    "# interaction term for condition effect between aj and ncorwt\n",
    "res <- results(dds, name='strainaj.dietamln', alpha = 0.05)\n",
    "res_ordered <- res[order(res$padj), ]\n",
    "write.csv(as.data.frame(res_ordered), \n",
    "          file=paste0(outdir, \"/aj_ncorwt_amln_interaction_atac_deseq_results.txt\"))\n",
    "\n",
    "# interaction term for condition effect between balbc and aj\n",
    "res <- results(dds, contrast=list(\"strainbalbc.dietamln\", \"strainaj.dietamln\"), alpha = 0.05)\n",
    "res_ordered <- res[order(res$padj), ]\n",
    "write.csv(as.data.frame(res_ordered), \n",
    "          file=paste0(outdir, \"/balbc_aj_amln_interaction_atac_deseq_results.txt\"))"
   ]
  },
  {
   "cell_type": "markdown",
   "metadata": {},
   "source": [
    "#### Run simple pairwise model "
   ]
  },
  {
   "cell_type": "code",
   "execution_count": 26,
   "metadata": {},
   "outputs": [],
   "source": [
    "%%R -i counts_mat_k,col_data_k,outdir\n",
    "# load DESeq\n",
    "library(\"DESeq2\")\n",
    "library(\"data.table\")\n",
    "\n",
    "# remove chrM from analysis (no NCorWT peaks map to it - problematic)\n",
    "counts_mat_k <- counts_mat_k[!(rownames(counts_mat_k) %like% 'chrM'), ]\n",
    "colnames(counts_mat_k) <- lapply(strsplit(colnames(counts_mat_k), '\\\\.'), `[[`, 6)\n",
    "\n",
    "col_data_k$diet <- relevel(col_data_k$diet, ref='control')\n",
    "col_data_k$strain <- relevel(col_data_k$strain, ref='ncorwt')\n",
    "col_data_k$straindiet = as.factor(paste0(col_data_k$strain, '_', col_data_k$diet))\n",
    "col_data_k$straindiet <- relevel(col_data_k$straindiet, ref='ncorwt_amln')\n",
    "\n",
    "# names(counts_mat_k) <- NULL\n",
    "\n",
    "#create DESeq2 object\n",
    "ddsRed <- DESeqDataSetFromMatrix(countData = counts_mat_k,\n",
    "                             colData = col_data_k,\n",
    "                             design = ~ straindiet)\n",
    "\n",
    "# run DESeq with full model\n",
    "ddsRed <- DESeq(ddsRed)\n",
    "\n",
    "# diet effect for ncorwt\n",
    "resRed <- results(ddsRed, contrast=c('straindiet','ncorwt_amln','ncorwt_control'), alpha = 0.1)\n",
    "resRed_ordered <- resRed[order(resRed$padj), ]\n",
    "write.csv(as.data.frame(resRed_ordered), \n",
    "          file=paste0(outdir, \"/ncorwt_amln_atac_deseq_pairwise_results.txt\"))\n",
    "\n",
    "# diet effect for balbc\n",
    "resRed <- results(ddsRed, contrast=c('straindiet','balbc_amln','balbc_control'), alpha = 0.1)\n",
    "resRed_ordered <- resRed[order(resRed$padj), ]\n",
    "write.csv(as.data.frame(resRed_ordered), \n",
    "          file=paste0(outdir, \"/balbc_amln_atac_deseq_pairwise_results.txt\"))\n",
    "\n",
    "# diet effect for aj\n",
    "resRed <- results(ddsRed, contrast=c('straindiet','aj_amln','aj_control'), alpha = 0.1)\n",
    "resRed_ordered <- resRed[order(resRed$padj), ]\n",
    "write.csv(as.data.frame(resRed_ordered), \n",
    "          file=paste0(outdir, \"/aj_amln_atac_deseq_pairwise_results.txt\"))\n",
    "\n",
    "# compare aj and ncor controls\n",
    "resRed <- results(ddsRed, contrast=c('straindiet','aj_control','ncorwt_control'), alpha = 0.1)\n",
    "resRed_ordered <- resRed[order(resRed$padj), ]\n",
    "write.csv(as.data.frame(resRed_ordered), \n",
    "          file=paste0(outdir, \"/aj_ncorwt_control_atac_deseq_pairwise_results.txt\"))\n",
    "\n",
    "# compare aj and balbc controls\n",
    "resRed <- results(ddsRed, contrast=c('straindiet','aj_control','balbc_control'), alpha = 0.1)\n",
    "resRed_ordered <- resRed[order(resRed$padj), ]\n",
    "write.csv(as.data.frame(resRed_ordered), \n",
    "          file=paste0(outdir, \"/aj_balbc_control_atac_deseq_pairwise_results.txt\"))\n",
    "\n",
    "# compare balbc and ncor controls\n",
    "resRed <- results(ddsRed, contrast=c('straindiet','balbc_control','ncorwt_control'), alpha = 0.1)\n",
    "resRed_ordered <- resRed[order(resRed$padj), ]\n",
    "write.csv(as.data.frame(resRed_ordered), \n",
    "          file=paste0(outdir, \"/balbc_ncorwt_control_atac_deseq_pairwise_results.txt\"))\n",
    "\n",
    "# compare aj and ncor amln\n",
    "resRed <- results(ddsRed, contrast=c('straindiet','aj_amln','ncorwt_amln'), alpha = 0.1)\n",
    "resRed_ordered <- resRed[order(resRed$padj), ]\n",
    "write.csv(as.data.frame(resRed_ordered), \n",
    "          file=paste0(outdir, \"/aj_ncorwt_amln_atac_deseq_pairwise_results.txt\"))\n",
    "\n",
    "# compare aj and balbc amln\n",
    "resRed <- results(ddsRed, contrast=c('straindiet','aj_amln','balbc_amln'), alpha = 0.1)\n",
    "resRed_ordered <- resRed[order(resRed$padj), ]\n",
    "write.csv(as.data.frame(resRed_ordered), \n",
    "          file=paste0(outdir, \"/aj_balbc_amln_atac_deseq_pairwise_results.txt\"))\n",
    "\n",
    "# compare balbc and ncor amln\n",
    "resRed <- results(ddsRed, contrast=c('straindiet','balbc_amln','ncorwt_amln'), alpha = 0.1)\n",
    "resRed_ordered <- resRed[order(resRed$padj), ]\n",
    "write.csv(as.data.frame(resRed_ordered), \n",
    "          file=paste0(outdir, \"/balbc_ncorwt_amln_atac_deseq_pairwise_results.txt\"))"
   ]
  },
  {
   "cell_type": "markdown",
   "metadata": {},
   "source": [
    "We want to examine these peaks in the genome browser, so we need to be able to pull up their coordinates"
   ]
  },
  {
   "cell_type": "code",
   "execution_count": 7,
   "metadata": {},
   "outputs": [],
   "source": [
    "outdir = '/home/h1bennet/liverStrains/results/180103_ATAC/'"
   ]
  },
  {
   "cell_type": "code",
   "execution_count": 13,
   "metadata": {},
   "outputs": [],
   "source": [
    "atac_union = pd.read_csv(outdir + \"atac_union.txt\", header=0, index_col=0, sep='\\t')\n",
    "atac_union['browser'] = atac_union.chr + ':' + atac_union.start.map(str) + '-' + atac_union.end.map(str)"
   ]
  },
  {
   "cell_type": "code",
   "execution_count": 9,
   "metadata": {},
   "outputs": [],
   "source": [
    "# read in the deseq full model results\n",
    "aj_amln = pd.read_csv(outdir + \"deseq/aj_amln_atac_deseq_results.txt\")\n",
    "ncorwt_amln = pd.read_csv(outdir + \"deseq/ncorwt_amln_atac_deseq_results.txt\")\n",
    "balb_amln = pd.read_csv(outdir + \"deseq/balbc_amln_atac_deseq_results.txt\")\n",
    "aj_balb = pd.read_csv(outdir + \"deseq/balbc_aj_amln_interaction_atac_deseq_results.txt\")\n",
    "aj_ncor = pd.read_csv(outdir + \"deseq/aj_ncorwt_amln_interaction_atac_deseq_results.txt\")\n",
    "ncorwt_balb = pd.read_csv(outdir + \"deseq/balbc_ncorwt_amln_interaction_atac_deseq_results.txt\")"
   ]
  },
  {
   "cell_type": "code",
   "execution_count": 10,
   "metadata": {},
   "outputs": [],
   "source": [
    "# read in the pairwise model results\n",
    "aj_amln_p = pd.read_csv(outdir + \"deseq/aj_amln_atac_deseq_pairwise_results.txt\")\n",
    "balb_amln_p = pd.read_csv(outdir + \"deseq/balbc_amln_atac_deseq_pairwise_results.txt\")\n",
    "ncorwt_amln_p = pd.read_csv(outdir + \"deseq/ncorwt_amln_atac_deseq_pairwise_results.txt\")\n",
    "aj_ncorwt_control = pd.read_csv(outdir + \"deseq/aj_balbc_control_atac_deseq_pairwise_results.txt\")\n",
    "aj_balbc_control = pd.read_csv(outdir + \"deseq/aj_ncorwt_control_atac_deseq_pairwise_results.txt\")\n",
    "balbc_ncorwt_control = pd.read_csv(outdir + \"deseq/balbc_ncorwt_control_atac_deseq_pairwise_results.txt\")\n",
    "aj_ncorwt_amln = pd.read_csv(outdir + \"deseq/aj_balbc_amln_atac_deseq_pairwise_results.txt\")\n",
    "aj_balbc_amln = pd.read_csv(outdir + \"deseq/aj_ncorwt_amln_atac_deseq_pairwise_results.txt\")\n",
    "balbc_ncorwt_amln = pd.read_csv(outdir + \"deseq/balbc_ncorwt_amln_atac_deseq_pairwise_results.txt\")"
   ]
  },
  {
   "cell_type": "code",
   "execution_count": 29,
   "metadata": {},
   "outputs": [
    {
     "data": {
      "text/html": [
       "<div>\n",
       "<style scoped>\n",
       "    .dataframe tbody tr th:only-of-type {\n",
       "        vertical-align: middle;\n",
       "    }\n",
       "\n",
       "    .dataframe tbody tr th {\n",
       "        vertical-align: top;\n",
       "    }\n",
       "\n",
       "    .dataframe thead th {\n",
       "        text-align: right;\n",
       "    }\n",
       "</style>\n",
       "<table border=\"1\" class=\"dataframe\">\n",
       "  <thead>\n",
       "    <tr style=\"text-align: right;\">\n",
       "      <th></th>\n",
       "      <th>Unnamed: 0</th>\n",
       "      <th>baseMean</th>\n",
       "      <th>log2FoldChange</th>\n",
       "      <th>lfcSE</th>\n",
       "      <th>stat</th>\n",
       "      <th>pvalue</th>\n",
       "      <th>padj</th>\n",
       "    </tr>\n",
       "  </thead>\n",
       "  <tbody>\n",
       "    <tr>\n",
       "      <th>0</th>\n",
       "      <td>Merged-chr17-34264742-3</td>\n",
       "      <td>21.862139</td>\n",
       "      <td>2.888149</td>\n",
       "      <td>0.572310</td>\n",
       "      <td>5.046477</td>\n",
       "      <td>4.500302e-07</td>\n",
       "      <td>0.027875</td>\n",
       "    </tr>\n",
       "    <tr>\n",
       "      <th>1</th>\n",
       "      <td>Merged-chr6-47650218-2</td>\n",
       "      <td>14.167452</td>\n",
       "      <td>3.490617</td>\n",
       "      <td>0.707380</td>\n",
       "      <td>4.934573</td>\n",
       "      <td>8.032623e-07</td>\n",
       "      <td>0.027875</td>\n",
       "    </tr>\n",
       "    <tr>\n",
       "      <th>2</th>\n",
       "      <td>Merged-chr7-19305092-2</td>\n",
       "      <td>16.956990</td>\n",
       "      <td>2.907727</td>\n",
       "      <td>0.616900</td>\n",
       "      <td>4.713446</td>\n",
       "      <td>2.435625e-06</td>\n",
       "      <td>0.056348</td>\n",
       "    </tr>\n",
       "    <tr>\n",
       "      <th>3</th>\n",
       "      <td>Merged-chr17-45556031-1</td>\n",
       "      <td>12.849818</td>\n",
       "      <td>3.211468</td>\n",
       "      <td>0.705501</td>\n",
       "      <td>4.552040</td>\n",
       "      <td>5.312813e-06</td>\n",
       "      <td>0.092184</td>\n",
       "    </tr>\n",
       "  </tbody>\n",
       "</table>\n",
       "</div>"
      ],
      "text/plain": [
       "                Unnamed: 0   baseMean  log2FoldChange     lfcSE      stat  \\\n",
       "0  Merged-chr17-34264742-3  21.862139        2.888149  0.572310  5.046477   \n",
       "1   Merged-chr6-47650218-2  14.167452        3.490617  0.707380  4.934573   \n",
       "2   Merged-chr7-19305092-2  16.956990        2.907727  0.616900  4.713446   \n",
       "3  Merged-chr17-45556031-1  12.849818        3.211468  0.705501  4.552040   \n",
       "\n",
       "         pvalue      padj  \n",
       "0  4.500302e-07  0.027875  \n",
       "1  8.032623e-07  0.027875  \n",
       "2  2.435625e-06  0.056348  \n",
       "3  5.312813e-06  0.092184  "
      ]
     },
     "execution_count": 29,
     "metadata": {},
     "output_type": "execute_result"
    }
   ],
   "source": [
    "aj_amln.loc[aj_amln.padj < 0.1, ]"
   ]
  },
  {
   "cell_type": "code",
   "execution_count": 28,
   "metadata": {},
   "outputs": [
    {
     "data": {
      "text/html": [
       "<div>\n",
       "<style scoped>\n",
       "    .dataframe tbody tr th:only-of-type {\n",
       "        vertical-align: middle;\n",
       "    }\n",
       "\n",
       "    .dataframe tbody tr th {\n",
       "        vertical-align: top;\n",
       "    }\n",
       "\n",
       "    .dataframe thead th {\n",
       "        text-align: right;\n",
       "    }\n",
       "</style>\n",
       "<table border=\"1\" class=\"dataframe\">\n",
       "  <thead>\n",
       "    <tr style=\"text-align: right;\">\n",
       "      <th></th>\n",
       "      <th>chr</th>\n",
       "      <th>start</th>\n",
       "      <th>end</th>\n",
       "      <th>strand</th>\n",
       "      <th>Stat</th>\n",
       "      <th>Parent files</th>\n",
       "      <th>Total subpeaks</th>\n",
       "      <th>aj_amln/optimal_peakfile.txt</th>\n",
       "      <th>aj_control/optimal_peakfile.txt</th>\n",
       "      <th>balbc_amln/optimal_peakfile.txt</th>\n",
       "      <th>balbc_control/optimal_peakfile.txt</th>\n",
       "      <th>ncorwt_amln/optimal_peakfile.txt</th>\n",
       "      <th>ncorwt_control/optimal_peakfile.txt</th>\n",
       "      <th>browser</th>\n",
       "    </tr>\n",
       "    <tr>\n",
       "      <th>#name (cmd = mergePeaks -d 200 aj_amln/optimal_peakfile.txt aj_control/optimal_peakfile.txt balbc_amln/optimal_peakfile.txt balbc_control/optimal_peakfile.txt ncorwt_amln/optimal_peakfile.txt ncorwt_control/optimal_peakfile.txt)</th>\n",
       "      <th></th>\n",
       "      <th></th>\n",
       "      <th></th>\n",
       "      <th></th>\n",
       "      <th></th>\n",
       "      <th></th>\n",
       "      <th></th>\n",
       "      <th></th>\n",
       "      <th></th>\n",
       "      <th></th>\n",
       "      <th></th>\n",
       "      <th></th>\n",
       "      <th></th>\n",
       "      <th></th>\n",
       "    </tr>\n",
       "  </thead>\n",
       "  <tbody>\n",
       "    <tr>\n",
       "      <th>Merged-chr17-34264742-3</th>\n",
       "      <td>chr17</td>\n",
       "      <td>34264558</td>\n",
       "      <td>34264899</td>\n",
       "      <td>+</td>\n",
       "      <td>14.966666</td>\n",
       "      <td>aj_amln/optimal_peakfile.txt|balbc_control/opt...</td>\n",
       "      <td>3</td>\n",
       "      <td>chr17-943</td>\n",
       "      <td>NaN</td>\n",
       "      <td>NaN</td>\n",
       "      <td>chr17-1390</td>\n",
       "      <td>chr17-2375</td>\n",
       "      <td>NaN</td>\n",
       "      <td>chr17:34264558-34264899</td>\n",
       "    </tr>\n",
       "    <tr>\n",
       "      <th>Merged-chr6-47650218-2</th>\n",
       "      <td>chr6</td>\n",
       "      <td>47650102</td>\n",
       "      <td>47650334</td>\n",
       "      <td>+</td>\n",
       "      <td>13.500000</td>\n",
       "      <td>aj_amln/optimal_peakfile.txt|balbc_amln/optima...</td>\n",
       "      <td>2</td>\n",
       "      <td>chr6-729</td>\n",
       "      <td>NaN</td>\n",
       "      <td>chr6-2019</td>\n",
       "      <td>NaN</td>\n",
       "      <td>NaN</td>\n",
       "      <td>NaN</td>\n",
       "      <td>chr6:47650102-47650334</td>\n",
       "    </tr>\n",
       "    <tr>\n",
       "      <th>Merged-chr7-19305092-2</th>\n",
       "      <td>chr7</td>\n",
       "      <td>19304976</td>\n",
       "      <td>19305208</td>\n",
       "      <td>+</td>\n",
       "      <td>19.950001</td>\n",
       "      <td>aj_amln/optimal_peakfile.txt|ncorwt_control/op...</td>\n",
       "      <td>2</td>\n",
       "      <td>chr7-1176</td>\n",
       "      <td>NaN</td>\n",
       "      <td>NaN</td>\n",
       "      <td>NaN</td>\n",
       "      <td>NaN</td>\n",
       "      <td>chr7-2536</td>\n",
       "      <td>chr7:19304976-19305208</td>\n",
       "    </tr>\n",
       "    <tr>\n",
       "      <th>Merged-chr17-45556031-1</th>\n",
       "      <td>chr17</td>\n",
       "      <td>45555931</td>\n",
       "      <td>45556131</td>\n",
       "      <td>+</td>\n",
       "      <td>18.700001</td>\n",
       "      <td>aj_amln/optimal_peakfile.txt</td>\n",
       "      <td>1</td>\n",
       "      <td>chr17-851</td>\n",
       "      <td>NaN</td>\n",
       "      <td>NaN</td>\n",
       "      <td>NaN</td>\n",
       "      <td>NaN</td>\n",
       "      <td>NaN</td>\n",
       "      <td>chr17:45555931-45556131</td>\n",
       "    </tr>\n",
       "  </tbody>\n",
       "</table>\n",
       "</div>"
      ],
      "text/plain": [
       "                                                      chr     start       end  \\\n",
       "#name (cmd = mergePeaks -d 200 aj_amln/optimal_...                              \n",
       "Merged-chr17-34264742-3                             chr17  34264558  34264899   \n",
       "Merged-chr6-47650218-2                               chr6  47650102  47650334   \n",
       "Merged-chr7-19305092-2                               chr7  19304976  19305208   \n",
       "Merged-chr17-45556031-1                             chr17  45555931  45556131   \n",
       "\n",
       "                                                   strand       Stat  \\\n",
       "#name (cmd = mergePeaks -d 200 aj_amln/optimal_...                     \n",
       "Merged-chr17-34264742-3                                 +  14.966666   \n",
       "Merged-chr6-47650218-2                                  +  13.500000   \n",
       "Merged-chr7-19305092-2                                  +  19.950001   \n",
       "Merged-chr17-45556031-1                                 +  18.700001   \n",
       "\n",
       "                                                                                         Parent files  \\\n",
       "#name (cmd = mergePeaks -d 200 aj_amln/optimal_...                                                      \n",
       "Merged-chr17-34264742-3                             aj_amln/optimal_peakfile.txt|balbc_control/opt...   \n",
       "Merged-chr6-47650218-2                              aj_amln/optimal_peakfile.txt|balbc_amln/optima...   \n",
       "Merged-chr7-19305092-2                              aj_amln/optimal_peakfile.txt|ncorwt_control/op...   \n",
       "Merged-chr17-45556031-1                                                  aj_amln/optimal_peakfile.txt   \n",
       "\n",
       "                                                    Total subpeaks  \\\n",
       "#name (cmd = mergePeaks -d 200 aj_amln/optimal_...                   \n",
       "Merged-chr17-34264742-3                                          3   \n",
       "Merged-chr6-47650218-2                                           2   \n",
       "Merged-chr7-19305092-2                                           2   \n",
       "Merged-chr17-45556031-1                                          1   \n",
       "\n",
       "                                                   aj_amln/optimal_peakfile.txt  \\\n",
       "#name (cmd = mergePeaks -d 200 aj_amln/optimal_...                                \n",
       "Merged-chr17-34264742-3                                               chr17-943   \n",
       "Merged-chr6-47650218-2                                                 chr6-729   \n",
       "Merged-chr7-19305092-2                                                chr7-1176   \n",
       "Merged-chr17-45556031-1                                               chr17-851   \n",
       "\n",
       "                                                   aj_control/optimal_peakfile.txt  \\\n",
       "#name (cmd = mergePeaks -d 200 aj_amln/optimal_...                                   \n",
       "Merged-chr17-34264742-3                                                        NaN   \n",
       "Merged-chr6-47650218-2                                                         NaN   \n",
       "Merged-chr7-19305092-2                                                         NaN   \n",
       "Merged-chr17-45556031-1                                                        NaN   \n",
       "\n",
       "                                                   balbc_amln/optimal_peakfile.txt  \\\n",
       "#name (cmd = mergePeaks -d 200 aj_amln/optimal_...                                   \n",
       "Merged-chr17-34264742-3                                                        NaN   \n",
       "Merged-chr6-47650218-2                                                   chr6-2019   \n",
       "Merged-chr7-19305092-2                                                         NaN   \n",
       "Merged-chr17-45556031-1                                                        NaN   \n",
       "\n",
       "                                                   balbc_control/optimal_peakfile.txt  \\\n",
       "#name (cmd = mergePeaks -d 200 aj_amln/optimal_...                                      \n",
       "Merged-chr17-34264742-3                                                    chr17-1390   \n",
       "Merged-chr6-47650218-2                                                            NaN   \n",
       "Merged-chr7-19305092-2                                                            NaN   \n",
       "Merged-chr17-45556031-1                                                           NaN   \n",
       "\n",
       "                                                   ncorwt_amln/optimal_peakfile.txt  \\\n",
       "#name (cmd = mergePeaks -d 200 aj_amln/optimal_...                                    \n",
       "Merged-chr17-34264742-3                                                  chr17-2375   \n",
       "Merged-chr6-47650218-2                                                          NaN   \n",
       "Merged-chr7-19305092-2                                                          NaN   \n",
       "Merged-chr17-45556031-1                                                         NaN   \n",
       "\n",
       "                                                   ncorwt_control/optimal_peakfile.txt  \\\n",
       "#name (cmd = mergePeaks -d 200 aj_amln/optimal_...                                       \n",
       "Merged-chr17-34264742-3                                                            NaN   \n",
       "Merged-chr6-47650218-2                                                             NaN   \n",
       "Merged-chr7-19305092-2                                                       chr7-2536   \n",
       "Merged-chr17-45556031-1                                                            NaN   \n",
       "\n",
       "                                                                    browser  \n",
       "#name (cmd = mergePeaks -d 200 aj_amln/optimal_...                           \n",
       "Merged-chr17-34264742-3                             chr17:34264558-34264899  \n",
       "Merged-chr6-47650218-2                               chr6:47650102-47650334  \n",
       "Merged-chr7-19305092-2                               chr7:19304976-19305208  \n",
       "Merged-chr17-45556031-1                             chr17:45555931-45556131  "
      ]
     },
     "execution_count": 28,
     "metadata": {},
     "output_type": "execute_result"
    }
   ],
   "source": [
    "atac_union.loc[aj_amln.loc[aj_amln.padj < 0.1, 'Unnamed: 0'], ]"
   ]
  },
  {
   "cell_type": "code",
   "execution_count": null,
   "metadata": {},
   "outputs": [],
   "source": []
  },
  {
   "cell_type": "code",
   "execution_count": 30,
   "metadata": {},
   "outputs": [
    {
     "ename": "FileNotFoundError",
     "evalue": "File b'/home/h1bennet/liverStrains/results/180103_ATAC//aj_amln_atac_deseq_results.txt' does not exist",
     "output_type": "error",
     "traceback": [
      "\u001b[0;31m---------------------------------------------------------------------------\u001b[0m",
      "\u001b[0;31mFileNotFoundError\u001b[0m                         Traceback (most recent call last)",
      "\u001b[0;32m<ipython-input-30-e57af4e657fa>\u001b[0m in \u001b[0;36m<module>\u001b[0;34m()\u001b[0m\n\u001b[1;32m      1\u001b[0m \u001b[0;31m# aj diff peaks\u001b[0m\u001b[0;34m\u001b[0m\u001b[0;34m\u001b[0m\u001b[0m\n\u001b[0;32m----> 2\u001b[0;31m \u001b[0maj_amln\u001b[0m \u001b[0;34m=\u001b[0m \u001b[0mpd\u001b[0m\u001b[0;34m.\u001b[0m\u001b[0mread_csv\u001b[0m\u001b[0;34m(\u001b[0m\u001b[0moutdir\u001b[0m \u001b[0;34m+\u001b[0m \u001b[0;34m\"/aj_amln_atac_deseq_results.txt\"\u001b[0m\u001b[0;34m)\u001b[0m\u001b[0;34m\u001b[0m\u001b[0m\n\u001b[0m\u001b[1;32m      3\u001b[0m \u001b[0maj_balb\u001b[0m \u001b[0;34m=\u001b[0m \u001b[0mpd\u001b[0m\u001b[0;34m.\u001b[0m\u001b[0mread_csv\u001b[0m\u001b[0;34m(\u001b[0m\u001b[0moutdir\u001b[0m \u001b[0;34m+\u001b[0m \u001b[0;34m\"/balbc_aj_amln_interaction_atac_deseq_results.txt\"\u001b[0m\u001b[0;34m)\u001b[0m\u001b[0;34m\u001b[0m\u001b[0m\n\u001b[1;32m      4\u001b[0m \u001b[0maj_ncor\u001b[0m \u001b[0;34m=\u001b[0m \u001b[0mpd\u001b[0m\u001b[0;34m.\u001b[0m\u001b[0mread_csv\u001b[0m\u001b[0;34m(\u001b[0m\u001b[0moutdir\u001b[0m \u001b[0;34m+\u001b[0m \u001b[0;34m\"/aj_ncorwt_amln_interaction_atac_deseq_results.txt\"\u001b[0m\u001b[0;34m)\u001b[0m\u001b[0;34m\u001b[0m\u001b[0m\n",
      "\u001b[0;32m~/anaconda3/envs/deseq/lib/python3.6/site-packages/pandas/io/parsers.py\u001b[0m in \u001b[0;36mparser_f\u001b[0;34m(filepath_or_buffer, sep, delimiter, header, names, index_col, usecols, squeeze, prefix, mangle_dupe_cols, dtype, engine, converters, true_values, false_values, skipinitialspace, skiprows, nrows, na_values, keep_default_na, na_filter, verbose, skip_blank_lines, parse_dates, infer_datetime_format, keep_date_col, date_parser, dayfirst, iterator, chunksize, compression, thousands, decimal, lineterminator, quotechar, quoting, escapechar, comment, encoding, dialect, tupleize_cols, error_bad_lines, warn_bad_lines, skipfooter, skip_footer, doublequote, delim_whitespace, as_recarray, compact_ints, use_unsigned, low_memory, buffer_lines, memory_map, float_precision)\u001b[0m\n\u001b[1;32m    703\u001b[0m                     skip_blank_lines=skip_blank_lines)\n\u001b[1;32m    704\u001b[0m \u001b[0;34m\u001b[0m\u001b[0m\n\u001b[0;32m--> 705\u001b[0;31m         \u001b[0;32mreturn\u001b[0m \u001b[0m_read\u001b[0m\u001b[0;34m(\u001b[0m\u001b[0mfilepath_or_buffer\u001b[0m\u001b[0;34m,\u001b[0m \u001b[0mkwds\u001b[0m\u001b[0;34m)\u001b[0m\u001b[0;34m\u001b[0m\u001b[0m\n\u001b[0m\u001b[1;32m    706\u001b[0m \u001b[0;34m\u001b[0m\u001b[0m\n\u001b[1;32m    707\u001b[0m     \u001b[0mparser_f\u001b[0m\u001b[0;34m.\u001b[0m\u001b[0m__name__\u001b[0m \u001b[0;34m=\u001b[0m \u001b[0mname\u001b[0m\u001b[0;34m\u001b[0m\u001b[0m\n",
      "\u001b[0;32m~/anaconda3/envs/deseq/lib/python3.6/site-packages/pandas/io/parsers.py\u001b[0m in \u001b[0;36m_read\u001b[0;34m(filepath_or_buffer, kwds)\u001b[0m\n\u001b[1;32m    443\u001b[0m \u001b[0;34m\u001b[0m\u001b[0m\n\u001b[1;32m    444\u001b[0m     \u001b[0;31m# Create the parser.\u001b[0m\u001b[0;34m\u001b[0m\u001b[0;34m\u001b[0m\u001b[0m\n\u001b[0;32m--> 445\u001b[0;31m     \u001b[0mparser\u001b[0m \u001b[0;34m=\u001b[0m \u001b[0mTextFileReader\u001b[0m\u001b[0;34m(\u001b[0m\u001b[0mfilepath_or_buffer\u001b[0m\u001b[0;34m,\u001b[0m \u001b[0;34m**\u001b[0m\u001b[0mkwds\u001b[0m\u001b[0;34m)\u001b[0m\u001b[0;34m\u001b[0m\u001b[0m\n\u001b[0m\u001b[1;32m    446\u001b[0m \u001b[0;34m\u001b[0m\u001b[0m\n\u001b[1;32m    447\u001b[0m     \u001b[0;32mif\u001b[0m \u001b[0mchunksize\u001b[0m \u001b[0;32mor\u001b[0m \u001b[0miterator\u001b[0m\u001b[0;34m:\u001b[0m\u001b[0;34m\u001b[0m\u001b[0m\n",
      "\u001b[0;32m~/anaconda3/envs/deseq/lib/python3.6/site-packages/pandas/io/parsers.py\u001b[0m in \u001b[0;36m__init__\u001b[0;34m(self, f, engine, **kwds)\u001b[0m\n\u001b[1;32m    812\u001b[0m             \u001b[0mself\u001b[0m\u001b[0;34m.\u001b[0m\u001b[0moptions\u001b[0m\u001b[0;34m[\u001b[0m\u001b[0;34m'has_index_names'\u001b[0m\u001b[0;34m]\u001b[0m \u001b[0;34m=\u001b[0m \u001b[0mkwds\u001b[0m\u001b[0;34m[\u001b[0m\u001b[0;34m'has_index_names'\u001b[0m\u001b[0;34m]\u001b[0m\u001b[0;34m\u001b[0m\u001b[0m\n\u001b[1;32m    813\u001b[0m \u001b[0;34m\u001b[0m\u001b[0m\n\u001b[0;32m--> 814\u001b[0;31m         \u001b[0mself\u001b[0m\u001b[0;34m.\u001b[0m\u001b[0m_make_engine\u001b[0m\u001b[0;34m(\u001b[0m\u001b[0mself\u001b[0m\u001b[0;34m.\u001b[0m\u001b[0mengine\u001b[0m\u001b[0;34m)\u001b[0m\u001b[0;34m\u001b[0m\u001b[0m\n\u001b[0m\u001b[1;32m    815\u001b[0m \u001b[0;34m\u001b[0m\u001b[0m\n\u001b[1;32m    816\u001b[0m     \u001b[0;32mdef\u001b[0m \u001b[0mclose\u001b[0m\u001b[0;34m(\u001b[0m\u001b[0mself\u001b[0m\u001b[0;34m)\u001b[0m\u001b[0;34m:\u001b[0m\u001b[0;34m\u001b[0m\u001b[0m\n",
      "\u001b[0;32m~/anaconda3/envs/deseq/lib/python3.6/site-packages/pandas/io/parsers.py\u001b[0m in \u001b[0;36m_make_engine\u001b[0;34m(self, engine)\u001b[0m\n\u001b[1;32m   1043\u001b[0m     \u001b[0;32mdef\u001b[0m \u001b[0m_make_engine\u001b[0m\u001b[0;34m(\u001b[0m\u001b[0mself\u001b[0m\u001b[0;34m,\u001b[0m \u001b[0mengine\u001b[0m\u001b[0;34m=\u001b[0m\u001b[0;34m'c'\u001b[0m\u001b[0;34m)\u001b[0m\u001b[0;34m:\u001b[0m\u001b[0;34m\u001b[0m\u001b[0m\n\u001b[1;32m   1044\u001b[0m         \u001b[0;32mif\u001b[0m \u001b[0mengine\u001b[0m \u001b[0;34m==\u001b[0m \u001b[0;34m'c'\u001b[0m\u001b[0;34m:\u001b[0m\u001b[0;34m\u001b[0m\u001b[0m\n\u001b[0;32m-> 1045\u001b[0;31m             \u001b[0mself\u001b[0m\u001b[0;34m.\u001b[0m\u001b[0m_engine\u001b[0m \u001b[0;34m=\u001b[0m \u001b[0mCParserWrapper\u001b[0m\u001b[0;34m(\u001b[0m\u001b[0mself\u001b[0m\u001b[0;34m.\u001b[0m\u001b[0mf\u001b[0m\u001b[0;34m,\u001b[0m \u001b[0;34m**\u001b[0m\u001b[0mself\u001b[0m\u001b[0;34m.\u001b[0m\u001b[0moptions\u001b[0m\u001b[0;34m)\u001b[0m\u001b[0;34m\u001b[0m\u001b[0m\n\u001b[0m\u001b[1;32m   1046\u001b[0m         \u001b[0;32melse\u001b[0m\u001b[0;34m:\u001b[0m\u001b[0;34m\u001b[0m\u001b[0m\n\u001b[1;32m   1047\u001b[0m             \u001b[0;32mif\u001b[0m \u001b[0mengine\u001b[0m \u001b[0;34m==\u001b[0m \u001b[0;34m'python'\u001b[0m\u001b[0;34m:\u001b[0m\u001b[0;34m\u001b[0m\u001b[0m\n",
      "\u001b[0;32m~/anaconda3/envs/deseq/lib/python3.6/site-packages/pandas/io/parsers.py\u001b[0m in \u001b[0;36m__init__\u001b[0;34m(self, src, **kwds)\u001b[0m\n\u001b[1;32m   1682\u001b[0m         \u001b[0mkwds\u001b[0m\u001b[0;34m[\u001b[0m\u001b[0;34m'allow_leading_cols'\u001b[0m\u001b[0;34m]\u001b[0m \u001b[0;34m=\u001b[0m \u001b[0mself\u001b[0m\u001b[0;34m.\u001b[0m\u001b[0mindex_col\u001b[0m \u001b[0;32mis\u001b[0m \u001b[0;32mnot\u001b[0m \u001b[0;32mFalse\u001b[0m\u001b[0;34m\u001b[0m\u001b[0m\n\u001b[1;32m   1683\u001b[0m \u001b[0;34m\u001b[0m\u001b[0m\n\u001b[0;32m-> 1684\u001b[0;31m         \u001b[0mself\u001b[0m\u001b[0;34m.\u001b[0m\u001b[0m_reader\u001b[0m \u001b[0;34m=\u001b[0m \u001b[0mparsers\u001b[0m\u001b[0;34m.\u001b[0m\u001b[0mTextReader\u001b[0m\u001b[0;34m(\u001b[0m\u001b[0msrc\u001b[0m\u001b[0;34m,\u001b[0m \u001b[0;34m**\u001b[0m\u001b[0mkwds\u001b[0m\u001b[0;34m)\u001b[0m\u001b[0;34m\u001b[0m\u001b[0m\n\u001b[0m\u001b[1;32m   1685\u001b[0m \u001b[0;34m\u001b[0m\u001b[0m\n\u001b[1;32m   1686\u001b[0m         \u001b[0;31m# XXX\u001b[0m\u001b[0;34m\u001b[0m\u001b[0;34m\u001b[0m\u001b[0m\n",
      "\u001b[0;32mpandas/_libs/parsers.pyx\u001b[0m in \u001b[0;36mpandas._libs.parsers.TextReader.__cinit__\u001b[0;34m()\u001b[0m\n",
      "\u001b[0;32mpandas/_libs/parsers.pyx\u001b[0m in \u001b[0;36mpandas._libs.parsers.TextReader._setup_parser_source\u001b[0;34m()\u001b[0m\n",
      "\u001b[0;31mFileNotFoundError\u001b[0m: File b'/home/h1bennet/liverStrains/results/180103_ATAC//aj_amln_atac_deseq_results.txt' does not exist"
     ]
    }
   ],
   "source": [
    "# aj diff peaks\n",
    "aj_amln = pd.read_csv(outdir + \"/aj_amln_atac_deseq_results.txt\")\n",
    "aj_balb = pd.read_csv(outdir + \"/balbc_aj_amln_interaction_atac_deseq_results.txt\")\n",
    "aj_ncor = pd.read_csv(outdir + \"/aj_ncorwt_amln_interaction_atac_deseq_results.txt\")"
   ]
  },
  {
   "cell_type": "code",
   "execution_count": 31,
   "metadata": {},
   "outputs": [
    {
     "data": {
      "text/plain": [
       "False    69401\n",
       "True         4\n",
       "Name: padj, dtype: int64"
      ]
     },
     "execution_count": 31,
     "metadata": {},
     "output_type": "execute_result"
    }
   ],
   "source": [
    "(aj_amln.padj <= 0.1).value_counts()"
   ]
  },
  {
   "cell_type": "code",
   "execution_count": 20,
   "metadata": {},
   "outputs": [
    {
     "data": {
      "text/plain": [
       "False    60785\n",
       "dtype: int64"
      ]
     },
     "execution_count": 20,
     "metadata": {},
     "output_type": "execute_result"
    }
   ],
   "source": [
    "# combine into one DF\n",
    "aj = aj_amln.merge(aj_balb.merge(aj_ncor, how='outer', on='Unnamed: 0',\n",
    "                                    suffixes=('_aj_balb', '_aj_ncor')),\n",
    "                      how='outer', on='Unnamed: 0')\n",
    "# get aj specific peaks\n",
    "aj_balb_spec = ((np.abs(aj.log2FoldChange) >= 1) & (aj.padj <=0.1) & (aj.padj_aj_balb <= 0.1))\n",
    "aj_balb_spec.value_counts()"
   ]
  },
  {
   "cell_type": "code",
   "execution_count": 21,
   "metadata": {},
   "outputs": [
    {
     "data": {
      "text/plain": [
       "False    60785\n",
       "dtype: int64"
      ]
     },
     "execution_count": 21,
     "metadata": {},
     "output_type": "execute_result"
    }
   ],
   "source": [
    "aj_ncor_spec = ((np.abs(aj.log2FoldChange) >= 1) & (aj.padj <=0.1) & (aj.padj_aj_ncor <= 0.1))\n",
    "aj_ncor_spec.value_counts()"
   ]
  },
  {
   "cell_type": "code",
   "execution_count": 22,
   "metadata": {},
   "outputs": [
    {
     "data": {
      "text/plain": [
       "False    60785\n",
       "dtype: int64"
      ]
     },
     "execution_count": 22,
     "metadata": {},
     "output_type": "execute_result"
    }
   ],
   "source": [
    "((aj_balb_spec) & (aj_ncor_spec)).value_counts()\n"
   ]
  },
  {
   "cell_type": "code",
   "execution_count": 10,
   "metadata": {},
   "outputs": [],
   "source": [
    "ncorwt_amln = pd.read_csv(outdir + \"/ncorwt_amln_atac_deseq_results.txt\")\n",
    "ncorwt_aj = pd.read_csv(outdir + \"/aj_ncorwt_amln_interaction_atac_deseq_results.txt\")\n",
    "ncorwt_balb = pd.read_csv(outdir + \"/balbc_ncorwt_amln_interaction_atac_deseq_results.txt\")"
   ]
  },
  {
   "cell_type": "code",
   "execution_count": 11,
   "metadata": {},
   "outputs": [
    {
     "data": {
      "text/plain": [
       "False    60675\n",
       "True       110\n",
       "Name: padj, dtype: int64"
      ]
     },
     "execution_count": 11,
     "metadata": {},
     "output_type": "execute_result"
    }
   ],
   "source": [
    "(ncorwt_amln.padj <= 0.1).value_counts()"
   ]
  },
  {
   "cell_type": "code",
   "execution_count": 23,
   "metadata": {},
   "outputs": [],
   "source": [
    "# combine into one DF\n",
    "ncorwt = ncorwt_amln.merge(ncorwt_balb.merge(ncorwt_aj, how='outer', on='Unnamed: 0',\n",
    "                                             suffixes=('_ncorwt_balb', '_ncorwt_aj')),\n",
    "                           how='outer', on='Unnamed: 0')"
   ]
  },
  {
   "cell_type": "code",
   "execution_count": 24,
   "metadata": {},
   "outputs": [
    {
     "data": {
      "text/plain": [
       "False    60784\n",
       "True         1\n",
       "dtype: int64"
      ]
     },
     "execution_count": 24,
     "metadata": {},
     "output_type": "execute_result"
    }
   ],
   "source": [
    "ncorwt_balb_spec = ((np.abs(ncorwt.log2FoldChange) >= 1) & (ncorwt.padj <=0.1) & (ncorwt.padj_ncorwt_balb <= 0.1))\n",
    "ncorwt_balb_spec.value_counts()"
   ]
  },
  {
   "cell_type": "code",
   "execution_count": 25,
   "metadata": {},
   "outputs": [
    {
     "data": {
      "text/plain": [
       "False    60785\n",
       "dtype: int64"
      ]
     },
     "execution_count": 25,
     "metadata": {},
     "output_type": "execute_result"
    }
   ],
   "source": [
    "ncorwt_aj_spec = ((np.abs(ncorwt.log2FoldChange) >= 1) & (ncorwt.padj <=0.1) & (ncorwt.padj_ncorwt_aj <= 0.1))\n",
    "ncorwt_aj_spec.value_counts()"
   ]
  },
  {
   "cell_type": "code",
   "execution_count": 14,
   "metadata": {},
   "outputs": [],
   "source": [
    "balb_amln = pd.read_csv(outdir + \"/balbc_amln_atac_deseq_results.txt\")"
   ]
  },
  {
   "cell_type": "code",
   "execution_count": 15,
   "metadata": {},
   "outputs": [
    {
     "data": {
      "text/plain": [
       "False    60785\n",
       "Name: padj, dtype: int64"
      ]
     },
     "execution_count": 15,
     "metadata": {},
     "output_type": "execute_result"
    }
   ],
   "source": [
    "(balb_amln.padj <= 0.1).value_counts()"
   ]
  },
  {
   "cell_type": "code",
   "execution_count": null,
   "metadata": {},
   "outputs": [],
   "source": []
  }
 ],
 "metadata": {
  "kernelspec": {
   "display_name": "Python (deseq)",
   "language": "python",
   "name": "deseq"
  },
  "language_info": {
   "codemirror_mode": {
    "name": "ipython",
    "version": 3
   },
   "file_extension": ".py",
   "mimetype": "text/x-python",
   "name": "python",
   "nbconvert_exporter": "python",
   "pygments_lexer": "ipython3",
   "version": "3.6.3"
  }
 },
 "nbformat": 4,
 "nbformat_minor": 2
}
