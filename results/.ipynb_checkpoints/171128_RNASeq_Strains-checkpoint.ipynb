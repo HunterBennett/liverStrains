{
 "cells": [
  {
   "cell_type": "markdown",
   "metadata": {},
   "source": [
    "## Hunter Bennett  \n",
    "Glass Lab  \n",
    "Created 171128 | Last updated 171204  \n",
    "____________  \n",
    "This notebook explores our rnasequencing data for the three strains of mice. both at teh whole liver level and Kupffer cell specific level"
   ]
  },
  {
   "cell_type": "code",
   "execution_count": 8,
   "metadata": {},
   "outputs": [
    {
     "name": "stderr",
     "output_type": "stream",
     "text": [
      "/home/h1bennet/anaconda3/envs/deseq/lib/python3.6/site-packages/rpy2/rinterface/__init__.py:186: RRuntimeWarning: During startup - \n",
      "  warnings.warn(x, RRuntimeWarning)\n",
      "/home/h1bennet/anaconda3/envs/deseq/lib/python3.6/site-packages/rpy2/rinterface/__init__.py:186: RRuntimeWarning: Warning messages:\n",
      "\n",
      "  warnings.warn(x, RRuntimeWarning)\n",
      "/home/h1bennet/anaconda3/envs/deseq/lib/python3.6/site-packages/rpy2/rinterface/__init__.py:186: RRuntimeWarning: 1: package ‘methods’ was built under R version 3.3.3 \n",
      "\n",
      "  warnings.warn(x, RRuntimeWarning)\n",
      "/home/h1bennet/anaconda3/envs/deseq/lib/python3.6/site-packages/rpy2/rinterface/__init__.py:186: RRuntimeWarning: 2: package ‘datasets’ was built under R version 3.3.3 \n",
      "\n",
      "  warnings.warn(x, RRuntimeWarning)\n",
      "/home/h1bennet/anaconda3/envs/deseq/lib/python3.6/site-packages/rpy2/rinterface/__init__.py:186: RRuntimeWarning: 3: package ‘utils’ was built under R version 3.3.3 \n",
      "\n",
      "  warnings.warn(x, RRuntimeWarning)\n",
      "/home/h1bennet/anaconda3/envs/deseq/lib/python3.6/site-packages/rpy2/rinterface/__init__.py:186: RRuntimeWarning: 4: package ‘grDevices’ was built under R version 3.3.3 \n",
      "\n",
      "  warnings.warn(x, RRuntimeWarning)\n",
      "/home/h1bennet/anaconda3/envs/deseq/lib/python3.6/site-packages/rpy2/rinterface/__init__.py:186: RRuntimeWarning: 5: package ‘graphics’ was built under R version 3.3.3 \n",
      "\n",
      "  warnings.warn(x, RRuntimeWarning)\n",
      "/home/h1bennet/anaconda3/envs/deseq/lib/python3.6/site-packages/rpy2/rinterface/__init__.py:186: RRuntimeWarning: 6: package ‘stats’ was built under R version 3.3.3 \n",
      "\n",
      "  warnings.warn(x, RRuntimeWarning)\n"
     ]
    }
   ],
   "source": [
    "import numpy as np\n",
    "import pandas as pd\n",
    "import seaborn as sns\n",
    "import matplotlib.pyplot as plt\n",
    "from IPython.display import Image\n",
    "import subprocess\n",
    "import os\n",
    "import sys\n",
    "import glob\n",
    "import re\n",
    "\n",
    "# import user defined packages\n",
    "sys.path.insert(0, '/home/h1bennet/scripts')\n",
    "import hbUtils\n",
    "\n",
    "# plot matplotlib plots in notebook\n",
    "%matplotlib inline\n",
    "\n",
    "# load extension for running R from python\n",
    "%load_ext rpy2.ipython"
   ]
  },
  {
   "cell_type": "code",
   "execution_count": 9,
   "metadata": {},
   "outputs": [],
   "source": [
    "# define path to data\n",
    "datapath = {'liver':'/data/mm10/Liver/RNA/', 'kupffer':'/data/mm10/Kupffer/RNA/'}\n",
    "\n",
    "# define output directory\n",
    "outdir = '/home/h1bennet/liverStrains/results/171129_RNA_Seq'\n",
    "if not os.path.isdir(outdir):\n",
    "    subprocess.call(['mkdir', outdir])\n",
    "\n",
    "# define samples for both whole liver and kupffer\n",
    "samples = {'liver':['aj_WholeLiver_RNA_polyA_AMLNDiet_30week_AJ3A_JSS_TDT_16_09_26.aj.star_shifted_from_AJ.sam',\n",
    "'aj_WholeLiver_RNA_polyA_AMLNDiet_30week_AJ3B_JSS_TDT_16_09_26.aj.star_shifted_from_AJ.sam',\n",
    "'aj_WholeLiver_RNA_polyA_AMLNDiet_30week_AJ3C_JSS_TDT_16_09_28.aj.star_shifted_from_AJ.sam',\n",
    "'aj_WholeLiver_RNA_polyA_ControlDiet_30week_AJ1A_JSS_TDT_16_09_26.aj.star_shifted_from_AJ.sam',\n",
    "'aj_WholeLiver_RNA_polyA_ControlDiet_30week_AJ1B_JSS_TDT_16_09_26.aj.star_shifted_from_AJ.sam',\n",
    "'aj_WholeLiver_RNA_polyA_ControlDiet_30week_AJ1C_JSS_TDT_16_09_28.aj.star_shifted_from_AJ.sam',\n",
    "'balbc_WholeLiver_RNA_polyA_AMLNDiet_30week_BALB3A_JSS_TDT_16_09_28.balbcj.star_shifted_from_BALBCJ.sam', # balb3a had 'massive splenomegaly'\n",
    "'balbc_WholeLiver_RNA_polyA_AMLNDiet_30week_BALB3B_JSS_TDT_16_09_26.balbcj.star_shifted_from_BALBCJ.sam',\n",
    "'balbc_WholeLiver_RNA_polyA_AMLNDiet_30week_BALB3C_TDT_JSS_16_09_26.balbcj.star_shifted_from_BALBCJ.sam',\n",
    "'balbc_WholeLiver_RNA_polyA_AMLNDiet_30week_BALB3D_TDT_JSS_16_09_28.balbcj.star_shifted_from_BALBCJ.sam',\n",
    "'balbc_WholeLiver_RNA_polyA_ControlDiet_30week_BALB1A_JSS_TDT_16_09_26.balbcj.star_shifted_from_BALBCJ.sam',\n",
    "'balbc_WholeLiver_RNA_polyA_ControlDiet_30week_BALB1B_JSS_TDT_16_09_26.balbcj.star_shifted_from_BALBCJ.sam',\n",
    "'balbc_WholeLiver_RNA_polyA_ControlDiet_30week_BALB1C_JSS_TDT_16_09_28.balbcj.star_shifted_from_BALBCJ.sam',\n",
    "'NCoRWT_WholeLiver_RNA_polyA_AMLNDiet_30week_LN136C_JSS_TDT_16_09_19',\n",
    "'NCoRWT_WholeLiver_RNA-polyA-AMLNDiet-30week-LN141A-JSS-TDT-16-09-21',\n",
    "'NCoRWT_WholeLiver_RNA-polyA-ControlDiet-30week-LN134B-JSS-TDT-16-09-21',\n",
    "'NCoRWT_WholeLiver_RNA-polyA-ControlDiet-30week-LN134C-JSS-TDT-16-09-19',\n",
    "'NCoRWT_WholeLiver_RNA_polyA_ControlDiet_30week_LN134D_JSS_TDT_16_09_21'],\n",
    "'kupffer':[\"aj_KupfferTotal_RNA_polyA_AMLNDiet_30week_AJ3A_JSSTDT_16_09_26\",\n",
    "\"aj_KupfferTotal_RNA_polyA_AMLNDiet_30week_AJ3B_JSSTDT_16_09_26\",\n",
    "\"aj_KupfferTotal_RNA_polyA_AMLNDiet_30week_AJ3c_JSS_TDT_16_09_28\",\n",
    "\"aj_KupfferTotal_RNA_polyA_ControlDiet_30week_AJ1c_JSS_TDT_16_09_28\",\n",
    "\"aj_KupfferTotal_RNA_polyA_ControlDiet_30week_AJ1d_JSS_TDT_16_09_28\",\n",
    "\"balbc_KupfferTotal_RNA_polyA_AMLNDiet_30week_Balb3a_JSS_TDT_16_09_28\",\n",
    "\"balbc_KupfferTotal_RNA_polyA_AMLNDiet_30week_Balb3B_JSSTDT_16_09_26\",\n",
    "\"balbc_KupfferTotal_RNA_polyA_AMLNDiet_30week_Balb3C_JSSTDT_16_09_26\",\n",
    "\"balbc_KupfferTotal_RNA_polyA_AMLNDiet_30week_Balb3d_JSS_TDT_16_09_28\", # balb3a had 'massive splenomegaly'\n",
    "\"balbc_KupfferTotal_RNA_polyA_ControlDiet_30week_Balb1c_JSS_TDT_16_09_28\",\n",
    "\"balbc_KupfferTotal_RNA_polyA_ControlDiet_30week_Balb1d_JSS_TDT_16_09_28\",\n",
    "\"NCoRWT_KupfferTotal_RNA_polyA_AMLNDiet_30week_LN136C_JSS_TDT_16_09_19\",\n",
    "\"NCoRWT_KupfferTotal_RNA_polyA_AMLNDiet_30week_LN141A_JSS_TDT_16_09_21\",\n",
    "\"NCoRWT_KupfferTotal_RNA_polyA_ControlDiet_30week_LN134B_JSS_TDT_16_09_21\",\n",
    "\"NCoRWT_KupfferTotal_RNA_polyA_ControlDiet_30week_LN134C_JSS_TDT_16_09_19\",\n",
    "\"NCoRWT_KupfferTotal_RNA_polyA_ControlDiet_30week_LN134D_JSS_TDT_16_09_21\"]}"
   ]
  },
  {
   "cell_type": "code",
   "execution_count": 10,
   "metadata": {},
   "outputs": [],
   "source": [
    "# define sample data frame\n",
    "samplesDF = pd.DataFrame([s for groups in samples.values() for s in groups], columns = ['subject'])\n",
    "samplesDF['sample_type'] = ['liver' if 'WholeLiver' in name else 'kupffer' for name in samplesDF.subject]\n",
    "samplesDF['path'] = [datapath[key] + s for key in datapath.keys() for s in samples[key]]\n",
    "samplesDF['batch'] = pd.factorize(samplesDF.subject\\\n",
    "             .str.replace('-','_')\\\n",
    "             .str.findall(r'(\\d+_\\d+_\\d+)').str[0])[0]\n",
    "samplesDF['strain'] = [j.replace('-', '_').split('_')[0].lower() for j in samplesDF.subject]\n",
    "samplesDF['diet'] = ['amln' if 'AMLN' in name else 'control' for name in samplesDF.subject]\n",
    "samplesDF['group'] = samplesDF.strain + '-' + samplesDF.diet\n",
    "samplesDF['group_tissue'] = samplesDF.strain + '-' + samplesDF.diet + '-' + samplesDF.sample_type"
   ]
  },
  {
   "cell_type": "code",
   "execution_count": 11,
   "metadata": {},
   "outputs": [],
   "source": [
    "# set colors for the samples\n",
    "color_dict = {'aj-control':'#fb9a99', 'aj-amln':'#e31a1c',\n",
    "              'balbc-control':'#a6cee3', 'balbc-amln':'#1f78b4',\n",
    "              'ncorwt-control':'#b2df8a', 'ncorwt-amln':'#33a02c'}\n",
    "color_dict_tissue = {'aj-control-kupffer':'#fb9a99', 'aj-amln-kupffer':'#e31a1c',\n",
    "            'balbc-control-kupffer':'#a6cee3', 'balbc-amln-kupffer':'#1f78b4',\n",
    "            'ncorwt-control-kupffer':'#b2df8a', 'ncorwt-amln-kupffer':'#33a02c',\n",
    "            'aj-control-liver':'#fdae6b', 'aj-amln-liver':'#e6550d',\n",
    "            'balbc-control-liver':'#bcbddc', 'balbc-amln-liver':'#756bb1',\n",
    "            'ncorwt-control-liver':'#bdbdbd', 'ncorwt-amln-liver':'#737373'}\n",
    "samplesDF['color'] = [color_dict[group] for group in samplesDF.group]"
   ]
  },
  {
   "cell_type": "markdown",
   "metadata": {},
   "source": [
    "#### Anotate the RNA Seq Samples using python wrapper for annotateRepeats from the Homer package"
   ]
  },
  {
   "cell_type": "code",
   "execution_count": 12,
   "metadata": {},
   "outputs": [],
   "source": [
    "# set analyses we want to do\n",
    "analyses = [('genes', False, None),\n",
    "            ('genes', True, None),\n",
    "            # ('genes', 'False', 'rlog'), # ignore the rlog transform values for now\n",
    "            ('genes', False, 'rpkm'),\n",
    "            ('exons', False, None),\n",
    "            ('exons', True, None),\n",
    "            # ('exons', 'False', 'rlog'), # ignore the rlog transform values for now\n",
    "            ('exons', False, 'rpkm')]"
   ]
  },
  {
   "cell_type": "code",
   "execution_count": 13,
   "metadata": {},
   "outputs": [],
   "source": [
    "# run annotate repeats with set of analysis options\n",
    "for count_type, raw, norm in analyses:\n",
    "    \n",
    "    # generate file name\n",
    "    filename = outdir + '/rnaseq_matrix_' + count_type\n",
    "    if raw:\n",
    "        filename += '_raw'\n",
    "    if norm != None:\n",
    "        filename += ('_'+ str(norm))\n",
    "    filename += '.txt'\n",
    "    \n",
    "    # run annotate repeats\n",
    "    if not os.path.isfile(filename):\n",
    "        out, err = hbUtils.run_annotateRepeats(samplesDF.path,\n",
    "                countType=count_type, raw=raw, norm=norm)\n",
    "        f = open(filename, 'w')\n",
    "        f.write(out.decode('utf-8'))\n",
    "        f.close()\n",
    "        print(err.decode('utf-8'))"
   ]
  },
  {
   "cell_type": "markdown",
   "metadata": {},
   "source": [
    "### PCA Analysis of the Data"
   ]
  },
  {
   "cell_type": "markdown",
   "metadata": {},
   "source": [
    "#### First we need to get a tpm matrix so we can use that for plotting"
   ]
  },
  {
   "cell_type": "code",
   "execution_count": 14,
   "metadata": {},
   "outputs": [],
   "source": [
    "# import rpkm counts as output by annotateRepeats\n",
    "rpkm = pd.read_csv(outdir + '/rnaseq_matrix_genes_rpkm.txt', sep='\\t')\n",
    "\n",
    "# Create column for gene\n",
    "rpkm['Gene'] = pd.Series([x.split('|')[0] for x in rpkm['Annotation/Divergence']])\n",
    "\n",
    "# clean up the columns a bit\n",
    "pattern = r\"\\s+\\(.+\\)$\"\n",
    "rpkm.columns = pd.Series(rpkm.columns)\\\n",
    "        .str.replace(pattern, '')\\\n",
    "        .str.split('/')\\\n",
    "        .str[-1]\n",
    "        \n",
    "#subset matrix of only counts\n",
    "rpkm_mat = rpkm.set_index('RepeatID')[rpkm.columns[\n",
    "        rpkm.columns.to_series().str.contains('RNA')]]\n",
    "\n",
    "# create tpm matrix\n",
    "tpm_mat = rpkm_mat.apply(lambda x: x * (10**6)/x.sum())"
   ]
  },
  {
   "cell_type": "code",
   "execution_count": 15,
   "metadata": {
    "scrolled": true
   },
   "outputs": [
    {
     "ename": "ModuleNotFoundError",
     "evalue": "No module named 'sklearn'",
     "output_type": "error",
     "traceback": [
      "\u001b[0;31m---------------------------------------------------------------------------\u001b[0m",
      "\u001b[0;31mModuleNotFoundError\u001b[0m                       Traceback (most recent call last)",
      "\u001b[0;32m<ipython-input-15-b747d83f242a>\u001b[0m in \u001b[0;36m<module>\u001b[0;34m()\u001b[0m\n\u001b[1;32m      1\u001b[0m \u001b[0;31m# Import packages for PCA analysis\u001b[0m\u001b[0;34m\u001b[0m\u001b[0;34m\u001b[0m\u001b[0m\n\u001b[0;32m----> 2\u001b[0;31m \u001b[0;32mfrom\u001b[0m \u001b[0msklearn\u001b[0m\u001b[0;34m.\u001b[0m\u001b[0mpreprocessing\u001b[0m \u001b[0;32mimport\u001b[0m \u001b[0mStandardScaler\u001b[0m\u001b[0;34m\u001b[0m\u001b[0m\n\u001b[0m\u001b[1;32m      3\u001b[0m \u001b[0;32mfrom\u001b[0m \u001b[0msklearn\u001b[0m\u001b[0;34m.\u001b[0m\u001b[0mdecomposition\u001b[0m \u001b[0;32mimport\u001b[0m \u001b[0mPCA\u001b[0m \u001b[0;31m# uses SVD\u001b[0m\u001b[0;34m\u001b[0m\u001b[0m\n\u001b[1;32m      4\u001b[0m \u001b[0;34m\u001b[0m\u001b[0m\n\u001b[1;32m      5\u001b[0m \u001b[0;31m# standardize matrix, mean=0, std=1\u001b[0m\u001b[0;34m\u001b[0m\u001b[0;34m\u001b[0m\u001b[0m\n",
      "\u001b[0;31mModuleNotFoundError\u001b[0m: No module named 'sklearn'"
     ]
    }
   ],
   "source": [
    "# Import packages for PCA analysis\n",
    "from sklearn.preprocessing import StandardScaler\n",
    "from sklearn.decomposition import PCA # uses SVD\n",
    "\n",
    "# standardize matrix, mean=0, std=1\n",
    "tpm_std = StandardScaler().fit_transform(tpm_mat)\n",
    "# run PCA\n",
    "pca = PCA(n_components=3)\n",
    "tpm_pca = pca.fit_transform(tpm_std.T)\n",
    "#create df for plotting\n",
    "tpm_pca_df = pd.DataFrame(tpm_pca, columns=['PC1', 'PC2', 'PC3'],\n",
    "        index=(samplesDF.group_tissue)).reset_index()"
   ]
  },
  {
   "cell_type": "markdown",
   "metadata": {},
   "source": [
    "#### PC1 appears to be picking up most of the tissue driven variation between the samples\n",
    "at least at first glance there doesn't really seem to be clear delineation between the conditions or strains"
   ]
  },
  {
   "cell_type": "code",
   "execution_count": 16,
   "metadata": {},
   "outputs": [
    {
     "ename": "NameError",
     "evalue": "name 'tpm_pca_df' is not defined",
     "output_type": "error",
     "traceback": [
      "\u001b[0;31m---------------------------------------------------------------------------\u001b[0m",
      "\u001b[0;31mNameError\u001b[0m                                 Traceback (most recent call last)",
      "\u001b[0;32m<ipython-input-16-70b663d0c5e8>\u001b[0m in \u001b[0;36m<module>\u001b[0;34m()\u001b[0m\n\u001b[0;32m----> 1\u001b[0;31m \u001b[0msns\u001b[0m\u001b[0;34m.\u001b[0m\u001b[0mlmplot\u001b[0m\u001b[0;34m(\u001b[0m\u001b[0;34m'PC1'\u001b[0m\u001b[0;34m,\u001b[0m \u001b[0;34m'PC2'\u001b[0m\u001b[0;34m,\u001b[0m \u001b[0mtpm_pca_df\u001b[0m\u001b[0;34m,\u001b[0m \u001b[0mfit_reg\u001b[0m\u001b[0;34m=\u001b[0m\u001b[0;32mFalse\u001b[0m\u001b[0;34m,\u001b[0m \u001b[0mhue\u001b[0m\u001b[0;34m=\u001b[0m\u001b[0;34m'group_tissue'\u001b[0m\u001b[0;34m,\u001b[0m \u001b[0mpalette\u001b[0m\u001b[0;34m=\u001b[0m\u001b[0mcolor_dict_tissue\u001b[0m\u001b[0;34m)\u001b[0m\u001b[0;34m\u001b[0m\u001b[0m\n\u001b[0m",
      "\u001b[0;31mNameError\u001b[0m: name 'tpm_pca_df' is not defined"
     ]
    }
   ],
   "source": [
    "sns.lmplot('PC1', 'PC2', tpm_pca_df, fit_reg=False, hue='group_tissue', palette=color_dict_tissue)"
   ]
  },
  {
   "cell_type": "code",
   "execution_count": 17,
   "metadata": {},
   "outputs": [
    {
     "ename": "NameError",
     "evalue": "name 'tpm_pca_df' is not defined",
     "output_type": "error",
     "traceback": [
      "\u001b[0;31m---------------------------------------------------------------------------\u001b[0m",
      "\u001b[0;31mNameError\u001b[0m                                 Traceback (most recent call last)",
      "\u001b[0;32m<ipython-input-17-65c6858dc088>\u001b[0m in \u001b[0;36m<module>\u001b[0;34m()\u001b[0m\n\u001b[0;32m----> 1\u001b[0;31m \u001b[0msns\u001b[0m\u001b[0;34m.\u001b[0m\u001b[0mlmplot\u001b[0m\u001b[0;34m(\u001b[0m\u001b[0;34m'PC2'\u001b[0m\u001b[0;34m,\u001b[0m \u001b[0;34m'PC3'\u001b[0m\u001b[0;34m,\u001b[0m \u001b[0mtpm_pca_df\u001b[0m\u001b[0;34m,\u001b[0m \u001b[0mfit_reg\u001b[0m\u001b[0;34m=\u001b[0m\u001b[0;32mFalse\u001b[0m\u001b[0;34m,\u001b[0m \u001b[0mhue\u001b[0m\u001b[0;34m=\u001b[0m\u001b[0;34m'group_tissue'\u001b[0m\u001b[0;34m,\u001b[0m \u001b[0mpalette\u001b[0m\u001b[0;34m=\u001b[0m\u001b[0mcolor_dict_tissue\u001b[0m\u001b[0;34m)\u001b[0m\u001b[0;34m\u001b[0m\u001b[0m\n\u001b[0m",
      "\u001b[0;31mNameError\u001b[0m: name 'tpm_pca_df' is not defined"
     ]
    }
   ],
   "source": [
    "sns.lmplot('PC2', 'PC3', tpm_pca_df, fit_reg=False, hue='group_tissue', palette=color_dict_tissue)"
   ]
  },
  {
   "cell_type": "markdown",
   "metadata": {},
   "source": [
    "### Consider implementing a 3D plot below\n",
    "____\n",
    "**TBD**"
   ]
  },
  {
   "cell_type": "markdown",
   "metadata": {},
   "source": [
    "## Tissue specific PCA"
   ]
  },
  {
   "cell_type": "code",
   "execution_count": 18,
   "metadata": {},
   "outputs": [],
   "source": [
    "def df_col_subset(x, id_str):\n",
    "    import pandas as pd\n",
    "    import re\n",
    "    '''Returns pandas dataframe with only columns containing id_str'''\n",
    "    return x[x.columns[pd.Series(x.columns).str.contains(id_str, flags=re.IGNORECASE)]]"
   ]
  },
  {
   "cell_type": "markdown",
   "metadata": {},
   "source": [
    "### Whole Liver"
   ]
  },
  {
   "cell_type": "code",
   "execution_count": 12,
   "metadata": {},
   "outputs": [],
   "source": [
    "# standardize matrix, mean=0, std=1\n",
    "l_tpm = df_col_subset(tpm_mat, 'Liver')\n",
    "l_tpm_std = StandardScaler().fit_transform(l_tpm) # scale data\n",
    "# run PCA\n",
    "l_pca = PCA(n_components=2)\n",
    "l_tpm_pca = l_pca.fit_transform(l_tpm_std.T)\n",
    "#create df for plotting\n",
    "l_tpm_pca_df = pd.DataFrame(l_tpm_pca, columns=['PC1', 'PC2'],\n",
    "        index=samplesDF[samplesDF.sample_type=='liver'].group_tissue).reset_index()"
   ]
  },
  {
   "cell_type": "code",
   "execution_count": 13,
   "metadata": {},
   "outputs": [
    {
     "data": {
      "text/plain": [
       "<seaborn.axisgrid.FacetGrid at 0x7f13493629e8>"
      ]
     },
     "execution_count": 13,
     "metadata": {},
     "output_type": "execute_result"
    },
    {
     "data": {
      "image/png": "[encoded data removed]",
      "text/plain": [
       "<matplotlib.figure.Figure at 0x7f13493f8b00>"
      ]
     },
     "metadata": {},
     "output_type": "display_data"
    }
   ],
   "source": [
    "sns.lmplot('PC1', 'PC2', l_tpm_pca_df, fit_reg=False,\n",
    "           hue='group_tissue', palette=color_dict_tissue)"
   ]
  },
  {
   "cell_type": "markdown",
   "metadata": {},
   "source": [
    "### Kupffer Cells"
   ]
  },
  {
   "cell_type": "code",
   "execution_count": 14,
   "metadata": {},
   "outputs": [],
   "source": [
    "# standardize matrix, mean=0, std=1\n",
    "k_tpm = df_col_subset(tpm_mat, 'Kupffer')\n",
    "k_tpm_std = StandardScaler().fit_transform(k_tpm) # scale data\n",
    "# run PCA\n",
    "k_pca = PCA(n_components=2)\n",
    "k_tpm_pca = k_pca.fit_transform(k_tpm_std.T)\n",
    "#create df for plotting\n",
    "k_tpm_pca_df = pd.DataFrame(k_tpm_pca, columns=['PC1', 'PC2'],\n",
    "        index=samplesDF[samplesDF.sample_type=='kupffer'].group_tissue).reset_index()"
   ]
  },
  {
   "cell_type": "code",
   "execution_count": 15,
   "metadata": {},
   "outputs": [
    {
     "data": {
      "text/plain": [
       "<seaborn.axisgrid.FacetGrid at 0x7f134928def0>"
      ]
     },
     "execution_count": 15,
     "metadata": {},
     "output_type": "execute_result"
    },
    {
     "data": {
      "image/png": "[encoded data removed]",
      "text/plain": [
       "<matplotlib.figure.Figure at 0x7f13493040f0>"
      ]
     },
     "metadata": {},
     "output_type": "display_data"
    }
   ],
   "source": [
    "sns.lmplot('PC1', 'PC2', k_tpm_pca_df, fit_reg=False, hue='group_tissue', palette=color_dict_tissue)"
   ]
  },
  {
   "cell_type": "markdown",
   "metadata": {},
   "source": [
    "### Heirachal clustering of samples"
   ]
  },
  {
   "cell_type": "code",
   "execution_count": 16,
   "metadata": {},
   "outputs": [
    {
     "name": "stderr",
     "output_type": "stream",
     "text": [
      "/home/h1bennet/anaconda3/envs/rnaseq/lib/python3.6/site-packages/seaborn/matrix.py:603: ClusterWarning: scipy.cluster: The symmetric non-negative hollow observation matrix looks suspiciously like an uncondensed distance matrix\n",
      "  metric=self.metric)\n"
     ]
    },
    {
     "data": {
      "image/png": "[encoded data removed]",
      "text/plain": [
       "<matplotlib.figure.Figure at 0x7f134917aeb8>"
      ]
     },
     "metadata": {},
     "output_type": "display_data"
    }
   ],
   "source": [
    "# calculate euclidean distance between samples\n",
    "from scipy.spatial import distance\n",
    "tpm_dist = pd.DataFrame(distance.squareform(distance.pdist(tpm_std.T, 'euclidean')),\n",
    "                        columns = list(samplesDF.group_tissue),\n",
    "                        index = list(samplesDF.group_tissue))\n",
    "# plot values using sns clustermap - ignore error as we know we are putting in a distance mat\n",
    "g = sns.clustermap(tpm_dist, cmap=sns.color_palette(\"Blues_r\"))"
   ]
  },
  {
   "cell_type": "markdown",
   "metadata": {},
   "source": [
    "## Differential Analysis (DESeq2)"
   ]
  },
  {
   "cell_type": "markdown",
   "metadata": {},
   "source": [
    "Prep data for importing into R"
   ]
  },
  {
   "cell_type": "code",
   "execution_count": 19,
   "metadata": {},
   "outputs": [],
   "source": [
    "# import the raw count file\n",
    "raw_counts_file = '/rnaseq_matrix_genes_raw.txt'\n",
    "counts_df = pd.read_csv(outdir + raw_counts_file, sep='\\t')\n",
    "\n",
    "# create gene name column\n",
    "counts_df['Gene'] = pd.Series([x.split('|')[0] for x in counts_df['Annotation/Divergence']])\n",
    "\n",
    "# clean up columns\n",
    "counts_df.columns = pd.Series(counts_df.columns)\\\n",
    "        .str.split(r\" \\(\").str[0]\\\n",
    "        .str.split('/.*/').str[-1]\n",
    "counts_df = counts_df.set_index('Transcript/RepeatID')\n",
    "\n",
    "# subset just the samples\n",
    "counts_mat_l = df_col_subset(df_col_subset(counts_df, 'liver'), 'aj|balb|ncor')\n",
    "counts_mat_k = df_col_subset(df_col_subset(counts_df, 'kupffer'), 'aj|balb|ncor')"
   ]
  },
  {
   "cell_type": "code",
   "execution_count": 20,
   "metadata": {},
   "outputs": [
    {
     "data": {
      "text/html": [
       "<div>\n",
       "<style scoped>\n",
       "    .dataframe tbody tr th:only-of-type {\n",
       "        vertical-align: middle;\n",
       "    }\n",
       "\n",
       "    .dataframe tbody tr th {\n",
       "        vertical-align: top;\n",
       "    }\n",
       "\n",
       "    .dataframe thead th {\n",
       "        text-align: right;\n",
       "    }\n",
       "</style>\n",
       "<table border=\"1\" class=\"dataframe\">\n",
       "  <thead>\n",
       "    <tr style=\"text-align: right;\">\n",
       "      <th></th>\n",
       "      <th>chr</th>\n",
       "      <th>start</th>\n",
       "      <th>end</th>\n",
       "      <th>strand</th>\n",
       "      <th>Length</th>\n",
       "      <th>Copies</th>\n",
       "      <th>Annotation/Divergence</th>\n",
       "      <th>aj_WholeLiver_RNA_polyA_AMLNDiet_30week_AJ3A_JSS_TDT_16_09_26.aj.star_shifted_from_AJ.sam</th>\n",
       "      <th>aj_WholeLiver_RNA_polyA_AMLNDiet_30week_AJ3B_JSS_TDT_16_09_26.aj.star_shifted_from_AJ.sam</th>\n",
       "      <th>aj_WholeLiver_RNA_polyA_AMLNDiet_30week_AJ3C_JSS_TDT_16_09_28.aj.star_shifted_from_AJ.sam</th>\n",
       "      <th>...</th>\n",
       "      <th>balbc_KupfferTotal_RNA_polyA_AMLNDiet_30week_Balb3C_JSSTDT_16_09_26</th>\n",
       "      <th>balbc_KupfferTotal_RNA_polyA_AMLNDiet_30week_Balb3d_JSS_TDT_16_09_28</th>\n",
       "      <th>balbc_KupfferTotal_RNA_polyA_ControlDiet_30week_Balb1c_JSS_TDT_16_09_28</th>\n",
       "      <th>balbc_KupfferTotal_RNA_polyA_ControlDiet_30week_Balb1d_JSS_TDT_16_09_28</th>\n",
       "      <th>NCoRWT_KupfferTotal_RNA_polyA_AMLNDiet_30week_LN136C_JSS_TDT_16_09_19</th>\n",
       "      <th>NCoRWT_KupfferTotal_RNA_polyA_AMLNDiet_30week_LN141A_JSS_TDT_16_09_21</th>\n",
       "      <th>NCoRWT_KupfferTotal_RNA_polyA_ControlDiet_30week_LN134B_JSS_TDT_16_09_21</th>\n",
       "      <th>NCoRWT_KupfferTotal_RNA_polyA_ControlDiet_30week_LN134C_JSS_TDT_16_09_19</th>\n",
       "      <th>NCoRWT_KupfferTotal_RNA_polyA_ControlDiet_30week_LN134D_JSS_TDT_16_09_21</th>\n",
       "      <th>Gene</th>\n",
       "    </tr>\n",
       "    <tr>\n",
       "      <th>Transcript/RepeatID</th>\n",
       "      <th></th>\n",
       "      <th></th>\n",
       "      <th></th>\n",
       "      <th></th>\n",
       "      <th></th>\n",
       "      <th></th>\n",
       "      <th></th>\n",
       "      <th></th>\n",
       "      <th></th>\n",
       "      <th></th>\n",
       "      <th></th>\n",
       "      <th></th>\n",
       "      <th></th>\n",
       "      <th></th>\n",
       "      <th></th>\n",
       "      <th></th>\n",
       "      <th></th>\n",
       "      <th></th>\n",
       "      <th></th>\n",
       "      <th></th>\n",
       "      <th></th>\n",
       "    </tr>\n",
       "  </thead>\n",
       "  <tbody>\n",
       "    <tr>\n",
       "      <th>NM_001329047</th>\n",
       "      <td>chr12</td>\n",
       "      <td>59095800</td>\n",
       "      <td>59190175</td>\n",
       "      <td>+</td>\n",
       "      <td>94375.0</td>\n",
       "      <td>1</td>\n",
       "      <td>Mia2|Ctage5|D12Bwg0579e|Mea6|Mgea|Mgea6|-|12 2...</td>\n",
       "      <td>6407.0</td>\n",
       "      <td>5137.0</td>\n",
       "      <td>3472.0</td>\n",
       "      <td>...</td>\n",
       "      <td>2820.0</td>\n",
       "      <td>3437.0</td>\n",
       "      <td>1292.0</td>\n",
       "      <td>1895.0</td>\n",
       "      <td>1544.0</td>\n",
       "      <td>2140.0</td>\n",
       "      <td>1994.0</td>\n",
       "      <td>2267.0</td>\n",
       "      <td>1895.0</td>\n",
       "      <td>Mia2</td>\n",
       "    </tr>\n",
       "    <tr>\n",
       "      <th>NM_144958</th>\n",
       "      <td>chr11</td>\n",
       "      <td>69666936</td>\n",
       "      <td>69672423</td>\n",
       "      <td>-</td>\n",
       "      <td>5487.0</td>\n",
       "      <td>1</td>\n",
       "      <td>Eif4a1|BM-010|Ddx2a|Eif4|-|11 B3|11 42.86 cM|p...</td>\n",
       "      <td>642.0</td>\n",
       "      <td>592.0</td>\n",
       "      <td>614.0</td>\n",
       "      <td>...</td>\n",
       "      <td>1120.0</td>\n",
       "      <td>723.0</td>\n",
       "      <td>571.0</td>\n",
       "      <td>526.0</td>\n",
       "      <td>1219.0</td>\n",
       "      <td>1862.0</td>\n",
       "      <td>1218.0</td>\n",
       "      <td>1153.0</td>\n",
       "      <td>1152.0</td>\n",
       "      <td>Eif4a1</td>\n",
       "    </tr>\n",
       "    <tr>\n",
       "      <th>NM_029777</th>\n",
       "      <td>chr1</td>\n",
       "      <td>82316579</td>\n",
       "      <td>82445367</td>\n",
       "      <td>+</td>\n",
       "      <td>128788.0</td>\n",
       "      <td>1</td>\n",
       "      <td>Rhbdd1|4930418P06Rik|RRP4|mRHBDD1|-|1|1 C5|pro...</td>\n",
       "      <td>729.0</td>\n",
       "      <td>644.0</td>\n",
       "      <td>388.0</td>\n",
       "      <td>...</td>\n",
       "      <td>510.0</td>\n",
       "      <td>483.0</td>\n",
       "      <td>318.0</td>\n",
       "      <td>386.0</td>\n",
       "      <td>503.0</td>\n",
       "      <td>544.0</td>\n",
       "      <td>475.0</td>\n",
       "      <td>574.0</td>\n",
       "      <td>555.0</td>\n",
       "      <td>Rhbdd1</td>\n",
       "    </tr>\n",
       "    <tr>\n",
       "      <th>NR_102758</th>\n",
       "      <td>chr1</td>\n",
       "      <td>78424745</td>\n",
       "      <td>78488897</td>\n",
       "      <td>-</td>\n",
       "      <td>64152.0</td>\n",
       "      <td>1</td>\n",
       "      <td>Farsb|C76708|Farsa|Farsl|Farslb|Frsb|-|1|1 C4|...</td>\n",
       "      <td>679.0</td>\n",
       "      <td>606.0</td>\n",
       "      <td>430.0</td>\n",
       "      <td>...</td>\n",
       "      <td>545.0</td>\n",
       "      <td>682.0</td>\n",
       "      <td>285.0</td>\n",
       "      <td>389.0</td>\n",
       "      <td>602.0</td>\n",
       "      <td>815.0</td>\n",
       "      <td>511.0</td>\n",
       "      <td>565.0</td>\n",
       "      <td>533.0</td>\n",
       "      <td>Farsb</td>\n",
       "    </tr>\n",
       "    <tr>\n",
       "      <th>NM_001130188</th>\n",
       "      <td>chr6</td>\n",
       "      <td>4674350</td>\n",
       "      <td>4747204</td>\n",
       "      <td>-</td>\n",
       "      <td>72854.0</td>\n",
       "      <td>1</td>\n",
       "      <td>Sgce|e-SG|-|6 A1|6 1.81 cM|protein-coding</td>\n",
       "      <td>74.0</td>\n",
       "      <td>80.0</td>\n",
       "      <td>65.0</td>\n",
       "      <td>...</td>\n",
       "      <td>333.0</td>\n",
       "      <td>168.0</td>\n",
       "      <td>157.0</td>\n",
       "      <td>166.0</td>\n",
       "      <td>96.0</td>\n",
       "      <td>171.0</td>\n",
       "      <td>49.0</td>\n",
       "      <td>55.0</td>\n",
       "      <td>152.0</td>\n",
       "      <td>Sgce</td>\n",
       "    </tr>\n",
       "  </tbody>\n",
       "</table>\n",
       "<p>5 rows × 42 columns</p>\n",
       "</div>"
      ],
      "text/plain": [
       "                       chr     start       end strand    Length  Copies  \\\n",
       "Transcript/RepeatID                                                       \n",
       "NM_001329047         chr12  59095800  59190175      +   94375.0       1   \n",
       "NM_144958            chr11  69666936  69672423      -    5487.0       1   \n",
       "NM_029777             chr1  82316579  82445367      +  128788.0       1   \n",
       "NR_102758             chr1  78424745  78488897      -   64152.0       1   \n",
       "NM_001130188          chr6   4674350   4747204      -   72854.0       1   \n",
       "\n",
       "                                                 Annotation/Divergence  \\\n",
       "Transcript/RepeatID                                                      \n",
       "NM_001329047         Mia2|Ctage5|D12Bwg0579e|Mea6|Mgea|Mgea6|-|12 2...   \n",
       "NM_144958            Eif4a1|BM-010|Ddx2a|Eif4|-|11 B3|11 42.86 cM|p...   \n",
       "NM_029777            Rhbdd1|4930418P06Rik|RRP4|mRHBDD1|-|1|1 C5|pro...   \n",
       "NR_102758            Farsb|C76708|Farsa|Farsl|Farslb|Frsb|-|1|1 C4|...   \n",
       "NM_001130188                 Sgce|e-SG|-|6 A1|6 1.81 cM|protein-coding   \n",
       "\n",
       "                     aj_WholeLiver_RNA_polyA_AMLNDiet_30week_AJ3A_JSS_TDT_16_09_26.aj.star_shifted_from_AJ.sam  \\\n",
       "Transcript/RepeatID                                                                                              \n",
       "NM_001329047                                                    6407.0                                           \n",
       "NM_144958                                                        642.0                                           \n",
       "NM_029777                                                        729.0                                           \n",
       "NR_102758                                                        679.0                                           \n",
       "NM_001130188                                                      74.0                                           \n",
       "\n",
       "                     aj_WholeLiver_RNA_polyA_AMLNDiet_30week_AJ3B_JSS_TDT_16_09_26.aj.star_shifted_from_AJ.sam  \\\n",
       "Transcript/RepeatID                                                                                              \n",
       "NM_001329047                                                    5137.0                                           \n",
       "NM_144958                                                        592.0                                           \n",
       "NM_029777                                                        644.0                                           \n",
       "NR_102758                                                        606.0                                           \n",
       "NM_001130188                                                      80.0                                           \n",
       "\n",
       "                     aj_WholeLiver_RNA_polyA_AMLNDiet_30week_AJ3C_JSS_TDT_16_09_28.aj.star_shifted_from_AJ.sam  \\\n",
       "Transcript/RepeatID                                                                                              \n",
       "NM_001329047                                                    3472.0                                           \n",
       "NM_144958                                                        614.0                                           \n",
       "NM_029777                                                        388.0                                           \n",
       "NR_102758                                                        430.0                                           \n",
       "NM_001130188                                                      65.0                                           \n",
       "\n",
       "                      ...    \\\n",
       "Transcript/RepeatID   ...     \n",
       "NM_001329047          ...     \n",
       "NM_144958             ...     \n",
       "NM_029777             ...     \n",
       "NR_102758             ...     \n",
       "NM_001130188          ...     \n",
       "\n",
       "                     balbc_KupfferTotal_RNA_polyA_AMLNDiet_30week_Balb3C_JSSTDT_16_09_26  \\\n",
       "Transcript/RepeatID                                                                        \n",
       "NM_001329047                                                    2820.0                     \n",
       "NM_144958                                                       1120.0                     \n",
       "NM_029777                                                        510.0                     \n",
       "NR_102758                                                        545.0                     \n",
       "NM_001130188                                                     333.0                     \n",
       "\n",
       "                     balbc_KupfferTotal_RNA_polyA_AMLNDiet_30week_Balb3d_JSS_TDT_16_09_28  \\\n",
       "Transcript/RepeatID                                                                         \n",
       "NM_001329047                                                    3437.0                      \n",
       "NM_144958                                                        723.0                      \n",
       "NM_029777                                                        483.0                      \n",
       "NR_102758                                                        682.0                      \n",
       "NM_001130188                                                     168.0                      \n",
       "\n",
       "                     balbc_KupfferTotal_RNA_polyA_ControlDiet_30week_Balb1c_JSS_TDT_16_09_28  \\\n",
       "Transcript/RepeatID                                                                            \n",
       "NM_001329047                                                    1292.0                         \n",
       "NM_144958                                                        571.0                         \n",
       "NM_029777                                                        318.0                         \n",
       "NR_102758                                                        285.0                         \n",
       "NM_001130188                                                     157.0                         \n",
       "\n",
       "                     balbc_KupfferTotal_RNA_polyA_ControlDiet_30week_Balb1d_JSS_TDT_16_09_28  \\\n",
       "Transcript/RepeatID                                                                            \n",
       "NM_001329047                                                    1895.0                         \n",
       "NM_144958                                                        526.0                         \n",
       "NM_029777                                                        386.0                         \n",
       "NR_102758                                                        389.0                         \n",
       "NM_001130188                                                     166.0                         \n",
       "\n",
       "                     NCoRWT_KupfferTotal_RNA_polyA_AMLNDiet_30week_LN136C_JSS_TDT_16_09_19  \\\n",
       "Transcript/RepeatID                                                                          \n",
       "NM_001329047                                                    1544.0                       \n",
       "NM_144958                                                       1219.0                       \n",
       "NM_029777                                                        503.0                       \n",
       "NR_102758                                                        602.0                       \n",
       "NM_001130188                                                      96.0                       \n",
       "\n",
       "                     NCoRWT_KupfferTotal_RNA_polyA_AMLNDiet_30week_LN141A_JSS_TDT_16_09_21  \\\n",
       "Transcript/RepeatID                                                                          \n",
       "NM_001329047                                                    2140.0                       \n",
       "NM_144958                                                       1862.0                       \n",
       "NM_029777                                                        544.0                       \n",
       "NR_102758                                                        815.0                       \n",
       "NM_001130188                                                     171.0                       \n",
       "\n",
       "                     NCoRWT_KupfferTotal_RNA_polyA_ControlDiet_30week_LN134B_JSS_TDT_16_09_21  \\\n",
       "Transcript/RepeatID                                                                             \n",
       "NM_001329047                                                    1994.0                          \n",
       "NM_144958                                                       1218.0                          \n",
       "NM_029777                                                        475.0                          \n",
       "NR_102758                                                        511.0                          \n",
       "NM_001130188                                                      49.0                          \n",
       "\n",
       "                     NCoRWT_KupfferTotal_RNA_polyA_ControlDiet_30week_LN134C_JSS_TDT_16_09_19  \\\n",
       "Transcript/RepeatID                                                                             \n",
       "NM_001329047                                                    2267.0                          \n",
       "NM_144958                                                       1153.0                          \n",
       "NM_029777                                                        574.0                          \n",
       "NR_102758                                                        565.0                          \n",
       "NM_001130188                                                      55.0                          \n",
       "\n",
       "                     NCoRWT_KupfferTotal_RNA_polyA_ControlDiet_30week_LN134D_JSS_TDT_16_09_21  \\\n",
       "Transcript/RepeatID                                                                             \n",
       "NM_001329047                                                    1895.0                          \n",
       "NM_144958                                                       1152.0                          \n",
       "NM_029777                                                        555.0                          \n",
       "NR_102758                                                        533.0                          \n",
       "NM_001130188                                                     152.0                          \n",
       "\n",
       "                       Gene  \n",
       "Transcript/RepeatID          \n",
       "NM_001329047           Mia2  \n",
       "NM_144958            Eif4a1  \n",
       "NM_029777            Rhbdd1  \n",
       "NR_102758             Farsb  \n",
       "NM_001130188           Sgce  \n",
       "\n",
       "[5 rows x 42 columns]"
      ]
     },
     "execution_count": 20,
     "metadata": {},
     "output_type": "execute_result"
    }
   ],
   "source": [
    "counts_df.head()"
   ]
  },
  {
   "cell_type": "markdown",
   "metadata": {},
   "source": [
    "#### Write the data for DESeq2"
   ]
  },
  {
   "cell_type": "markdown",
   "metadata": {},
   "source": [
    "Liver"
   ]
  },
  {
   "cell_type": "code",
   "execution_count": 21,
   "metadata": {},
   "outputs": [],
   "source": [
    "# Liver\n",
    "# raw count matrix for DESeq\n",
    "liver_raw_counts_file = raw_counts_file.replace('.txt', '_liver_mat_deseq.txt')                                    \n",
    "if not os.path.isfile(outdir + liver_raw_counts_file):\n",
    "    counts_mat_l.to_csv(outdir + liver_raw_counts_file, sep='\\t')\n",
    "    \n",
    "# Column Data Information for DESeq\n",
    "col_data_l = samplesDF.loc[samplesDF.sample_type=='liver', ['subject', 'strain', 'diet', 'sample_type']]\n",
    "col_data_l = col_data_l.set_index('subject')\n",
    "liver_col_file = raw_counts_file.replace('.txt', 'liver_col_info.txt')\n",
    "if not os.path.isfile(outdir + liver_col_file):\n",
    "    col_data_l.to_csv(outdir + liver_col_file, sep='\\t')"
   ]
  },
  {
   "cell_type": "code",
   "execution_count": 22,
   "metadata": {},
   "outputs": [],
   "source": [
    "# raw count matrix for DESeq\n",
    "kupffer_raw_counts_file = raw_counts_file.replace('.txt', '_kupffer_mat_deseq.txt')                                   \n",
    "if not os.path.isfile(outdir + kupffer_raw_counts_file):\n",
    "    counts_mat_l.to_csv(outdir + kupffer_raw_counts_file, sep='\\t')\n",
    "\n",
    "# Column Data Information for DESeq\n",
    "col_data_k = samplesDF.loc[samplesDF.sample_type=='kupffer', ['subject', 'strain', 'diet', 'sample_type']]\n",
    "col_data_k = col_data_k.set_index('subject')\n",
    "kupffer_col_file = raw_counts_file.replace('.txt', 'kupffer_col_info.txt')\n",
    "if not os.path.isfile(outdir + kupffer_col_file):\n",
    "    col_data_k.to_csv(outdir + kupffer_col_file, sep='\\t')"
   ]
  },
  {
   "cell_type": "markdown",
   "metadata": {},
   "source": [
    "### Analyze Kupffer Cell Data"
   ]
  },
  {
   "cell_type": "code",
   "execution_count": 44,
   "metadata": {},
   "outputs": [],
   "source": [
    "%%R -i counts_mat_k,col_data_k\n",
    "# load DESeq\n",
    "library(\"DESeq2\")\n",
    "\n",
    "#create DESeq2 object\n",
    "dds <- DESeqDataSetFromMatrix(countData = counts_mat_k,\n",
    "                             colData = col_data_k,\n",
    "                             design = ~strain + diet + strain:diet)\n",
    "\n",
    "# adjust factors to ensure that we are comparing amln to control\n",
    "dds$diet <- factor(dds$diet, levels = c('control', 'amln'))\n",
    "dds$strain <- factor(dds$strain, levels = c('ncorwt', 'balbc', 'aj'))\n",
    "\n",
    "\n",
    "# run DESeq LRT to assess effect of strains on diet\n",
    "dds <- DESeq(dds, test=\"LRT\", reduced=~strain + diet)\n",
    "res <- results(dds, alpha = 0.05)\n",
    "head(res)\n",
    "res_ordered <- res[order(res$padj), ]\n",
    "write.csv(as.data.frame(res_ordered), \n",
    "          file=paste0(outdir, \"/lrt_strainsdiet_interaction_deseq_results.txt\"))"
   ]
  },
  {
   "cell_type": "markdown",
   "metadata": {},
   "source": [
    "#### First lets try and figure out what model we should use. DESeq has the ability to model interaction terms between the strain and diet, however this would make for a fairly complicated downstream analysis.\n",
    "____\n",
    "To try and figure out how to analyze this data lets use the likelihood ratio test in DESeq to assess the differences in dispersions between the fitted count data (one version fitted with the full model, one with reduced). This should give us a gene by gene assessment of how well the model explains the data compared to a simpler null."
   ]
  },
  {
   "cell_type": "code",
   "execution_count": 43,
   "metadata": {},
   "outputs": [],
   "source": [
    "%%R -i counts_mat,col_data\n",
    "# load DESeq\n",
    "library(\"DESeq2\")\n",
    "\n",
    "#create DESeq2 object\n",
    "dds <- DESeqDataSetFromMatrix(countData = counts_mat,\n",
    "                             colData = col_data,\n",
    "                             design = ~strain + diet + strain:diet)\n",
    "\n",
    "# adjust factors to ensure that we are comparing amln to control\n",
    "dds$diet <- factor(dds$diet, levels = c('control', 'amln'))\n",
    "dds$strain <- factor(dds$strain, levels = c('ncorwt', 'balbc', 'aj'))\n",
    "\n",
    "\n",
    "# run DESeq LRT to assess effect of strains on diet\n",
    "dds <- DESeq(dds, test=\"LRT\", reduced=~strain + diet)\n",
    "res <- results(dds, alpha = 0.05)\n",
    "head(res)\n",
    "res_ordered <- res[order(res$padj), ]\n",
    "write.csv(as.data.frame(res_ordered), \n",
    "          file=paste0(outdir, \"/lrt_strainsdiet_interaction_deseq_results.txt\"))\n",
    "\n",
    "# run DESeq with full model\n",
    "dds <- DESeq(dds)\n",
    "\n",
    "# diet effect for ncorwt\n",
    "res <- results(dds, contrast=c('diet', 'amln', 'control'), alpha = 0.05)\n",
    "head(res)\n",
    "res_ordered <- res[order(res$padj), ]\n",
    "write.csv(as.data.frame(res_ordered), \n",
    "          file=paste0(outdir, \"/ncorwt_amln_deseq_results.txt\"))\n",
    "\n",
    "# diet effect for balbc\n",
    "res <- results(dds, contrast=list( c('diet_amln_vs_control','strainbalbc.dietamln') ), alpha = 0.05)\n",
    "head(res)\n",
    "res_ordered <- res[order(res$padj), ]\n",
    "write.csv(as.data.frame(res_ordered), \n",
    "          file=paste0(outdir, \"/balbc_amln_deseq_results.txt\"))\n",
    "\n",
    "# diet effect for aj\n",
    "res <- results(dds, contrast=list( c('diet_amln_vs_control','strainaj.dietamln') ), alpha = 0.05)\n",
    "head(res)\n",
    "res_ordered <- res[order(res$padj), ]\n",
    "write.csv(as.data.frame(res_ordered), \n",
    "          file=paste0(outdir, \"/aj_amln_deseq_results.txt\"))\n",
    "\n",
    "# interaction term for condition effect between balbc and ncorwt\n",
    "res <- results(dds, name='strainbalbc.dietamln', alpha = 0.05)\n",
    "head(res)\n",
    "res_ordered <- res[order(res$padj), ]\n",
    "write.csv(as.data.frame(res_ordered), \n",
    "          file=paste0(outdir, \"/balbc_ncorwt_amln_interaction_deseq_results.txt\"))\n",
    "\n",
    "# interaction term for condition effect between aj and ncorwt\n",
    "res <- results(dds, name='strainaj.dietamln', alpha = 0.05)\n",
    "head(res)\n",
    "res_ordered <- res[order(res$padj), ]\n",
    "write.csv(as.data.frame(res_ordered), \n",
    "          file=paste0(outdir, \"/aj_ncorwt_amln_interaction_deseq_results.txt\"))\n",
    "\n",
    "# interaction term for condition effect between balbc and aj\n",
    "res <- results(dds, contrast=list(\"strainbalbc.dietamln\", \"strainaj.dietamln\"), alpha = 0.05)\n",
    "head(res)\n",
    "res_ordered <- res[order(res$padj), ]\n",
    "write.csv(as.data.frame(res_ordered), \n",
    "          file=paste0(outdir, \"/balbc_aj_amln_interaction_deseq_results.txt\"))"
   ]
  },
  {
   "cell_type": "markdown",
   "metadata": {},
   "source": [
    "### assess effect of interaction term <- WRONG.. this is the balbc interaction term!!"
   ]
  },
  {
   "cell_type": "code",
   "execution_count": 196,
   "metadata": {},
   "outputs": [],
   "source": [
    "intx = pd.read_csv(outdir + \"/balbc_aj_amln_interaction_deseq_results.txt\")"
   ]
  },
  {
   "cell_type": "code",
   "execution_count": 197,
   "metadata": {},
   "outputs": [
    {
     "data": {
      "text/html": [
       "<div>\n",
       "<style scoped>\n",
       "    .dataframe tbody tr th:only-of-type {\n",
       "        vertical-align: middle;\n",
       "    }\n",
       "\n",
       "    .dataframe tbody tr th {\n",
       "        vertical-align: top;\n",
       "    }\n",
       "\n",
       "    .dataframe thead th {\n",
       "        text-align: right;\n",
       "    }\n",
       "</style>\n",
       "<table border=\"1\" class=\"dataframe\">\n",
       "  <thead>\n",
       "    <tr style=\"text-align: right;\">\n",
       "      <th></th>\n",
       "      <th>Unnamed: 0</th>\n",
       "      <th>baseMean</th>\n",
       "      <th>log2FoldChange</th>\n",
       "      <th>lfcSE</th>\n",
       "      <th>stat</th>\n",
       "      <th>pvalue</th>\n",
       "      <th>padj</th>\n",
       "    </tr>\n",
       "  </thead>\n",
       "  <tbody>\n",
       "    <tr>\n",
       "      <th>0</th>\n",
       "      <td>NM_023516</td>\n",
       "      <td>307.858950</td>\n",
       "      <td>1.657243</td>\n",
       "      <td>0.366547</td>\n",
       "      <td>4.521236</td>\n",
       "      <td>0.000006</td>\n",
       "      <td>0.097568</td>\n",
       "    </tr>\n",
       "    <tr>\n",
       "      <th>1</th>\n",
       "      <td>NM_008361</td>\n",
       "      <td>2923.544018</td>\n",
       "      <td>4.081695</td>\n",
       "      <td>0.877852</td>\n",
       "      <td>4.649639</td>\n",
       "      <td>0.000003</td>\n",
       "      <td>0.097568</td>\n",
       "    </tr>\n",
       "    <tr>\n",
       "      <th>2</th>\n",
       "      <td>NM_001190461</td>\n",
       "      <td>321.469769</td>\n",
       "      <td>1.627067</td>\n",
       "      <td>0.367547</td>\n",
       "      <td>4.426829</td>\n",
       "      <td>0.000010</td>\n",
       "      <td>0.098667</td>\n",
       "    </tr>\n",
       "    <tr>\n",
       "      <th>3</th>\n",
       "      <td>NM_011267</td>\n",
       "      <td>33.385394</td>\n",
       "      <td>-4.981037</td>\n",
       "      <td>1.152791</td>\n",
       "      <td>-4.320850</td>\n",
       "      <td>0.000016</td>\n",
       "      <td>0.098667</td>\n",
       "    </tr>\n",
       "    <tr>\n",
       "      <th>4</th>\n",
       "      <td>NM_011459</td>\n",
       "      <td>179.717780</td>\n",
       "      <td>-3.033513</td>\n",
       "      <td>0.701321</td>\n",
       "      <td>-4.325429</td>\n",
       "      <td>0.000015</td>\n",
       "      <td>0.098667</td>\n",
       "    </tr>\n",
       "    <tr>\n",
       "      <th>5</th>\n",
       "      <td>NM_019414</td>\n",
       "      <td>177.035001</td>\n",
       "      <td>5.257638</td>\n",
       "      <td>1.257716</td>\n",
       "      <td>4.180306</td>\n",
       "      <td>0.000029</td>\n",
       "      <td>0.142622</td>\n",
       "    </tr>\n",
       "  </tbody>\n",
       "</table>\n",
       "</div>"
      ],
      "text/plain": [
       "     Unnamed: 0     baseMean  log2FoldChange     lfcSE      stat    pvalue  \\\n",
       "0     NM_023516   307.858950        1.657243  0.366547  4.521236  0.000006   \n",
       "1     NM_008361  2923.544018        4.081695  0.877852  4.649639  0.000003   \n",
       "2  NM_001190461   321.469769        1.627067  0.367547  4.426829  0.000010   \n",
       "3     NM_011267    33.385394       -4.981037  1.152791 -4.320850  0.000016   \n",
       "4     NM_011459   179.717780       -3.033513  0.701321 -4.325429  0.000015   \n",
       "5     NM_019414   177.035001        5.257638  1.257716  4.180306  0.000029   \n",
       "\n",
       "       padj  \n",
       "0  0.097568  \n",
       "1  0.097568  \n",
       "2  0.098667  \n",
       "3  0.098667  \n",
       "4  0.098667  \n",
       "5  0.142622  "
      ]
     },
     "execution_count": 197,
     "metadata": {},
     "output_type": "execute_result"
    }
   ],
   "source": [
    "intx.head(6)"
   ]
  },
  {
   "cell_type": "code",
   "execution_count": 198,
   "metadata": {},
   "outputs": [
    {
     "data": {
      "text/plain": [
       "<matplotlib.axes._subplots.AxesSubplot at 0x7fd25aa834a8>"
      ]
     },
     "execution_count": 198,
     "metadata": {},
     "output_type": "execute_result"
    },
    {
     "data": {
      "image/png": "[encoded data removed]",
      "text/plain": [
       "<matplotlib.figure.Figure at 0x7fd262dd8eb8>"
      ]
     },
     "metadata": {},
     "output_type": "display_data"
    }
   ],
   "source": [
    "sns.distplot(np.log10(intx.padj.dropna()))"
   ]
  },
  {
   "cell_type": "markdown",
   "metadata": {},
   "source": [
    "#### 171205 Update:\n",
    "This section of the analysis is actually looking at genes for which the balbc effect of diet is different than the aj effect of diet. It is NOT comparing the two models (this should have been clear by looking at the file we actually uploaded as 'intx'.\n",
    "\n",
    "However, this effect is pretty interesting and instead suggests to me now that the interaction modeling could be a useful way of finding genes that are differentially impacted the by AMLN diet across the strains\n",
    "\n",
    "** We see above that only three 5 genes pass the padj (BH FDR) < 0.1 cutoff ** for differential effect of balbc compared to aj.. looking at the genes this seems to actually be a useful way of looking at the effect of strain on diet response\n",
    "____\n",
    "~~given we are sampling almost 35745 samples this appears to be an insignificant effect size, there does not appear to be significant information gained by analyzing the strain x diet interaction), we can keep most of the information in our data by analyzing with the simpler ~strains + diet model. Conversely, the genes that appear to have a diet:strain interaction term that is NONZERO (implying that there is a strain specific effect of the diet) are...~~  \n",
    "The following genes are differentially induced/repressed by the AMLN diet in BALB compared to AJ\n",
    "* NM_023516 = Hilpda (hypoxia induced lipid droplet associated)isoform 1\n",
    "* NM_008361 = IL1beta\n",
    "* NM_001190461 = Hilpda isoform 2\n",
    "* NM_011267 = Rgs16 regulator of g protein signaling 16\n",
    "* NM_011459 = Serpinb8 serine or cysteine peptidase inhibitor clade B member 8"
   ]
  },
  {
   "cell_type": "code",
   "execution_count": 89,
   "metadata": {},
   "outputs": [],
   "source": [
    "rpkm_genes_raw = pd.read_csv(outdir + '/rnaseq_matrix_genes_rpkm.txt', sep='\\t')"
   ]
  },
  {
   "cell_type": "code",
   "execution_count": 98,
   "metadata": {},
   "outputs": [],
   "source": [
    "rpkm_genes_raw_k= hbUtils.df_col_subset(rpkm_genes_raw,\n",
    "        'chr|start|end|strand|Length|Copies|Annotation|.*Kupffer.*')\n",
    "rpkm_genes_raw_l= hbUtils.df_col_subset(rpkm_genes_raw,\n",
    "        'chr|start|end|strand|Length|Copies|Annotation|.*Liver.*')"
   ]
  },
  {
   "cell_type": "markdown",
   "metadata": {},
   "source": [
    "Interleukin 1-beta and Hilpda appear to be induced in balbc specifically compared to the other strains, which is an interesting finding"
   ]
  },
  {
   "cell_type": "code",
   "execution_count": 100,
   "metadata": {
    "scrolled": true
   },
   "outputs": [
    {
     "data": {
      "text/plain": [
       "<seaborn.axisgrid.FacetGrid at 0x7fc101f86828>"
      ]
     },
     "execution_count": 100,
     "metadata": {},
     "output_type": "execute_result"
    },
    {
     "data": {
      "image/png": "[encoded data removed]",
      "text/plain": [
       "<matplotlib.figure.Figure at 0x7fc101f86f60>"
      ]
     },
     "metadata": {},
     "output_type": "display_data"
    }
   ],
   "source": [
    "hbUtils.plot_gene_exp(rpkm_genes_raw_k, 'Hilpda|^il1b\\||^Rgs16|Serpinb8', plot_style='bar') # flags to remove the other genes that match"
   ]
  },
  {
   "cell_type": "code",
   "execution_count": 102,
   "metadata": {},
   "outputs": [
    {
     "data": {
      "text/plain": [
       "<seaborn.axisgrid.FacetGrid at 0x7fc0ecca0fd0>"
      ]
     },
     "execution_count": 102,
     "metadata": {},
     "output_type": "execute_result"
    },
    {
     "data": {
      "image/png": "[encoded data removed]",
      "text/plain": [
       "<matplotlib.figure.Figure at 0x7fc0ecca0e48>"
      ]
     },
     "metadata": {},
     "output_type": "display_data"
    }
   ],
   "source": [
    "hbUtils.plot_gene_exp(rpkm_genes_raw_l, 'Hilpda|^il1b\\||^Rgs16|Serpinb8', plot_style='bar') # flags to remove the other genes that match"
   ]
  },
  {
   "cell_type": "markdown",
   "metadata": {},
   "source": [
    "Since two hilpda isoforms came up lets look at them specifically"
   ]
  },
  {
   "cell_type": "code",
   "execution_count": 96,
   "metadata": {
    "scrolled": true
   },
   "outputs": [
    {
     "data": {
      "text/plain": [
       "<seaborn.axisgrid.FacetGrid at 0x7fc0eff20a90>"
      ]
     },
     "execution_count": 96,
     "metadata": {},
     "output_type": "execute_result"
    },
    {
     "data": {
      "image/png": "[encoded data removed]",
      "text/plain": [
       "<matplotlib.figure.Figure at 0x7fc0eff206d8>"
      ]
     },
     "metadata": {},
     "output_type": "display_data"
    }
   ],
   "source": [
    "importlib.reload(hbUtils)\n",
    "hbUtils.plot_gene_exp(rpkm_genes_raw_k, 'NM_023516|NM_001190461', by_refseq=True, plot_style='bar')"
   ]
  },
  {
   "cell_type": "markdown",
   "metadata": {},
   "source": [
    "#### looking at this i think that it makes sense to ignore the interaction term.\n",
    "However we should do our due diligence and see if its worth keeping both diet and strain?"
   ]
  },
  {
   "cell_type": "code",
   "execution_count": 222,
   "metadata": {},
   "outputs": [],
   "source": [
    "%%R -i counts_mat,col_data\n",
    "# load DESeq\n",
    "library(\"DESeq2\")\n",
    "\n",
    "#create DESeq2 object\n",
    "dds <- DESeqDataSetFromMatrix(countData = counts_mat,\n",
    "                             colData = col_data,\n",
    "                             design = ~ strain + diet)\n",
    "\n",
    "# adjust factors to ensure that we are comparing amln to control\n",
    "dds$diet <- factor(dds$diet, levels = c('control', 'amln'))\n",
    "dds$strain <- factor(dds$strain, levels = c('ncorwt', 'balbc', 'aj'))\n",
    "\n",
    "# run DESeq LRT to assess effect of strains on diet\n",
    "dds <- DESeq(dds, test=\"LRT\", reduced=~diet)\n",
    "res <- results(dds, alpha = 0.05)\n",
    "head(res)\n",
    "res_ordered <- res[order(res$padj), ]\n",
    "write.csv(as.data.frame(res_ordered), \n",
    "          file=paste0(outdir, \"/lrt_strainsdiet_vs_diet_deseq_results.txt\"))\n",
    "\n",
    "# run DESeq LRT to assess effect of strains on diet\n",
    "dds <- DESeq(dds, test=\"LRT\", reduced=~strain)\n",
    "res <- results(dds, alpha = 0.05)\n",
    "head(res)\n",
    "res_ordered <- res[order(res$padj), ]\n",
    "write.csv(as.data.frame(res_ordered), \n",
    "          file=paste0(outdir, \"/lrt_strainsdiet_vs_strains_deseq_results.txt\"))"
   ]
  },
  {
   "cell_type": "markdown",
   "metadata": {},
   "source": [
    "How many are padj < 0.05? unsure of how to interpret a positive(?) result of the LRT."
   ]
  },
  {
   "cell_type": "code",
   "execution_count": 18,
   "metadata": {},
   "outputs": [],
   "source": [
    "diet_only = pd.read_csv(outdir + '/lrt_strainsdiet_vs_diet_deseq_results.txt')\n",
    "strains_only = pd.read_csv(outdir + '/lrt_strainsdiet_vs_strains_deseq_results.txt')"
   ]
  },
  {
   "cell_type": "code",
   "execution_count": 44,
   "metadata": {},
   "outputs": [
    {
     "data": {
      "text/plain": [
       "False    31774\n",
       "True      3971\n",
       "Name: baseMean, dtype: int64"
      ]
     },
     "execution_count": 44,
     "metadata": {},
     "output_type": "execute_result"
    }
   ],
   "source": [
    "(diet_only.baseMean == 0).value_counts()"
   ]
  },
  {
   "cell_type": "code",
   "execution_count": 51,
   "metadata": {},
   "outputs": [
    {
     "data": {
      "text/plain": [
       "False    26605\n",
       "True      9140\n",
       "Name: padj, dtype: int64"
      ]
     },
     "execution_count": 51,
     "metadata": {},
     "output_type": "execute_result"
    }
   ],
   "source": [
    "(diet_only.padj < 0.05).value_counts()"
   ]
  },
  {
   "cell_type": "code",
   "execution_count": 50,
   "metadata": {},
   "outputs": [
    {
     "data": {
      "text/plain": [
       "False    26605\n",
       "True      9140\n",
       "dtype: int64"
      ]
     },
     "execution_count": 50,
     "metadata": {},
     "output_type": "execute_result"
    }
   ],
   "source": [
    "((diet_only.padj < 0.05) & (diet_only.baseMean != 0)).value_counts()"
   ]
  },
  {
   "cell_type": "markdown",
   "metadata": {},
   "source": [
    "^ The above result suggests that our model of the data changes significantly (~29% of expressed genes are significantly different when fit by diet + strains compared to just diet"
   ]
  },
  {
   "cell_type": "code",
   "execution_count": 59,
   "metadata": {},
   "outputs": [
    {
     "data": {
      "text/plain": [
       "True     31774\n",
       "False     3971\n",
       "Name: baseMean, dtype: int64"
      ]
     },
     "execution_count": 59,
     "metadata": {},
     "output_type": "execute_result"
    }
   ],
   "source": [
    "(strains_only.baseMean != 0).value_counts()"
   ]
  },
  {
   "cell_type": "code",
   "execution_count": 54,
   "metadata": {},
   "outputs": [
    {
     "data": {
      "text/plain": [
       "False    34706\n",
       "True      1039\n",
       "Name: padj, dtype: int64"
      ]
     },
     "execution_count": 54,
     "metadata": {},
     "output_type": "execute_result"
    }
   ],
   "source": [
    "(strains_only.padj < 0.05).value_counts()"
   ]
  },
  {
   "cell_type": "code",
   "execution_count": 53,
   "metadata": {},
   "outputs": [
    {
     "data": {
      "text/plain": [
       "False    34706\n",
       "True      1039\n",
       "dtype: int64"
      ]
     },
     "execution_count": 53,
     "metadata": {},
     "output_type": "execute_result"
    }
   ],
   "source": [
    "((strains_only.padj < 0.05) & (strains_only.baseMean != 0)).value_counts()"
   ]
  },
  {
   "cell_type": "markdown",
   "metadata": {},
   "source": [
    "^ strains+diet vs strains, by contrast, only about 3.5% of the expressed genes are modeled differently when fit by strains and diet compared to only strains"
   ]
  },
  {
   "cell_type": "code",
   "execution_count": 33,
   "metadata": {},
   "outputs": [],
   "source": [
    "def get_intersect(set1, set2):\n",
    "    return list(set(set1) & set(set2))"
   ]
  },
  {
   "cell_type": "code",
   "execution_count": 36,
   "metadata": {
    "scrolled": true
   },
   "outputs": [
    {
     "data": {
      "text/plain": [
       "703"
      ]
     },
     "execution_count": 36,
     "metadata": {},
     "output_type": "execute_result"
    }
   ],
   "source": [
    "len(get_intersect(diet_only.loc[diet_only.padj <= 0.05, 'Unnamed: 0'],\n",
    "          strains_only.loc[strains_only.padj <= 0.05, 'Unnamed: 0']))"
   ]
  },
  {
   "cell_type": "markdown",
   "metadata": {},
   "source": [
    "so about 70% of the differentially fit genes with strains vs strains only are shared with diet vs diet only. maybe these ones are uniquely captured by considering both...? But its not only additive. we get ~9000 sig genes when we add diet information to the strains but only ~1000 genes when we add strains to the diet."
   ]
  },
  {
   "cell_type": "code",
   "execution_count": null,
   "metadata": {},
   "outputs": [],
   "source": [
    "%%R -i counts_mat,col_data\n",
    "# load DESeq\n",
    "library(\"DESeq2\")\n",
    "\n",
    "#create DESeq2 object\n",
    "dds <- DESeqDataSetFromMatrix(countData = counts_mat,\n",
    "                             colData = col_data,\n",
    "                             design = ~ strain + diet)\n",
    "\n",
    "# adjust factors to ensure that we are comparing amln to control\n",
    "dds$diet <- factor(dds$diet, levels = c('control', 'amln'))\n",
    "dds$strain <- factor(dds$strain, levels = c('ncorwt', 'balbc', 'aj'))\n",
    "dds$group <- factor(paste0(dds$strain, \"_\", dds$diet))\n",
    "\n",
    "\n",
    "# run DESeq with full model\n",
    "dds <- DESeq(dds)\n",
    "\n",
    "# diet effect for ncorwt\n",
    "res <- results(dds, contrast=c('group', 'ncorwt_amln', 'ncorwt_control'), alpha = 0.05)\n",
    "head(res)\n",
    "res_ordered <- res[order(res$padj), ]\n",
    "write.csv(as.data.frame(res_ordered), \n",
    "          file=paste0(outdir, \"/ncorwt_amln_deseq_results.txt\"))\n",
    "\n",
    "# diet effect for balbc\n",
    "res <- results(dds, contrast=c('group', 'balbc_amln', 'balbc_control') ), alpha = 0.05)\n",
    "head(res)\n",
    "res_ordered <- res[order(res$padj), ]\n",
    "write.csv(as.data.frame(res_ordered), \n",
    "          file=paste0(outdir, \"/balbc_amln_deseq_results.txt\"))\n",
    "\n",
    "# diet effect for aj\n",
    "res <- results(dds, contrast=c('group', 'aj_amln', 'aj_control'), alpha = 0.05)\n",
    "head(res)\n",
    "res_ordered <- res[order(res$padj), ]\n",
    "write.csv(as.data.frame(res_ordered), \n",
    "          file=paste0(outdir, \"/aj_amln_deseq_results.txt\"))\n",
    "\n",
    "# is balb response to diet different than ncorwt?\n",
    "res <- results(dds, contrast=c('group', 'balbc_amln', 'ncor_amln'), alpha = 0.05)\n",
    "head(res)\n",
    "res_ordered <- res[order(res$padj), ]\n",
    "write.csv(as.data.frame(res_ordered), \n",
    "          file=paste0(outdir, \"/balbc_ncorwt_amln_interaction_deseq_results.txt\"))\n",
    "\n",
    "# interaction term for condition effect between aj and ncorwt\n",
    "res <- results(dds, name='strainaj.dietamln', alpha = 0.05)\n",
    "head(res)\n",
    "res_ordered <- res[order(res$padj), ]\n",
    "write.csv(as.data.frame(res_ordered), \n",
    "          file=paste0(outdir, \"/aj_ncorwt_amln_interaction_deseq_results.txt\"))\n",
    "\n",
    "# interaction term for condition effect between balbc and aj\n",
    "res <- results(dds, contrast=list(\"strainbalbc.dietamln\", \"strainaj.dietamln\"), alpha = 0.05)\n",
    "head(res)\n",
    "res_ordered <- res[order(res$padj), ]\n",
    "write.csv(as.data.frame(res_ordered), \n",
    "          file=paste0(outdir, \"/balbc_aj_amln_interaction_deseq_results.txt\"))"
   ]
  },
  {
   "cell_type": "markdown",
   "metadata": {
    "collapsed": true
   },
   "source": [
    "#### lets look at pathway activity with just heatmaps (like in Buscher et al 2017)\n",
    "* fatty acid synthesis pathway\n",
    "* cholesterol export pathway\n",
    "* TLR pathway\n",
    "* NFkB pathway"
   ]
  },
  {
   "cell_type": "code",
   "execution_count": 82,
   "metadata": {
    "collapsed": true
   },
   "outputs": [],
   "source": [
    "tlr = pd.read_csv('/home/h1bennet/liverStrains/data/mouse/gsea_kegg_tlr.txt',\n",
    "                  sep='\\t', comment='>')"
   ]
  },
  {
   "cell_type": "code",
   "execution_count": 86,
   "metadata": {},
   "outputs": [
    {
     "ename": "TypeError",
     "evalue": "object of type 'float' has no len()",
     "output_type": "error",
     "traceback": [
      "\u001b[0;31m---------------------------------------------------------------------------\u001b[0m",
      "\u001b[0;31mTypeError\u001b[0m                                 Traceback (most recent call last)",
      "\u001b[0;32m<ipython-input-86-783165abb0d0>\u001b[0m in \u001b[0;36m<module>\u001b[0;34m()\u001b[0m\n\u001b[1;32m      1\u001b[0m \u001b[0;31m# import rpkm counts as output by annotateRepeats\u001b[0m\u001b[0;34m\u001b[0m\u001b[0;34m\u001b[0m\u001b[0m\n\u001b[1;32m      2\u001b[0m \u001b[0mrpkm2\u001b[0m \u001b[0;34m=\u001b[0m \u001b[0mpd\u001b[0m\u001b[0;34m.\u001b[0m\u001b[0mread_csv\u001b[0m\u001b[0;34m(\u001b[0m\u001b[0moutdir\u001b[0m \u001b[0;34m+\u001b[0m \u001b[0;34m'/rnaseq_matrix_genes_rpkm.txt'\u001b[0m\u001b[0;34m,\u001b[0m \u001b[0msep\u001b[0m\u001b[0;34m=\u001b[0m\u001b[0;34m'\\t'\u001b[0m\u001b[0;34m)\u001b[0m\u001b[0;34m\u001b[0m\u001b[0m\n\u001b[0;32m----> 3\u001b[0;31m \u001b[0mhbUtils\u001b[0m\u001b[0;34m.\u001b[0m\u001b[0mpathway_gene_heatmap\u001b[0m\u001b[0;34m(\u001b[0m\u001b[0mrpkm2\u001b[0m\u001b[0;34m,\u001b[0m \u001b[0mtlr\u001b[0m\u001b[0;34m)\u001b[0m\u001b[0;34m\u001b[0m\u001b[0m\n\u001b[0m",
      "\u001b[0;32m~/scripts/hbUtils.py\u001b[0m in \u001b[0;36mpathway_gene_heatmap\u001b[0;34m(df, gene_list)\u001b[0m\n\u001b[1;32m     21\u001b[0m \u001b[0;34m\u001b[0m\u001b[0m\n\u001b[1;32m     22\u001b[0m     \u001b[0mpattern\u001b[0m \u001b[0;34m=\u001b[0m \u001b[0;34mr'(^[A-Z]{2,6})_([A-Z]+).*_([A-Z]+)Diet.*_([A-Z0-9]+)Week'\u001b[0m\u001b[0;34m\u001b[0m\u001b[0m\n\u001b[0;32m---> 23\u001b[0;31m     \u001b[0mdiscrim\u001b[0m \u001b[0;34m=\u001b[0m \u001b[0mpd\u001b[0m\u001b[0;34m.\u001b[0m\u001b[0mDataFrame\u001b[0m\u001b[0;34m(\u001b[0m\u001b[0msamples\u001b[0m\u001b[0;34m.\u001b[0m\u001b[0mstr\u001b[0m\u001b[0;34m.\u001b[0m\u001b[0mfindall\u001b[0m\u001b[0;34m(\u001b[0m\u001b[0mpattern\u001b[0m\u001b[0;34m,\u001b[0m \u001b[0mflags\u001b[0m\u001b[0;34m=\u001b[0m\u001b[0mre\u001b[0m\u001b[0;34m.\u001b[0m\u001b[0mIGNORECASE\u001b[0m\u001b[0;34m)\u001b[0m\u001b[0;34m.\u001b[0m\u001b[0mstr\u001b[0m\u001b[0;34m[\u001b[0m\u001b[0;36m0\u001b[0m\u001b[0;34m]\u001b[0m\u001b[0;34m.\u001b[0m\u001b[0mtolist\u001b[0m\u001b[0;34m(\u001b[0m\u001b[0;34m)\u001b[0m\u001b[0;34m)\u001b[0m\u001b[0;34m\u001b[0m\u001b[0m\n\u001b[0m\u001b[1;32m     24\u001b[0m \u001b[0;34m\u001b[0m\u001b[0m\n\u001b[1;32m     25\u001b[0m     \u001b[0;31m# drop uninformative columns and label the\u001b[0m\u001b[0;34m\u001b[0m\u001b[0;34m\u001b[0m\u001b[0m\n",
      "\u001b[0;32m~/anaconda3/envs/rnaseq/lib/python3.6/site-packages/pandas/core/frame.py\u001b[0m in \u001b[0;36m__init__\u001b[0;34m(self, data, index, columns, dtype, copy)\u001b[0m\n\u001b[1;32m    312\u001b[0m                     \u001b[0;32mif\u001b[0m \u001b[0mis_named_tuple\u001b[0m\u001b[0;34m(\u001b[0m\u001b[0mdata\u001b[0m\u001b[0;34m[\u001b[0m\u001b[0;36m0\u001b[0m\u001b[0;34m]\u001b[0m\u001b[0;34m)\u001b[0m \u001b[0;32mand\u001b[0m \u001b[0mcolumns\u001b[0m \u001b[0;32mis\u001b[0m \u001b[0;32mNone\u001b[0m\u001b[0;34m:\u001b[0m\u001b[0;34m\u001b[0m\u001b[0m\n\u001b[1;32m    313\u001b[0m                         \u001b[0mcolumns\u001b[0m \u001b[0;34m=\u001b[0m \u001b[0mdata\u001b[0m\u001b[0;34m[\u001b[0m\u001b[0;36m0\u001b[0m\u001b[0;34m]\u001b[0m\u001b[0;34m.\u001b[0m\u001b[0m_fields\u001b[0m\u001b[0;34m\u001b[0m\u001b[0m\n\u001b[0;32m--> 314\u001b[0;31m                     \u001b[0marrays\u001b[0m\u001b[0;34m,\u001b[0m \u001b[0mcolumns\u001b[0m \u001b[0;34m=\u001b[0m \u001b[0m_to_arrays\u001b[0m\u001b[0;34m(\u001b[0m\u001b[0mdata\u001b[0m\u001b[0;34m,\u001b[0m \u001b[0mcolumns\u001b[0m\u001b[0;34m,\u001b[0m \u001b[0mdtype\u001b[0m\u001b[0;34m=\u001b[0m\u001b[0mdtype\u001b[0m\u001b[0;34m)\u001b[0m\u001b[0;34m\u001b[0m\u001b[0m\n\u001b[0m\u001b[1;32m    315\u001b[0m                     \u001b[0mcolumns\u001b[0m \u001b[0;34m=\u001b[0m \u001b[0m_ensure_index\u001b[0m\u001b[0;34m(\u001b[0m\u001b[0mcolumns\u001b[0m\u001b[0;34m)\u001b[0m\u001b[0;34m\u001b[0m\u001b[0m\n\u001b[1;32m    316\u001b[0m \u001b[0;34m\u001b[0m\u001b[0m\n",
      "\u001b[0;32m~/anaconda3/envs/rnaseq/lib/python3.6/site-packages/pandas/core/frame.py\u001b[0m in \u001b[0;36m_to_arrays\u001b[0;34m(data, columns, coerce_float, dtype)\u001b[0m\n\u001b[1;32m   5615\u001b[0m     \u001b[0;32mif\u001b[0m \u001b[0misinstance\u001b[0m\u001b[0;34m(\u001b[0m\u001b[0mdata\u001b[0m\u001b[0;34m[\u001b[0m\u001b[0;36m0\u001b[0m\u001b[0;34m]\u001b[0m\u001b[0;34m,\u001b[0m \u001b[0;34m(\u001b[0m\u001b[0mlist\u001b[0m\u001b[0;34m,\u001b[0m \u001b[0mtuple\u001b[0m\u001b[0;34m)\u001b[0m\u001b[0;34m)\u001b[0m\u001b[0;34m:\u001b[0m\u001b[0;34m\u001b[0m\u001b[0m\n\u001b[1;32m   5616\u001b[0m         return _list_to_arrays(data, columns, coerce_float=coerce_float,\n\u001b[0;32m-> 5617\u001b[0;31m                                dtype=dtype)\n\u001b[0m\u001b[1;32m   5618\u001b[0m     \u001b[0;32melif\u001b[0m \u001b[0misinstance\u001b[0m\u001b[0;34m(\u001b[0m\u001b[0mdata\u001b[0m\u001b[0;34m[\u001b[0m\u001b[0;36m0\u001b[0m\u001b[0;34m]\u001b[0m\u001b[0;34m,\u001b[0m \u001b[0mcollections\u001b[0m\u001b[0;34m.\u001b[0m\u001b[0mMapping\u001b[0m\u001b[0;34m)\u001b[0m\u001b[0;34m:\u001b[0m\u001b[0;34m\u001b[0m\u001b[0m\n\u001b[1;32m   5619\u001b[0m         return _list_of_dict_to_arrays(data, columns,\n",
      "\u001b[0;32m~/anaconda3/envs/rnaseq/lib/python3.6/site-packages/pandas/core/frame.py\u001b[0m in \u001b[0;36m_list_to_arrays\u001b[0;34m(data, columns, coerce_float, dtype)\u001b[0m\n\u001b[1;32m   5689\u001b[0m \u001b[0;32mdef\u001b[0m \u001b[0m_list_to_arrays\u001b[0m\u001b[0;34m(\u001b[0m\u001b[0mdata\u001b[0m\u001b[0;34m,\u001b[0m \u001b[0mcolumns\u001b[0m\u001b[0;34m,\u001b[0m \u001b[0mcoerce_float\u001b[0m\u001b[0;34m=\u001b[0m\u001b[0;32mFalse\u001b[0m\u001b[0;34m,\u001b[0m \u001b[0mdtype\u001b[0m\u001b[0;34m=\u001b[0m\u001b[0;32mNone\u001b[0m\u001b[0;34m)\u001b[0m\u001b[0;34m:\u001b[0m\u001b[0;34m\u001b[0m\u001b[0m\n\u001b[1;32m   5690\u001b[0m     \u001b[0;32mif\u001b[0m \u001b[0mlen\u001b[0m\u001b[0;34m(\u001b[0m\u001b[0mdata\u001b[0m\u001b[0;34m)\u001b[0m \u001b[0;34m>\u001b[0m \u001b[0;36m0\u001b[0m \u001b[0;32mand\u001b[0m \u001b[0misinstance\u001b[0m\u001b[0;34m(\u001b[0m\u001b[0mdata\u001b[0m\u001b[0;34m[\u001b[0m\u001b[0;36m0\u001b[0m\u001b[0;34m]\u001b[0m\u001b[0;34m,\u001b[0m \u001b[0mtuple\u001b[0m\u001b[0;34m)\u001b[0m\u001b[0;34m:\u001b[0m\u001b[0;34m\u001b[0m\u001b[0m\n\u001b[0;32m-> 5691\u001b[0;31m         \u001b[0mcontent\u001b[0m \u001b[0;34m=\u001b[0m \u001b[0mlist\u001b[0m\u001b[0;34m(\u001b[0m\u001b[0mlib\u001b[0m\u001b[0;34m.\u001b[0m\u001b[0mto_object_array_tuples\u001b[0m\u001b[0;34m(\u001b[0m\u001b[0mdata\u001b[0m\u001b[0;34m)\u001b[0m\u001b[0;34m.\u001b[0m\u001b[0mT\u001b[0m\u001b[0;34m)\u001b[0m\u001b[0;34m\u001b[0m\u001b[0m\n\u001b[0m\u001b[1;32m   5692\u001b[0m     \u001b[0;32melse\u001b[0m\u001b[0;34m:\u001b[0m\u001b[0;34m\u001b[0m\u001b[0m\n\u001b[1;32m   5693\u001b[0m         \u001b[0;31m# list of lists\u001b[0m\u001b[0;34m\u001b[0m\u001b[0;34m\u001b[0m\u001b[0m\n",
      "\u001b[0;32mpandas/_libs/src/inference.pyx\u001b[0m in \u001b[0;36mpandas._libs.lib.to_object_array_tuples (pandas/_libs/lib.c:67655)\u001b[0;34m()\u001b[0m\n",
      "\u001b[0;31mTypeError\u001b[0m: object of type 'float' has no len()"
     ]
    }
   ],
   "source": []
  },
  {
   "cell_type": "code",
   "execution_count": null,
   "metadata": {
    "collapsed": true
   },
   "outputs": [],
   "source": []
  }
 ],
 "metadata": {
  "kernelspec": {
   "display_name": "Python (deseq)",
   "language": "python",
   "name": "deseq"
  },
  "language_info": {
   "codemirror_mode": {
    "name": "ipython",
    "version": 3
   },
   "file_extension": ".py",
   "mimetype": "text/x-python",
   "name": "python",
   "nbconvert_exporter": "python",
   "pygments_lexer": "ipython3",
   "version": "3.6.3"
  }
 },
 "nbformat": 4,
 "nbformat_minor": 2
}
