{
 "cells": [
  {
   "cell_type": "markdown",
   "metadata": {},
   "source": [
    "Hunter Bennett  \n",
    "Glass Lab  \n",
    "Created 171127 | Last updated 171127  \n",
    "____________  \n",
    "This script examines the A/J and Balbc/J vcf files from the mouse genomes project  \n",
    "for mutations in LXR lipid processing pathwas"
   ]
  },
  {
   "cell_type": "markdown",
   "metadata": {},
   "source": [
    "### Load Packages"
   ]
  },
  {
   "cell_type": "code",
   "execution_count": 6,
   "metadata": {
    "collapsed": false
   },
   "outputs": [],
   "source": [
    "import pandas as pd\n",
    "import numpy as np\n",
    "import re\n",
    "# import hbUtils\n",
    "import os.path\n",
    "import subprocess\n",
    "%matplotlib inline"
   ]
  },
  {
   "cell_type": "code",
   "execution_count": 3,
   "metadata": {
    "collapsed": true
   },
   "outputs": [],
   "source": [
    "# set main directory so we can access data/scripts\n",
    "proj_dir = '/home/h1bennet/liverStrains/'"
   ]
  },
  {
   "cell_type": "markdown",
   "metadata": {},
   "source": [
    "#### Download mouse genome project files"
   ]
  },
  {
   "cell_type": "code",
   "execution_count": 36,
   "metadata": {
    "collapsed": false
   },
   "outputs": [],
   "source": [
    "mgp_url = 'ftp://ftp-mouse.sanger.ac.uk/current_snps/strain_specific_vcfs/'\n",
    "vcfs = ['BALB_cJ.mgp.v5.indels.dbSNP142.normed.vcf.gz',\n",
    "       'BALB_cJ.mgp.v5.snps.dbSNP142.vcf.gz',\n",
    "       'A_J.mgp.v5.indels.dbSNP142.normed.vcf.gz',\n",
    "       'A_J.mgp.v5.snps.dbSNP142.vcf.gz']\n",
    "\n",
    "for i in vcfs:\n",
    "    if not os.path.isfile(proj_dir + 'data/mouse/' + i):\n",
    "        subprocess.call(['wget', mgp_url + i])\n",
    "        subprocess.call(['mv', i, proj_dir + 'data/mouse/' + i])\n"
   ]
  },
  {
   "cell_type": "markdown",
   "metadata": {},
   "source": [
    "####"
   ]
  }
 ],
 "metadata": {
  "kernelspec": {
   "display_name": "Python 3",
   "language": "python",
   "name": "python3"
  },
  "language_info": {
   "codemirror_mode": {
    "name": "ipython",
    "version": 3
   },
   "file_extension": ".py",
   "mimetype": "text/x-python",
   "name": "python",
   "nbconvert_exporter": "python",
   "pygments_lexer": "ipython3",
   "version": "3.6.0"
  }
 },
 "nbformat": 4,
 "nbformat_minor": 2
}
