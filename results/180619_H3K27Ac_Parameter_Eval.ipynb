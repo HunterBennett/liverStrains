{
 "cells": [
  {
   "cell_type": "code",
   "execution_count": 10,
   "metadata": {},
   "outputs": [
    {
     "name": "stdout",
     "output_type": "stream",
     "text": [
      "The autoreload extension is already loaded. To reload it, use:\n",
      "  %reload_ext autoreload\n"
     ]
    }
   ],
   "source": [
    "### header ###\n",
    "__author__ = \"Hunter Bennett\"\n",
    "__license__ = \"BSD\"\n",
    "__email__ = \"hunter.r.bennett@gmail.com\"\n",
    "%load_ext autoreload\n",
    "%autoreload 2\n",
    "### imports ###\n",
    "import sys\n",
    "%matplotlib inline\n",
    "import os\n",
    "import re\n",
    "import pandas as pd\n",
    "import numpy as np\n",
    "import matplotlib\n",
    "import threading\n",
    "import matplotlib.pyplot as plt \n",
    "import seaborn as sns\n",
    "from collections import Counter\n",
    "matplotlib.rcParams['savefig.dpi'] = 200\n",
    "sys.setrecursionlimit(3000)\n",
    "import pickle\n",
    "from sklearn import preprocessing\n",
    "import time\n",
    "import inspect\n",
    "sns.set_context('talk')"
   ]
  },
  {
   "cell_type": "markdown",
   "metadata": {},
   "source": [
    "The goal of this script is to evaluate the parameters fit by running TBA with linear regression on H3K27Ac selected ATAC Signals"
   ]
  },
  {
   "cell_type": "markdown",
   "metadata": {},
   "source": [
    "### Set working directory"
   ]
  },
  {
   "cell_type": "code",
   "execution_count": 11,
   "metadata": {},
   "outputs": [],
   "source": [
    "workingDirectory = '/home/h1bennet/liverStrains/results/180522_H3K27Ac_TBA/'\n",
    "if not os.path.isdir(workingDirectory):\n",
    "    os.mkdir(workingDirectory)\n",
    "os.chdir(workingDirectory)"
   ]
  },
  {
   "cell_type": "code",
   "execution_count": 12,
   "metadata": {},
   "outputs": [],
   "source": [
    "import scipy\n",
    "import sklearn\n",
    "from sklearn import preprocessing\n",
    "from sklearn import linear_model\n",
    "from sklearn import cross_validation\n",
    "from sklearn.cross_validation import train_test_split"
   ]
  },
  {
   "cell_type": "code",
   "execution_count": 13,
   "metadata": {},
   "outputs": [],
   "source": [
    "tst_features = pd.read_csv('./tba_output/ncorwt_kupffertim4pos_control_0wk_peaks_features.tsv', sep='\\t', index_col=0)\n",
    "tst_labels = pd.read_csv('./tba_output/ncorwt_kupffertim4pos_control_0wk_peaks_labels.tsv', sep='\\t',\n",
    "                         index_col=0, header=None, names=['pos', 'h3k27ac'])\n",
    "tst_membership = pd.read_csv('./tba_output/ncorwt_kupffertim4pos_control_0wk_peaks_membership.tsv', sep='\\t',\n",
    "                            index_col=0, header=None, names=['pos', 'mem'])\n",
    "\n",
    "log2_labels = np.log(tst_labels + 1)\n",
    "log2_labels = log2_labels.loc[tst_features.index.values]"
   ]
  },
  {
   "cell_type": "code",
   "execution_count": 14,
   "metadata": {},
   "outputs": [
    {
     "data": {
      "text/plain": [
       "array([  6.63501253e+00,   3.56996522e+03,   3.74817209e+03,\n",
       "         4.42671488e+03,   4.28003050e+03,   1.73625494e+05,\n",
       "         1.14944398e+05,   4.51701014e+04,   2.60743778e+04,\n",
       "         2.95502886e+04,   4.35391634e+03])"
      ]
     },
     "execution_count": 14,
     "metadata": {},
     "output_type": "execute_result"
    }
   ],
   "source": [
    "var_b"
   ]
  },
  {
   "cell_type": "markdown",
   "metadata": {},
   "source": [
    "### Evaluate Different Parameters of Alpha"
   ]
  },
  {
   "cell_type": "code",
   "execution_count": 15,
   "metadata": {},
   "outputs": [
    {
     "name": "stderr",
     "output_type": "stream",
     "text": [
      "/home/h1bennet/anaconda3/envs/tba/lib/python3.5/site-packages/ipykernel_launcher.py:28: UserWarning: With alpha=0, this algorithm does not converge well. You are advised to use the LinearRegression estimator\n",
      "/home/h1bennet/anaconda3/envs/tba/lib/python3.5/site-packages/sklearn/linear_model/coordinate_descent.py:454: UserWarning: Coordinate descent with alpha=0 may lead to unexpected results and is discouraged.\n",
      "  positive)\n",
      "/home/h1bennet/anaconda3/envs/tba/lib/python3.5/site-packages/sklearn/linear_model/coordinate_descent.py:466: ConvergenceWarning: Objective did not converge. You might want to increase the number of iterations\n",
      "  ConvergenceWarning)\n"
     ]
    }
   ],
   "source": [
    "pearson = []\n",
    "coef = []\n",
    "for alpha in np.arange(0, 1, 0.05):\n",
    "\n",
    "    training_features, test_features, training_labels, test_labels = train_test_split(\n",
    "        tst_features,\n",
    "        log2_labels,\n",
    "        train_size=0.5)\n",
    "\n",
    "    scaler = preprocessing.StandardScaler()\n",
    "\n",
    "    # standardize training features\n",
    "    standardized_training_features = pd.DataFrame(scaler.fit_transform(training_features))\n",
    "    standardized_training_features.columns = training_features.columns.values\n",
    "    standardized_training_features.index = training_features.index.values\n",
    "\n",
    "    # standardize test features\n",
    "    standardized_test_features = pd.DataFrame(scaler.fit_transform(test_features))\n",
    "    standardized_test_features.columns = test_features.columns.values\n",
    "    standardized_test_features.index = test_features.index.values\n",
    "\n",
    "    #  Train affinity classifier\n",
    "#     classifier = sklearn.linear_model.LinearRegression(fit_intercept=False, normalize=False)\n",
    "    classifier = sklearn.linear_model.Lasso(alpha=alpha,\n",
    "                                            fit_intercept=False,\n",
    "                                            normalize=False,\n",
    "                                            max_iter=10**4)\n",
    "    classifier.fit(standardized_training_features, training_labels)\n",
    "    \n",
    "    if not (classifier.coef_ == 0).all():\n",
    "        predictions=classifier.predict(test_features)\n",
    "        r, p = scipy.stats.pearsonr(predictions.flatten(), test_labels.values.flatten())\n",
    "        pearson.append((alpha, r, p))\n",
    "        coef.append((alpha, classifier.coef_))"
   ]
  },
  {
   "cell_type": "markdown",
   "metadata": {},
   "source": [
    "### pearson r of correlation"
   ]
  },
  {
   "cell_type": "code",
   "execution_count": 16,
   "metadata": {},
   "outputs": [],
   "source": [
    "pearson_df = pd.DataFrame(pearson, columns=['alpha', 'r', 'pval'])"
   ]
  },
  {
   "cell_type": "code",
   "execution_count": 17,
   "metadata": {},
   "outputs": [
    {
     "data": {
      "text/plain": [
       "Text(0,0.5,'pearson r')"
      ]
     },
     "execution_count": 17,
     "metadata": {},
     "output_type": "execute_result"
    },
    {
     "data": {
      "image/png": "[encoded data removed]",
      "text/plain": [
       "<Figure size 432x288 with 1 Axes>"
      ]
     },
     "metadata": {},
     "output_type": "display_data"
    }
   ],
   "source": [
    "plt.scatter(pearson_df.alpha, pearson_df.r)\n",
    "plt.xlabel('alpha')\n",
    "plt.ylabel('pearson r')"
   ]
  },
  {
   "cell_type": "markdown",
   "metadata": {},
   "source": [
    "### Number of parameters fit by the model"
   ]
  },
  {
   "cell_type": "code",
   "execution_count": 18,
   "metadata": {},
   "outputs": [
    {
     "data": {
      "text/plain": [
       "Text(0,0.5,'N params')"
      ]
     },
     "execution_count": 18,
     "metadata": {},
     "output_type": "execute_result"
    },
    {
     "data": {
      "image/png": "[encoded data removed]",
      "text/plain": [
       "<Figure size 432x288 with 1 Axes>"
      ]
     },
     "metadata": {},
     "output_type": "display_data"
    }
   ],
   "source": [
    "n_param = []\n",
    "for alpha, coeffs in coef:\n",
    "    n_param.append(sum([1 if val != 0 else 0 for val in coeffs]))\n",
    "    \n",
    "plt.scatter(pearson_df.alpha, n_param)\n",
    "plt.xlabel('alpha')\n",
    "plt.ylabel('N params')"
   ]
  },
  {
   "cell_type": "code",
   "execution_count": 19,
   "metadata": {},
   "outputs": [
    {
     "data": {
      "text/plain": [
       "[431, 41, 11, 6, 4, 1, 1, 1]"
      ]
     },
     "execution_count": 19,
     "metadata": {},
     "output_type": "execute_result"
    }
   ],
   "source": [
    "n_param"
   ]
  },
  {
   "cell_type": "markdown",
   "metadata": {},
   "source": [
    "### Plot parameter distribution"
   ]
  },
  {
   "cell_type": "code",
   "execution_count": 20,
   "metadata": {},
   "outputs": [
    {
     "name": "stderr",
     "output_type": "stream",
     "text": [
      "/home/h1bennet/anaconda3/envs/tba/lib/python3.5/site-packages/matplotlib/axes/_axes.py:6462: UserWarning: The 'normed' kwarg is deprecated, and has been replaced by the 'density' kwarg.\n",
      "  warnings.warn(\"The 'normed' kwarg is deprecated, and has been \"\n"
     ]
    },
    {
     "data": {
      "text/plain": [
       "(-0.5, 0.5)"
      ]
     },
     "execution_count": 20,
     "metadata": {},
     "output_type": "execute_result"
    },
    {
     "data": {
      "image/png": "[encoded data removed]",
      "text/plain": [
       "<Figure size 432x288 with 1 Axes>"
      ]
     },
     "metadata": {},
     "output_type": "display_data"
    }
   ],
   "source": [
    "sns.distplot([val for val in coef[0][1] if val != 0], norm_hist=True, kde=False)\n",
    "sns.distplot([val for val in coef[1][1] if val != 0], norm_hist=True, kde=False)\n",
    "sns.distplot([val for val in coef[2][1] if val != 0], norm_hist=True, kde=False)\n",
    "sns.distplot([val for val in coef[3][1] if val != 0], norm_hist=True, kde=False)\n",
    "sns.distplot([val for val in coef[4][1] if val != 0], norm_hist=True, kde=False)\n",
    "\n",
    "plt.xlim(xmin=-0.5, xmax=0.5)"
   ]
  },
  {
   "cell_type": "markdown",
   "metadata": {},
   "source": [
    "### Look at TFs that have scores across at least four values of alpha"
   ]
  },
  {
   "cell_type": "code",
   "execution_count": 21,
   "metadata": {},
   "outputs": [],
   "source": [
    "coef_df = pd.DataFrame([coeff for a, coeff in coef],\n",
    "             index = ['%.2f' % a for a, coeff in coef],\n",
    "             columns = tst_features.columns.values).T"
   ]
  },
  {
   "cell_type": "code",
   "execution_count": 22,
   "metadata": {},
   "outputs": [
    {
     "data": {
      "text/html": [
       "<div>\n",
       "<style scoped>\n",
       "    .dataframe tbody tr th:only-of-type {\n",
       "        vertical-align: middle;\n",
       "    }\n",
       "\n",
       "    .dataframe tbody tr th {\n",
       "        vertical-align: top;\n",
       "    }\n",
       "\n",
       "    .dataframe thead th {\n",
       "        text-align: right;\n",
       "    }\n",
       "</style>\n",
       "<table border=\"1\" class=\"dataframe\">\n",
       "  <thead>\n",
       "    <tr style=\"text-align: right;\">\n",
       "      <th></th>\n",
       "      <th>0.00</th>\n",
       "      <th>0.05</th>\n",
       "      <th>0.10</th>\n",
       "      <th>0.15</th>\n",
       "      <th>0.20</th>\n",
       "      <th>0.25</th>\n",
       "      <th>0.30</th>\n",
       "      <th>0.35</th>\n",
       "    </tr>\n",
       "  </thead>\n",
       "  <tbody>\n",
       "    <tr>\n",
       "      <th>CREB-related_factors_1_merged</th>\n",
       "      <td>0.034189</td>\n",
       "      <td>0.022006</td>\n",
       "      <td>0.004123</td>\n",
       "      <td>0.000000</td>\n",
       "      <td>0.000000</td>\n",
       "      <td>0.000000</td>\n",
       "      <td>0.000000</td>\n",
       "      <td>0.000000</td>\n",
       "    </tr>\n",
       "    <tr>\n",
       "      <th>CTCF</th>\n",
       "      <td>-0.314263</td>\n",
       "      <td>-0.351293</td>\n",
       "      <td>-0.302658</td>\n",
       "      <td>-0.238613</td>\n",
       "      <td>-0.184619</td>\n",
       "      <td>-0.134482</td>\n",
       "      <td>-0.091092</td>\n",
       "      <td>-0.046349</td>\n",
       "    </tr>\n",
       "    <tr>\n",
       "      <th>E4F1</th>\n",
       "      <td>0.033125</td>\n",
       "      <td>0.038195</td>\n",
       "      <td>0.004628</td>\n",
       "      <td>0.000000</td>\n",
       "      <td>0.000000</td>\n",
       "      <td>0.000000</td>\n",
       "      <td>0.000000</td>\n",
       "      <td>0.000000</td>\n",
       "    </tr>\n",
       "    <tr>\n",
       "      <th>Gmeb1</th>\n",
       "      <td>0.035761</td>\n",
       "      <td>0.045893</td>\n",
       "      <td>0.054348</td>\n",
       "      <td>0.029045</td>\n",
       "      <td>0.000000</td>\n",
       "      <td>0.000000</td>\n",
       "      <td>0.000000</td>\n",
       "      <td>0.000000</td>\n",
       "    </tr>\n",
       "    <tr>\n",
       "      <th>HINFP</th>\n",
       "      <td>0.032336</td>\n",
       "      <td>0.034501</td>\n",
       "      <td>0.034152</td>\n",
       "      <td>0.030264</td>\n",
       "      <td>0.003980</td>\n",
       "      <td>0.000000</td>\n",
       "      <td>0.000000</td>\n",
       "      <td>0.000000</td>\n",
       "    </tr>\n",
       "    <tr>\n",
       "      <th>NRF1</th>\n",
       "      <td>0.062290</td>\n",
       "      <td>0.062229</td>\n",
       "      <td>0.053752</td>\n",
       "      <td>0.045700</td>\n",
       "      <td>0.023868</td>\n",
       "      <td>0.000000</td>\n",
       "      <td>0.000000</td>\n",
       "      <td>0.000000</td>\n",
       "    </tr>\n",
       "    <tr>\n",
       "      <th>SP2</th>\n",
       "      <td>0.025923</td>\n",
       "      <td>0.041736</td>\n",
       "      <td>0.027430</td>\n",
       "      <td>0.014960</td>\n",
       "      <td>0.000000</td>\n",
       "      <td>0.000000</td>\n",
       "      <td>0.000000</td>\n",
       "      <td>0.000000</td>\n",
       "    </tr>\n",
       "    <tr>\n",
       "      <th>Three-zinc_finger_Kruppel-related_factors_3_merged</th>\n",
       "      <td>0.013798</td>\n",
       "      <td>0.002929</td>\n",
       "      <td>0.012536</td>\n",
       "      <td>0.000000</td>\n",
       "      <td>0.000000</td>\n",
       "      <td>0.000000</td>\n",
       "      <td>0.000000</td>\n",
       "      <td>0.000000</td>\n",
       "    </tr>\n",
       "    <tr>\n",
       "      <th>ZBTB1</th>\n",
       "      <td>0.028804</td>\n",
       "      <td>0.008311</td>\n",
       "      <td>0.008560</td>\n",
       "      <td>0.000000</td>\n",
       "      <td>0.000000</td>\n",
       "      <td>0.000000</td>\n",
       "      <td>0.000000</td>\n",
       "      <td>0.000000</td>\n",
       "    </tr>\n",
       "    <tr>\n",
       "      <th>ZBTB33</th>\n",
       "      <td>0.036560</td>\n",
       "      <td>0.057595</td>\n",
       "      <td>0.063480</td>\n",
       "      <td>0.027921</td>\n",
       "      <td>0.002146</td>\n",
       "      <td>0.000000</td>\n",
       "      <td>0.000000</td>\n",
       "      <td>0.000000</td>\n",
       "    </tr>\n",
       "    <tr>\n",
       "      <th>ZNF32</th>\n",
       "      <td>-0.018267</td>\n",
       "      <td>-0.029303</td>\n",
       "      <td>-0.015047</td>\n",
       "      <td>-0.000000</td>\n",
       "      <td>-0.000000</td>\n",
       "      <td>-0.000000</td>\n",
       "      <td>-0.000000</td>\n",
       "      <td>-0.000000</td>\n",
       "    </tr>\n",
       "  </tbody>\n",
       "</table>\n",
       "</div>"
      ],
      "text/plain": [
       "                                                        0.00      0.05  \\\n",
       "CREB-related_factors_1_merged                       0.034189  0.022006   \n",
       "CTCF                                               -0.314263 -0.351293   \n",
       "E4F1                                                0.033125  0.038195   \n",
       "Gmeb1                                               0.035761  0.045893   \n",
       "HINFP                                               0.032336  0.034501   \n",
       "NRF1                                                0.062290  0.062229   \n",
       "SP2                                                 0.025923  0.041736   \n",
       "Three-zinc_finger_Kruppel-related_factors_3_merged  0.013798  0.002929   \n",
       "ZBTB1                                               0.028804  0.008311   \n",
       "ZBTB33                                              0.036560  0.057595   \n",
       "ZNF32                                              -0.018267 -0.029303   \n",
       "\n",
       "                                                        0.10      0.15  \\\n",
       "CREB-related_factors_1_merged                       0.004123  0.000000   \n",
       "CTCF                                               -0.302658 -0.238613   \n",
       "E4F1                                                0.004628  0.000000   \n",
       "Gmeb1                                               0.054348  0.029045   \n",
       "HINFP                                               0.034152  0.030264   \n",
       "NRF1                                                0.053752  0.045700   \n",
       "SP2                                                 0.027430  0.014960   \n",
       "Three-zinc_finger_Kruppel-related_factors_3_merged  0.012536  0.000000   \n",
       "ZBTB1                                               0.008560  0.000000   \n",
       "ZBTB33                                              0.063480  0.027921   \n",
       "ZNF32                                              -0.015047 -0.000000   \n",
       "\n",
       "                                                        0.20      0.25  \\\n",
       "CREB-related_factors_1_merged                       0.000000  0.000000   \n",
       "CTCF                                               -0.184619 -0.134482   \n",
       "E4F1                                                0.000000  0.000000   \n",
       "Gmeb1                                               0.000000  0.000000   \n",
       "HINFP                                               0.003980  0.000000   \n",
       "NRF1                                                0.023868  0.000000   \n",
       "SP2                                                 0.000000  0.000000   \n",
       "Three-zinc_finger_Kruppel-related_factors_3_merged  0.000000  0.000000   \n",
       "ZBTB1                                               0.000000  0.000000   \n",
       "ZBTB33                                              0.002146  0.000000   \n",
       "ZNF32                                              -0.000000 -0.000000   \n",
       "\n",
       "                                                        0.30      0.35  \n",
       "CREB-related_factors_1_merged                       0.000000  0.000000  \n",
       "CTCF                                               -0.091092 -0.046349  \n",
       "E4F1                                                0.000000  0.000000  \n",
       "Gmeb1                                               0.000000  0.000000  \n",
       "HINFP                                               0.000000  0.000000  \n",
       "NRF1                                                0.000000  0.000000  \n",
       "SP2                                                 0.000000  0.000000  \n",
       "Three-zinc_finger_Kruppel-related_factors_3_merged  0.000000  0.000000  \n",
       "ZBTB1                                               0.000000  0.000000  \n",
       "ZBTB33                                              0.000000  0.000000  \n",
       "ZNF32                                              -0.000000 -0.000000  "
      ]
     },
     "execution_count": 22,
     "metadata": {},
     "output_type": "execute_result"
    }
   ],
   "source": [
    "coef_df.loc[(coef_df != 0).sum(1) > 2, :]"
   ]
  },
  {
   "cell_type": "code",
   "execution_count": 23,
   "metadata": {},
   "outputs": [],
   "source": [
    "pearson_ridge = []\n",
    "coef_ridge = []\n",
    "for alpha in np.arange(0, 1, 0.05):\n",
    "\n",
    "    training_features, test_features, training_labels, test_labels = train_test_split(\n",
    "        tst_features,\n",
    "        log2_labels,\n",
    "        train_size=0.5)\n",
    "\n",
    "    scaler = preprocessing.StandardScaler()\n",
    "\n",
    "    # standardize training features\n",
    "    standardized_training_features = pd.DataFrame(scaler.fit_transform(training_features))\n",
    "    standardized_training_features.columns = training_features.columns.values\n",
    "    standardized_training_features.index = training_features.index.values\n",
    "\n",
    "    # standardize test features\n",
    "    standardized_test_features = pd.DataFrame(scaler.fit_transform(test_features))\n",
    "    standardized_test_features.columns = test_features.columns.values\n",
    "    standardized_test_features.index = test_features.index.values\n",
    "\n",
    "    #  Train affinity classifier\n",
    "#     classifier = sklearn.linear_model.LinearRegression(fit_intercept=False, normalize=False)\n",
    "    classifier = sklearn.linear_model.Ridge(alpha=alpha,\n",
    "                                            fit_intercept=False,\n",
    "                                            normalize=False,\n",
    "                                            max_iter=10**4)\n",
    "    classifier.fit(standardized_training_features, training_labels)\n",
    "    \n",
    "    if not (classifier.coef_ == 0).all():\n",
    "        predictions=classifier.predict(test_features)\n",
    "        r, p = scipy.stats.pearsonr(predictions.flatten(), test_labels.values.flatten())\n",
    "        pearson_ridge.append((alpha, r, p))\n",
    "        coef_ridge.append((alpha, classifier.coef_))"
   ]
  },
  {
   "cell_type": "code",
   "execution_count": 24,
   "metadata": {},
   "outputs": [
    {
     "data": {
      "text/plain": [
       "Text(0,0.5,'pearson r')"
      ]
     },
     "execution_count": 24,
     "metadata": {},
     "output_type": "execute_result"
    },
    {
     "data": {
      "image/png": "[encoded data removed]",
      "text/plain": [
       "<Figure size 432x288 with 1 Axes>"
      ]
     },
     "metadata": {},
     "output_type": "display_data"
    }
   ],
   "source": [
    "pearson_df = pd.DataFrame(pearson_ridge, columns=['alpha', 'r', 'pval'])\n",
    "plt.scatter(pearson_df.alpha, pearson_df.r)\n",
    "plt.xlabel('alpha')\n",
    "plt.ylabel('pearson r')"
   ]
  },
  {
   "cell_type": "code",
   "execution_count": 25,
   "metadata": {},
   "outputs": [
    {
     "name": "stderr",
     "output_type": "stream",
     "text": [
      "/home/h1bennet/anaconda3/envs/tba/lib/python3.5/site-packages/matplotlib/axes/_axes.py:6462: UserWarning: The 'normed' kwarg is deprecated, and has been replaced by the 'density' kwarg.\n",
      "  warnings.warn(\"The 'normed' kwarg is deprecated, and has been \"\n"
     ]
    },
    {
     "data": {
      "text/plain": [
       "(-0.5, 0.5)"
      ]
     },
     "execution_count": 25,
     "metadata": {},
     "output_type": "execute_result"
    },
    {
     "data": {
      "image/png": "[encoded data removed]",
      "text/plain": [
       "<Figure size 432x288 with 1 Axes>"
      ]
     },
     "metadata": {},
     "output_type": "display_data"
    }
   ],
   "source": [
    "sns.distplot([val for val in coef_ridge[0][1].flatten() if val != 0], norm_hist=True, kde=False)\n",
    "sns.distplot([val for val in coef_ridge[1][1].flatten() if val != 0], norm_hist=True, kde=False)\n",
    "sns.distplot([val for val in coef_ridge[2][1].flatten() if val != 0], norm_hist=True, kde=False)\n",
    "sns.distplot([val for val in coef_ridge[3][1].flatten() if val != 0], norm_hist=True, kde=False)\n",
    "sns.distplot([val for val in coef_ridge[4][1].flatten() if val != 0], norm_hist=True, kde=False)\n",
    "\n",
    "plt.xlim(xmin=-0.5, xmax=0.5)"
   ]
  },
  {
   "cell_type": "markdown",
   "metadata": {},
   "source": [
    "### Explore ElasticNet - both alpha and l1 ratio"
   ]
  },
  {
   "cell_type": "code",
   "execution_count": null,
   "metadata": {},
   "outputs": [],
   "source": []
  },
  {
   "cell_type": "code",
   "execution_count": null,
   "metadata": {},
   "outputs": [],
   "source": []
  }
 ],
 "metadata": {
  "kernelspec": {
   "display_name": "Python (tba)",
   "language": "python",
   "name": "tba"
  },
  "language_info": {
   "codemirror_mode": {
    "name": "ipython",
    "version": 3
   },
   "file_extension": ".py",
   "mimetype": "text/x-python",
   "name": "python",
   "nbconvert_exporter": "python",
   "pygments_lexer": "ipython3",
   "version": "3.5.5"
  }
 },
 "nbformat": 4,
 "nbformat_minor": 2
}
